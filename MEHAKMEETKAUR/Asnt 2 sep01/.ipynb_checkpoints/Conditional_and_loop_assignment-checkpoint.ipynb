{
 "cells": [
  {
   "cell_type": "markdown",
   "metadata": {
    "colab_type": "text",
    "id": "wNRNTbrsc53d"
   },
   "source": [
    "# If - elif - else statement"
   ]
  },
  {
   "cell_type": "code",
   "execution_count": 4,
   "metadata": {
    "colab": {},
    "colab_type": "code",
    "id": "MiPfTnBycxNa"
   },
   "outputs": [
    {
     "name": "stdout",
     "output_type": "stream",
     "text": [
      "Enter number: 33\n",
      "number is outside of the range\n"
     ]
    }
   ],
   "source": [
    "#W. A P. which takes one number from 0 to 9 from the user and prints it in the word. And if the word is not from 0 to 9 then\n",
    "#it should print that number is outside of the range and program should exit.\n",
    "# For exapmple:- \n",
    "# input = 1\n",
    "# output = one\n",
    "\n",
    "num = int(input(\"Enter number: \"))\n",
    "\n",
    "if num == 1:\n",
    "    print(\"one\")\n",
    "elif num == 2:\n",
    "    print(\"two\")\n",
    "elif num == 3:\n",
    "    print(\"three\")\n",
    "elif num == 4:\n",
    "    print(\"four\")\n",
    "elif num == 5:\n",
    "    print(\"five\")\n",
    "elif num == 6:\n",
    "    print(\"six\")\n",
    "elif num == 7:\n",
    "    print(\"seven\")\n",
    "elif num == 8:\n",
    "    print(\"eight\")    \n",
    "elif num == 9:\n",
    "    print(\"nine\")\n",
    "else:\n",
    "    print(\"number is outside of the range\")\n",
    "    exit()"
   ]
  },
  {
   "cell_type": "code",
   "execution_count": 11,
   "metadata": {
    "colab": {},
    "colab_type": "code",
    "id": "vEMNOv9zdA39"
   },
   "outputs": [
    {
     "name": "stdout",
     "output_type": "stream",
     "text": [
      "Enter first number: 2\n",
      "Enter second number: 3\n",
      "Please select any one operation from below:-\n",
      "To add enter 1 \n",
      "To subtract enter 2\n",
      "To multiply enter 3\n",
      "To divide enter 4\n",
      "To divide and find quotient enter 5\n",
      "To divide and find remainder enter 6\n",
      "To divide and find num1 to the power of num2 enter 7\n",
      "To Come out of the program enter 8\n",
      "\n",
      "7\n",
      "\n",
      "To the power of:  8\n"
     ]
    }
   ],
   "source": [
    "#W. A P. to implement calculator but the operation to be done and two numbers will be taken as input from user:-\n",
    "#Operation console should show below:-\n",
    "#     Please select any one operation from below:-\n",
    "#         * To add enter 1\n",
    "#         * to subtract enter 2\n",
    "#         * To multiply enter 3\n",
    "#         * To divide enter 4\n",
    "#         * To divide and find quotient enter 5\n",
    "#         * To divide and find remainder enter 6\n",
    "#         * To divide and find num1 to the power of num2 enter 7\n",
    "#         * To Come out of the program enter 8\n",
    "\n",
    "\n",
    "num1 = int(input(\"Enter first number: \"))\n",
    "num2 = int(input(\"Enter second number: \"))\n",
    "\n",
    "operation = int(input(\n",
    "'''Please select any one operation from below:-\n",
    "To add enter 1 \n",
    "To subtract enter 2\n",
    "To multiply enter 3\n",
    "To divide enter 4\n",
    "To divide and find quotient enter 5\n",
    "To divide and find remainder enter 6\n",
    "To divide and find num1 to the power of num2 enter 7\n",
    "To Come out of the program enter 8\n",
    "\n",
    "'''))\n",
    "print()\n",
    "\n",
    "if operation == 1:\n",
    "    print(\"Addition: \",num1 + num2)\n",
    "elif operation == 2:\n",
    "    print(\"Subtraction: \",num1-num2)\n",
    "elif operation == 3:\n",
    "    print(\"Multiplication: \",num1*num2)\n",
    "elif operation == 4:\n",
    "    print(\"Division: \",num1 / num2)\n",
    "elif operation == 5:\n",
    "    print(\"Quotient: \",num1 // num2)\n",
    "elif operation == 6:\n",
    "    print(\"Remainder: \",num1 % num2)\n",
    "elif operation == 7:\n",
    "    print(\"To the power of: \",num1**num2)\n",
    "elif operation == 8:\n",
    "    exit()\n"
   ]
  },
  {
   "cell_type": "code",
   "execution_count": 14,
   "metadata": {
    "colab": {},
    "colab_type": "code",
    "id": "1e2gwYLqdC1s"
   },
   "outputs": [
    {
     "name": "stdout",
     "output_type": "stream",
     "text": [
      "Enter Year: 1971\n",
      "Non-Leap Year\n"
     ]
    }
   ],
   "source": [
    "#W A P to check whether a year entered by user is an leap year or not?\n",
    "#Check with below input:-\n",
    "    #leap year:- 2012, 1968, 2004, 1200, 1600,2400\n",
    "    #Non-lear year:- 1971, 2006, 1700,1800,1900\n",
    "    \n",
    "year = int(input(\"Enter Year: \"))\n",
    "\n",
    "if year%4 == 0:\n",
    "    print(\"Leap Year\")\n",
    "else:\n",
    "    print(\"Non-Leap Year\")"
   ]
  },
  {
   "cell_type": "code",
   "execution_count": 16,
   "metadata": {
    "colab": {},
    "colab_type": "code",
    "id": "_tpXv1EtdEre"
   },
   "outputs": [
    {
     "name": "stdout",
     "output_type": "stream",
     "text": [
      "Enter Number: 4\n",
      "\n",
      "4  is even number\n"
     ]
    }
   ],
   "source": [
    "#W A P which takes one number from the user and checks whether it is an even or odd number?, If it even then prints number is \n",
    "#even number else prints that number is odd number.\n",
    "\n",
    "num = int(input(\"Enter Number: \"))\n",
    "print()\n",
    "if num%2 == 0:\n",
    "    print(num, \" is even number\")\n",
    "else:\n",
    "    print(num, \" is odd number\")\n"
   ]
  },
  {
   "cell_type": "code",
   "execution_count": 32,
   "metadata": {
    "colab": {},
    "colab_type": "code",
    "id": "Q1HumymCdG6i"
   },
   "outputs": [
    {
     "name": "stdout",
     "output_type": "stream",
     "text": [
      "Enter first number: 4\n",
      "Enter second number: 5\n",
      "num2 is greater than num1\n"
     ]
    }
   ],
   "source": [
    "#W A P which takes two numbers from the user and prints below output:-\n",
    "#     1. num1 is greater than num2 if num1 is greater than num2\n",
    "#     2. num1 is smaller than num2 if num1 is smaller than num2\n",
    "#     3. num1 is equal to num2 if num1 and num2 are equal\n",
    "\n",
    "#Note:- 1. Do this problem using if - else \n",
    "#       2. Do this using ternary operator\n",
    "\n",
    "num1 = int(input(\"Enter first number: \"))\n",
    "num2 = int(input(\"Enter second number: \"))\n",
    "\n",
    "\n",
    "print(\"num1 is greater than num2\" if num1 > num2 else \"num2 is greater than num1\" if num2 > num1 else \"num1 is equal to num2\")"
   ]
  },
  {
   "cell_type": "code",
   "execution_count": 37,
   "metadata": {
    "colab": {},
    "colab_type": "code",
    "id": "LR6TVB-DdOPf"
   },
   "outputs": [
    {
     "name": "stdout",
     "output_type": "stream",
     "text": [
      "Enter first number: 6\n",
      "Enter second number: 7\n",
      "Enter third number: 2\n"
     ]
    },
    {
     "data": {
      "text/plain": [
       "'num2 is greater than num1 and num3'"
      ]
     },
     "execution_count": 37,
     "metadata": {},
     "output_type": "execute_result"
    }
   ],
   "source": [
    "#W A P which takes three numbers from the user and prints below output:-\n",
    "#     1. num1 is greater than num2 and num3 if num1 is greater than num2 and num3\n",
    "#     2. num2 is greater than num1 and num3 if num2 is greater than num1 and num3\n",
    "#     3. num3 is greater than num1 and num2 if num3 is greater than num1 and num2\n",
    "\n",
    "#Note:- 1. Do this problem using if - elif - else \n",
    "#       2. Do this using ternary operator\n",
    "\n",
    "# a = a if a>b else b\n",
    "\n",
    "\n",
    "num1 = int(input(\"Enter first number: \"))\n",
    "num2 = int(input(\"Enter second number: \"))\n",
    "num3 = int(input(\"Enter third number: \"))\n",
    "\n",
    "\"num1 is greater than num2 and num3\" if num1>num2 and num1>num3 else \"num2 is greater than num1 and num3\" if num2>num3 else \"num3 is greater than num1 and num2\"\n"
   ]
  },
  {
   "cell_type": "markdown",
   "metadata": {
    "colab_type": "text",
    "id": "IoOLQMUGdSox"
   },
   "source": [
    "# Loops - for loop, while loop"
   ]
  },
  {
   "cell_type": "code",
   "execution_count": 38,
   "metadata": {
    "colab": {},
    "colab_type": "code",
    "id": "9K23Uld8dQfA"
   },
   "outputs": [
    {
     "name": "stdout",
     "output_type": "stream",
     "text": [
      "55\n"
     ]
    }
   ],
   "source": [
    "#Write a Python program to find the length of the my_str using loop:-\n",
    "\n",
    "#Input:- 'Write a Python program to find the length of the my_str'\n",
    "#Output:- 55\n",
    "\n",
    "x = 'Write a Python program to find the length of the my_str'\n",
    "count = 0\n",
    "for i in x:\n",
    "    count +=1 \n",
    "    \n",
    "print(count)"
   ]
  },
  {
   "cell_type": "code",
   "execution_count": 40,
   "metadata": {
    "colab": {},
    "colab_type": "code",
    "id": "bp6AcqTsdYxy"
   },
   "outputs": [
    {
     "name": "stdout",
     "output_type": "stream",
     "text": [
      "9\n"
     ]
    }
   ],
   "source": [
    "#Write a Python program to find the total number of times letter \n",
    "# 'p' is appeared in the below string using loop:-\n",
    "    \n",
    "#Input:- 'peter piper picked a peck of pickled peppers.\\n'\n",
    "#Output:- 9\n",
    "\n",
    "x = 'peter piper picked a peck of pickled peppers.\\n'\n",
    "count = 0\n",
    "for i in x:\n",
    "    if i == 'p':\n",
    "        count+=1\n",
    "\n",
    "print(count)"
   ]
  },
  {
   "cell_type": "code",
   "execution_count": 41,
   "metadata": {
    "colab": {},
    "colab_type": "code",
    "id": "xvxSBhTJdav1"
   },
   "outputs": [
    {
     "name": "stdout",
     "output_type": "stream",
     "text": [
      "0\n",
      "6\n",
      "8\n",
      "12\n",
      "21\n",
      "29\n",
      "37\n",
      "39\n",
      "40\n"
     ]
    }
   ],
   "source": [
    "#Write a Python Program, to print all the indexes of all occurences of letter \n",
    "# 'p' appeared in the string using loop:-\n",
    "    \n",
    "#Input:- 'peter piper picked a peck of pickled peppers.'\n",
    "#Output:- \n",
    "# 0\n",
    "# 6\n",
    "# 8\n",
    "# 12\n",
    "# 21\n",
    "# 29\n",
    "# 37\n",
    "# 39\n",
    "# 40\n",
    "\n",
    "x = 'peter piper picked a peck of pickled peppers.'\n",
    "\n",
    "for i in range(len(x)):\n",
    "    if x[i] == 'p':\n",
    "        print(i)\n",
    "        "
   ]
  },
  {
   "cell_type": "code",
   "execution_count": 43,
   "metadata": {
    "colab": {},
    "colab_type": "code",
    "id": "79L_feMadbmw"
   },
   "outputs": [
    {
     "name": "stdout",
     "output_type": "stream",
     "text": [
      "['peter', 'piper', 'picked', 'a', 'peck', 'of', 'pickled']\n"
     ]
    }
   ],
   "source": [
    "#Write a python program to find below output using loop:-\n",
    "\n",
    "#Input:- 'peter piper picked a peck of pickled peppers.'\n",
    "#Output:- ['peter', 'piper', 'picked', 'a', 'peck', 'of', 'pickled', 'peppers']\n",
    "\n",
    "\n",
    "x = 'peter piper picked a peck of pickled peppers.'\n",
    "\n",
    "y = []\n",
    "s = ''\n",
    "\n",
    "for i in x:\n",
    "    if i == ' ':\n",
    "        y.append(s)\n",
    "        s = ''\n",
    "    else:\n",
    "        s += i\n",
    "\n",
    "\n",
    "print(y)"
   ]
  },
  {
   "cell_type": "code",
   "execution_count": 78,
   "metadata": {
    "colab": {},
    "colab_type": "code",
    "id": "vzs5AJ53deVS"
   },
   "outputs": [
    {
     "name": "stdout",
     "output_type": "stream",
     "text": [
      "peppers pickled of peck a picked piper peter \n"
     ]
    }
   ],
   "source": [
    "#Write a python program to find below output using loop:-\n",
    "\n",
    "#Input:- 'peter piper picked a peck of pickled peppers.'\n",
    "#Output:- 'peppers pickled of peck a picked piper peter'\n",
    "\n",
    "x = 'peter piper picked a peck of pickled peppers'\n",
    "y = x.split()       \n",
    "for i in range(len(y)//2):\n",
    "    temp = y[i]\n",
    "    y[i] = y[len(y)-i-1]\n",
    "    y[len(y)-i-1] = temp\n",
    "\n",
    "\n",
    "result = ''\n",
    "for i in y:\n",
    "    result += i\n",
    "    result += ' '\n",
    "print(result)"
   ]
  },
  {
   "cell_type": "code",
   "execution_count": 122,
   "metadata": {
    "colab": {},
    "colab_type": "code",
    "id": "i-HP7DrCdhwS"
   },
   "outputs": [
    {
     "name": "stdout",
     "output_type": "stream",
     "text": [
      ".sreppep delkcip fo kcep a dekcip repip retep \n"
     ]
    }
   ],
   "source": [
    "#Write a python program to find below output using loop:-\n",
    "\n",
    "#Input:- 'peter piper picked a peck of pickled peppers.'\n",
    "#Output:- '.sreppep delkcip fo kcep a dekcip repip retep'\n",
    "\n",
    "x = 'peter piper picked a peck of pickled peppers.'\n",
    "y = x.split()\n",
    "for i in range(len(y)//2):\n",
    "    temp1 = y[i][::-1]\n",
    "    y[i] = y[len(y)-i-1][::-1]\n",
    "    y[len(y)-i-1] = temp1\n",
    "\n",
    "result = ''\n",
    "for i in y:\n",
    "    result += i\n",
    "    result += ' '\n",
    "print(result)\n",
    "\n",
    "#Output:- '.sreppep delkcip fo kcep a dekcip repip retep'\n"
   ]
  },
  {
   "cell_type": "code",
   "execution_count": 116,
   "metadata": {
    "colab": {},
    "colab_type": "code",
    "id": "3rt6p0ytdkq0"
   },
   "outputs": [
    {
     "name": "stdout",
     "output_type": "stream",
     "text": [
      "retep repip dekcip a kcep fo delkcip sreppep\n"
     ]
    }
   ],
   "source": [
    "#Write a python program to find below output using loop:-\n",
    "\n",
    "#Input:- 'peter piper picked a peck of pickled peppers.'\n",
    "#Output:- 'retep repip dekcip a kcep fo delkcip sreppep'\n",
    "x = 'peter piper picked a peck of pickled peppers'\n",
    "x1 = ''\n",
    "y = ''\n",
    "temp = ''\n",
    "\n",
    "for i in x:\n",
    "    if i == ' ':\n",
    "        temp = x1[::-1]\n",
    "        y += temp + ' '\n",
    "        x1 = ''\n",
    "    else:\n",
    "        x1+=i\n",
    "temp = x1[::-1]\n",
    "y+=temp\n",
    "\n",
    "print(y)\n",
    "#Output:- 'retep repip dekcip a kcep fo delkcip sreppep'"
   ]
  },
  {
   "cell_type": "code",
   "execution_count": 120,
   "metadata": {
    "colab": {},
    "colab_type": "code",
    "id": "HdlAWgT2dnKO"
   },
   "outputs": [
    {
     "name": "stdout",
     "output_type": "stream",
     "text": [
      "Peter Piper Picked A Peck Of Pickled Peppers.\n"
     ]
    }
   ],
   "source": [
    "#Write a python program to find below output using loop:-\n",
    "\n",
    "#Input:- 'peter piper picked a peck of pickled peppers.'\n",
    "#Output:- 'Peter Piper Picked A Peck Of Pickled Peppers'\n",
    "\n",
    "x = 'peter piper picked a peck of pickled peppers.'\n",
    "y = ''\n",
    "for i in range(len(x)):\n",
    "    if i == 0:\n",
    "        x[i].upper()\n",
    "        y += x[i].upper()\n",
    "    elif x[i-1] == ' ':\n",
    "        y += x[i].upper()\n",
    "    else:\n",
    "        y += x[i]\n",
    "print(y)"
   ]
  },
  {
   "cell_type": "code",
   "execution_count": 121,
   "metadata": {
    "colab": {},
    "colab_type": "code",
    "id": "OthUuacodrNl"
   },
   "outputs": [
    {
     "name": "stdout",
     "output_type": "stream",
     "text": [
      "Peter piper picked a peck of pickled peppers.\n"
     ]
    }
   ],
   "source": [
    "#Write a python program to find below output using loop:-\n",
    "\n",
    "#Input:- 'Peter Piper Picked A Peck Of Pickled Peppers.'\n",
    "#Output:- 'Peter piper picked a peck of pickled peppers'\n",
    "\n",
    "x = 'peter piper picked a peck of pickled peppers.'\n",
    "y = ''\n",
    "for i in range(len(x)):\n",
    "    if i == 0:\n",
    "        x[i].upper()\n",
    "        y += x[i].upper()\n",
    "    else:\n",
    "        y += x[i]\n",
    "print(y)"
   ]
  },
  {
   "cell_type": "code",
   "execution_count": 126,
   "metadata": {
    "colab": {
     "base_uri": "https://localhost:8080/",
     "height": 34
    },
    "colab_type": "code",
    "id": "scmDJE-ldsI9",
    "outputId": "4b1d1979-9f4a-4bc6-c505-b88b1bbd4d5d"
   },
   "outputs": [
    {
     "name": "stdout",
     "output_type": "stream",
     "text": [
      "29\n"
     ]
    }
   ],
   "source": [
    "# Write a python program to implement index method using loop. \n",
    "# If sub_str is found in my_str then it will print the index\n",
    "# of first occurrence of first character of matching string in my_str:-\n",
    "\n",
    "#Input:- my_str = 'Peter Piper Picked A Peck Of Pickled Peppers.', sub_str = 'Pickl'\n",
    "#Output:- 29\n",
    "\n",
    "x = 'Peter Piper Picked A Peck Of Pickled Peppers.'\n",
    "sub_str = 'Pickl'\n",
    "y = x.split()\n",
    "for i in y:\n",
    "    if sub_str in i:\n",
    "        print(x.index(sub_str))"
   ]
  },
  {
   "cell_type": "code",
   "execution_count": 128,
   "metadata": {
    "colab": {},
    "colab_type": "code",
    "id": "Kq_fwdb_dvYE"
   },
   "outputs": [
    {
     "name": "stdout",
     "output_type": "stream",
     "text": [
      "Peter Piper Picked A Pack Of Pickled Peppers. \n"
     ]
    }
   ],
   "source": [
    "#Write a python program to implement replace method using loop. If sub_str is found in my_str then it will replace the first \n",
    "#occurrence of sub_str with new_str else it will will print sub_str not found:-\n",
    "\n",
    "#Input:- my_str = 'Peter Piper Picked A Peck Of Pickled Peppers.', sub_str = 'Peck', new_str = 'Pack'\n",
    "#Output:- 'Peter Piper Picked A Pack Of Pickled Peppers.'\n",
    "\n",
    "my_str = 'Peter Piper Picked A Peck Of Pickled Peppers.' \n",
    "sub_str = 'Peck'\n",
    "new_str = 'Pack'\n",
    "result = ''\n",
    "y = my_str.split()\n",
    "for i in y:\n",
    "    if sub_str in i:\n",
    "        i = new_str\n",
    "    result += i +' '\n",
    "    \n",
    "print(result)"
   ]
  },
  {
   "cell_type": "code",
   "execution_count": 3,
   "metadata": {
    "colab": {},
    "colab_type": "code",
    "id": "4Qes5D0cdyd1"
   },
   "outputs": [
    {
     "name": "stdout",
     "output_type": "stream",
     "text": [
      "21\n",
      "********************Peck*********************\n"
     ]
    }
   ],
   "source": [
    "# #Write a python program to find below output (implements rjust and ljust) using loop:-\n",
    "\n",
    "# #Input:- 'Peter Piper Picked A Peck Of Pickled Peppers.', sub_str = 'Peck', \n",
    "# #Output:- '*********************Peck********************'\n",
    "\n",
    "\n",
    "inp_str = 'Peter Piper Picked A Peck Of Pickled Peppers.'\n",
    "sub_str = 'Peck'\n",
    "new_str = ''\n",
    "j = 0\n",
    "ind = -1\n",
    "for i in range(len(inp_str)):\n",
    "    if inp_str[i] == sub_str[j]:\n",
    "        new_str += sub_str[j]\n",
    "        j += 1\n",
    "        if new_str == sub_str:\n",
    "            ind = i - (len(sub_str) - 1)\n",
    "            break\n",
    "    else:\n",
    "        new_str = ''\n",
    "        j = 0\n",
    "print(ind)\n",
    "if ind == -1:\n",
    "    print('Sub_str is not found')\n",
    "else:\n",
    "    print('*'*(ind-1) + sub_str + '*'*(len(inp_str)-(ind+(len(sub_str)-1))))\n",
    "\n"
   ]
  },
  {
   "cell_type": "code",
   "execution_count": 1,
   "metadata": {
    "colab": {},
    "colab_type": "code",
    "id": "DsOrb07Od0lR"
   },
   "outputs": [],
   "source": [
    "#Write a python program to find below output using loop:-\n",
    "\n",
    "#Input:- 'This is Python class', sep = 'is', \n",
    "#Output:- ['This', 'is', 'Python class']\n"
   ]
  },
  {
   "cell_type": "code",
   "execution_count": 9,
   "metadata": {
    "colab": {},
    "colab_type": "code",
    "id": "jRnBVufmd2Ay"
   },
   "outputs": [
    {
     "name": "stdout",
     "output_type": "stream",
     "text": [
      "R{vjqp\n",
      "Rwvfql\n",
      "R{vkfml\n"
     ]
    }
   ],
   "source": [
    "#Write a python program which takes one input string from user and encode it in below format:-\n",
    "    # 1. #Input:- 'Python'\n",
    "       #Output:- 'R{vjqp'\n",
    "        \n",
    "        \n",
    "x = 'Python'\n",
    "\n",
    "out_str1 = ''\n",
    "\n",
    "for i in x:\n",
    "    out_str1 += chr(ord(i)+2)\n",
    "        \n",
    "print(out_str1)\n",
    "\n",
    "    # 2. #Input:- 'Python'\n",
    "       #Output:- 'Rwvfql'\n",
    "\n",
    "out_str2 = ''\n",
    "\n",
    "for i in range(len(x)):\n",
    "    if i%2 == 0:\n",
    "        out_str2 += chr(ord(x[i])+2)\n",
    "    else:\n",
    "        out_str2 += chr(ord(x[i])-2)\n",
    "        \n",
    "print(out_str2)       \n",
    "        \n",
    "        \n",
    "        \n",
    "    # 3. #Input:- 'Python'\n",
    "       #Output:- 'R{vfml'\n",
    "\n",
    "out_str3 = ''\n",
    "x = 'Pytkhon'\n",
    "for i in range(len(x)):\n",
    "    if i < len(x)//2:\n",
    "        out_str3 += chr(ord(x[i])+2)\n",
    "    elif i > len(x)//2:\n",
    "        out_str3 += chr(ord(x[i])-2)\n",
    "    else:\n",
    "        out_str3 += x[i]\n",
    "        \n",
    "print(out_str3)\n"
   ]
  }
 ],
 "metadata": {
  "colab": {
   "name": "Conditional_and_loop_assignment.ipynb",
   "provenance": []
  },
  "kernelspec": {
   "display_name": "Python 3",
   "language": "python",
   "name": "python3"
  },
  "language_info": {
   "codemirror_mode": {
    "name": "ipython",
    "version": 3
   },
   "file_extension": ".py",
   "mimetype": "text/x-python",
   "name": "python",
   "nbconvert_exporter": "python",
   "pygments_lexer": "ipython3",
   "version": "3.8.3"
  }
 },
 "nbformat": 4,
 "nbformat_minor": 1
}
