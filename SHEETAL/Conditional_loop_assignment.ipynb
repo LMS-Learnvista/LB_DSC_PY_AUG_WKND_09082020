{
 "cells": [
  {
   "cell_type": "code",
   "execution_count": 1,
   "metadata": {},
   "outputs": [
    {
     "name": "stdout",
     "output_type": "stream",
     "text": [
      "Enter a number:8\n",
      "Eight\n"
     ]
    }
   ],
   "source": [
    "#W. A P. which takes one number from 0 to 9 from the user and prints it in the word. And if the word is not from 0 to 9 then\n",
    "#it should print that number is outside of the range and program should exit.\n",
    "# For exapmple:- \n",
    "# input = 1\n",
    "# output = one\n",
    "num = int(input('Enter a number:'))\n",
    "if num == 0:\n",
    "  print('zero')\n",
    "elif num == 1:\n",
    "    print('one')\n",
    "elif num == 2:\n",
    "    print('Two')\n",
    "elif num == 3:\n",
    "    print('Three')\n",
    "elif num == 4:\n",
    "    print('Four')\n",
    "elif num == 5:\n",
    "    print('Five')\n",
    "elif num == 6:\n",
    "    print('Six')\n",
    "elif num == 7:\n",
    "    print('Seven')\n",
    "elif num == 8:\n",
    "    print('Eight')\n",
    "elif num == 9:\n",
    "    print('Nine')    \n",
    "else:\n",
    "  print('number is outside of the range')\n"
   ]
  },
  {
   "cell_type": "code",
   "execution_count": null,
   "metadata": {},
   "outputs": [
    {
     "name": "stdout",
     "output_type": "stream",
     "text": [
      "Please select any one operation from below:-\n",
      "* To add enter 1\n",
      "* To subtract enter 2\n",
      "* To multiply enter 3\n",
      "* To divide enter 4\n",
      "* To divide and find quotient enter 5\n",
      "* To divide and find remainder enter 6\n",
      "* To divide and find num1 to the power of num2 enter 7\n",
      "* To Come out of the program enter 8\n",
      "Enter choice(1/2/3/4/5/6/7/8): 7\n",
      "Enter first number: 6\n",
      "Enter second number: 8\n",
      "6.0 ** 8.0 1679616.0\n"
     ]
    }
   ],
   "source": [
    "#W. A P. to implement calculator but the operation to be done and two numbers will be taken as input from user:-\n",
    "#Operation console should show below:-\n",
    "#     Please select any one operation from below:-\n",
    "#         * To add enter 1\n",
    "#         * to subtract enter 2\n",
    "#         * To multiply enter 3\n",
    "#         * To divide enter 4\n",
    "#         * To divide and find quotient enter 5\n",
    "#         * To divide and find remainder enter 6\n",
    "#         * To divide and find num1 to the power of num2 enter 7\n",
    "#         * To Come out of the program enter 8\n",
    "print(\"Please select any one operation from below:-\")\n",
    "print(\"* To add enter 1\")\n",
    "print(\"* To subtract enter 2\")\n",
    "print(\"* To multiply enter 3\")\n",
    "print(\"* To divide enter 4\")\n",
    "print(\"* To divide and find quotient enter 5\")\n",
    "print(\"* To divide and find remainder enter 6\")\n",
    "print(\"* To divide and find num1 to the power of num2 enter 7\")\n",
    "print(\"* To Come out of the program enter 8\")\n",
    "\n",
    "while True:\n",
    "    choice = int(input('Enter choice(1/2/3/4/5/6/7/8): '))\n",
    "    if choice in (1,2,3,4,5,6,7,8):\n",
    "        num1 = float(input(\"Enter first number: \"))\n",
    "        num2 = float(input(\"Enter second number: \")) \n",
    "        if choice == 1:\n",
    "            print(num1,'+',num2, num1+num2)\n",
    "        elif choice == 2:\n",
    "            print(num1,'-',num2, num1-num2)\n",
    "        elif choice == 3:\n",
    "            print(num1,'*',num2, num1*num2)\n",
    "        elif choice == 4:\n",
    "            print(num1,'/',num2, num1/num2)\n",
    "        elif choice == 5:\n",
    "            print(num1,'//',num2, num1//num2)\n",
    "        elif choice == 6:\n",
    "            print(num1,'%',num2, num1%num2)\n",
    "        elif choice == 7:\n",
    "            print(num1,'**',num2, num1**num2)\n",
    "        elif choice == 8:\n",
    "            break\n",
    "    else:\n",
    "      print(\"invalid input\")"
   ]
  },
  {
   "cell_type": "code",
   "execution_count": null,
   "metadata": {},
   "outputs": [],
   "source": [
    "#W A P to check whether a year entered by user is an leap year or not?\n",
    "#Check with below input:-\n",
    "    #leap year:- 2012, 1968, 2004, 1200, 1600,2400\n",
    "    #Non-lear year:- 1971, 2006, 1700,1800,1900\n",
    "year = int(input(' Enter a year:'))\n",
    "if year in (2012,1968,2004,1200,1600,2400):\n",
    " print('leap year',year)\n",
    "elif year in (1971,2006,1700,1800,1900):\n",
    " print('Non-leap year',year)\n",
    "else:\n",
    " print(year)"
   ]
  },
  {
   "cell_type": "code",
   "execution_count": null,
   "metadata": {},
   "outputs": [],
   "source": [
    "#W A P which takes one number from the user and checks whether it is an even or odd number?, If it even then prints number is \n",
    "#even number else prints that number is odd number.\n",
    "num = int(input('Enter a number'))\n",
    "if num%2 == 0:\n",
    "    print(num, \"is even number\")\n",
    "else:\n",
    "    print(num, \"is odd number\")\n",
    "    "
   ]
  },
  {
   "cell_type": "code",
   "execution_count": null,
   "metadata": {},
   "outputs": [],
   "source": [
    "#W A P which takes two numbers from the user and prints below output:-\n",
    "#     1. num1 is greater than num2 if num1 is greater than num2\n",
    "#     2. num1 is smaller than num2 if num1 is smaller than num2\n",
    "#     3. num1 is equal to num2 if num1 and num2 are equal\n",
    "\n",
    "#Note:- 1. Do this problem using if - else \n",
    "#       2. Do this using ternary operator\n",
    "num1 = int(input('Enter a num1:'))\n",
    "num2 = int(input('Enter a number2:'))\n",
    "if num1 > num2:\n",
    "    print(num1,\"is greater than\",num2)\n",
    "elif num1 < num2:\n",
    "    print(num1,\"is smaller than\",num2)\n",
    "else:\n",
    "    print(num1,\"is equal to\",num2)\n",
    "print( num1 if num1 > num2 and num1 == num2 else num2 )"
   ]
  },
  {
   "cell_type": "code",
   "execution_count": 6,
   "metadata": {},
   "outputs": [
    {
     "name": "stdout",
     "output_type": "stream",
     "text": [
      "55\n"
     ]
    }
   ],
   "source": [
    "#Write a Python program to find the length of the my_str using loop:-\n",
    "\n",
    "input = 'Write a Python program to find the length of the my_str'\n",
    "#Output:- 55\n",
    "i = 0\n",
    "while i < len(input):\n",
    "    i += 1\n",
    "print(i)"
   ]
  },
  {
   "cell_type": "code",
   "execution_count": 7,
   "metadata": {},
   "outputs": [
    {
     "name": "stdout",
     "output_type": "stream",
     "text": [
      "9\n"
     ]
    }
   ],
   "source": [
    "#Write a Python program to find the total number of times letter 'p' is appeared in the below string using loop:-\n",
    "    \n",
    "input ='peter piper picked a peck of pickled peppers.\\n'\n",
    "#Output:- 9\n",
    "count = 0\n",
    "for i in input:\n",
    "    if i == 'p':\n",
    "        count += 1\n",
    "print(count)"
   ]
  },
  {
   "cell_type": "code",
   "execution_count": 8,
   "metadata": {},
   "outputs": [
    {
     "name": "stdout",
     "output_type": "stream",
     "text": [
      "0\n",
      "6\n",
      "8\n",
      "12\n",
      "21\n",
      "29\n",
      "37\n",
      "39\n",
      "40\n"
     ]
    }
   ],
   "source": [
    "#Write a Python Program, to print all the indexes of all occurences of letter 'p' appeared in the string using loop:-\n",
    "    \n",
    "input = 'peter piper picked a peck of pickled peppers.'\n",
    "#Output:- \n",
    "# 0\n",
    "# 6\n",
    "# 8\n",
    "# 12\n",
    "# 21\n",
    "# 29\n",
    "# 37\n",
    "# 39\n",
    "# 40\n",
    "for i in range(0,len(input)):\n",
    "    if input[i] == 'p':\n",
    "        print(i)"
   ]
  },
  {
   "cell_type": "code",
   "execution_count": 17,
   "metadata": {},
   "outputs": [
    {
     "name": "stdout",
     "output_type": "stream",
     "text": [
      "['peter', 'piper', 'picked', 'a', 'peck', 'of', 'pickled', 'peppers']\n"
     ]
    }
   ],
   "source": [
    "#Write a python program to find below output using loop:-\n",
    "\n",
    "input = 'peter piper picked a peck of pickled peppers.'\n",
    "#Output:- ['peter', 'piper', 'picked', 'a', 'peck', 'of', 'pickled', 'peppers']\n",
    "output = []\n",
    "b = ''\n",
    "for i in input: \n",
    "    if i >= 'a' and i <= 'z':\n",
    "      b = b + i\n",
    "    else:\n",
    "     output.append(b)\n",
    "     b = ''\n",
    "print(output)\n"
   ]
  },
  {
   "cell_type": "code",
   "execution_count": 18,
   "metadata": {},
   "outputs": [
    {
     "name": "stdout",
     "output_type": "stream",
     "text": [
      "peppers pickled of peck a picked piper peter\n"
     ]
    }
   ],
   "source": [
    "#Write a python program to find below output using loop:-\n",
    "\n",
    "input = 'peter piper picked a peck of pickled peppers.'\n",
    "#Output:- 'peppers pickled of peck a picked piper peter'\n",
    "list1 = []\n",
    "b = ''\n",
    "for i in input: \n",
    "    if i >= 'a' and i <= 'z':\n",
    "      b = b + i\n",
    "    else:\n",
    "     list1.append(b)\n",
    "     b = ''\n",
    "\n",
    "i = len(list1)\n",
    "output = ' '\n",
    "while i > 0:\n",
    "    output = output + ' ' + list1[i - 1]\n",
    "    i -= 1\n",
    "print(output.strip())\n"
   ]
  },
  {
   "cell_type": "code",
   "execution_count": 11,
   "metadata": {},
   "outputs": [
    {
     "name": "stdout",
     "output_type": "stream",
     "text": [
      ".sreppep delkcip fo kcep a dekcip repip rete\n"
     ]
    }
   ],
   "source": [
    "#Write a python program to find below output using loop:-\n",
    "\n",
    "input = 'peter piper picked a peck of pickled peppers.'\n",
    "#Output:- '.sreppep delkcip fo kcep a dekcip repip retep'\n",
    "\n",
    "i = len(input)\n",
    "output = ''\n",
    "while i > 1:\n",
    "    output = output + input[i-1]\n",
    "    i -= 1\n",
    "print(output)"
   ]
  },
  {
   "cell_type": "code",
   "execution_count": 57,
   "metadata": {},
   "outputs": [
    {
     "name": "stdout",
     "output_type": "stream",
     "text": [
      "retep repip dekcip a kcep fo delkcip.sreppep\n"
     ]
    }
   ],
   "source": [
    "#Write a python program to find below output using loop:-\n",
    "\n",
    "#Input:- 'peter piper picked a peck of pickled peppers.'\n",
    "#Output:- 'retep repip dekcip a kcep fo delkcip sreppep'\n",
    "input = 'peter piper picked a peck of pickled peppers.'\n",
    "s = ''\n",
    "output = ''\n",
    "for i in input:\n",
    "    if i >= 'a' and i <= 'z':\n",
    "        s+=i\n",
    "    else:\n",
    "        s+=i\n",
    "        j = len(s) - 1\n",
    "        while j >= 0:\n",
    "            output +=s[j]\n",
    "            j -= 1\n",
    "        s = ''\n",
    "print(output.strip())"
   ]
  },
  {
   "cell_type": "code",
   "execution_count": 19,
   "metadata": {},
   "outputs": [
    {
     "name": "stdout",
     "output_type": "stream",
     "text": [
      "Peter Piper Picked A Peck Of Pickled Peppers\n"
     ]
    }
   ],
   "source": [
    "#Write a python program to find below output using loop:-\n",
    "input = 'peter piper picked a peck of pickled peppers.'\n",
    "#Output:- 'Peter Piper Picked A Peck Of Pickled Peppers'\n",
    "s = ' '\n",
    "b = ' '\n",
    "for i in input:\n",
    "    if i >= 'a' and i <= 'z':\n",
    "        s = s + i\n",
    "    else:\n",
    "        for j in range(0,len(s)):\n",
    "            if j == 1:\n",
    "             b = b + chr((ord(s[j])-32))\n",
    "            else:\n",
    "             b = b + s[j]\n",
    "        s = ' '            \n",
    "print(b.strip())        "
   ]
  },
  {
   "cell_type": "code",
   "execution_count": 55,
   "metadata": {},
   "outputs": [
    {
     "name": "stdout",
     "output_type": "stream",
     "text": [
      "Peter piper picked a peck of pickled peppers\n"
     ]
    }
   ],
   "source": [
    "#Write a python program to find below output using loop:-\n",
    "\n",
    "#Output:- 'Peter piper picked a peck of pickled peppers'\n",
    "input = 'Peter Piper Picked A Peck Of Pickled Peppers.'\n",
    "s = ' '\n",
    "b = ''\n",
    "for i in input:\n",
    "    if i != ' ' and i != '.':\n",
    "        s = s + i\n",
    "    else:\n",
    "      for j in range(0,len(s)):\n",
    "            if j == 0 and s[j] != ' ':\n",
    "             b = b + ' ' + chr((ord(s[0])+32))\n",
    "            else:\n",
    "             b = b + s[j]\n",
    "      s = ''  \n",
    "print(b.strip())"
   ]
  },
  {
   "cell_type": "code",
   "execution_count": 28,
   "metadata": {},
   "outputs": [
    {
     "name": "stdout",
     "output_type": "stream",
     "text": [
      "29\n"
     ]
    }
   ],
   "source": [
    "#Write a python program to implement index method using loop. If sub_str is found in my_str then it will print the index\n",
    "# of first occurrence of first character of matching string in my_str:-\n",
    "\n",
    "#Input:- my_str = 'Peter Piper Picked A Peck Of Pickled Peppers.', sub_str = 'Pickl'\n",
    "#Output:- 29\n",
    "input = 'Peter Piper Picked A Peck Of Pickled Peppers.'\n",
    "sub_str = 'Pickl'\n",
    "str1 = ''\n",
    "j = 0\n",
    "index = 0\n",
    "for i in range(len(input)):\n",
    "    if input[i] == sub_str[j]:\n",
    "       str1 = str1 + sub_str[j]    \n",
    "       j+=1\n",
    "       if sub_str == str1:\n",
    "           index = i - len(sub_str) + 1 \n",
    "           break\n",
    "    else:\n",
    "        str1 = ''\n",
    "        j = 0\n",
    "print(index)"
   ]
  },
  {
   "cell_type": "code",
   "execution_count": 35,
   "metadata": {},
   "outputs": [
    {
     "name": "stdout",
     "output_type": "stream",
     "text": [
      "Peter Piper Picked A Pack Of Pickled Peppers\n"
     ]
    }
   ],
   "source": [
    "#Write a python program to implement replace method using loop. If sub_str is found in my_str then it will replace the first \n",
    "#occurrence of sub_str with new_str else it will will print sub_str not found:-\n",
    "\n",
    "#Input:- my_str = 'Peter Piper Picked A Peck Of Pickled Peppers.', sub_str = 'Peck', new_str = 'Pack'\n",
    "#Output:- 'Peter Piper Picked A Pack Of Pickled Peppers.'\n",
    "my_str = 'Peter Piper Picked A Peck Of Pickled Peppers.'\n",
    "sub_str = 'Peck'\n",
    "new_str = 'Pack'\n",
    "s = ''\n",
    "index = 0\n",
    "output = ''\n",
    "for i in my_str:\n",
    "    if i != ' ' and i!= '.':\n",
    "      s+=i\n",
    "    else:\n",
    "      if s == sub_str:\n",
    "          s = new_str\n",
    "      output = output + ' ' + s\n",
    "      s = ''    \n",
    "print(output.strip())"
   ]
  },
  {
   "cell_type": "code",
   "execution_count": 52,
   "metadata": {},
   "outputs": [
    {
     "name": "stdout",
     "output_type": "stream",
     "text": [
      "45\n",
      "22\n",
      "*********************Peck********************\n"
     ]
    }
   ],
   "source": [
    "#Write a python program to find below output (implements rjust and ljust) using loop:-\n",
    "\n",
    "#Input:- 'Peter Piper Picked A Peck Of Pickled Peppers.', sub_str = 'Peck', \n",
    "#Output:- '*********************Peck********************'\n",
    "input = 'Peter Piper Picked A Peck Of Pickled Peppers.'\n",
    "print(len(input))\n",
    "sub_str = 'Peck'\n",
    "s = ''\n",
    "index = 0\n",
    "for i in range(len(input)):\n",
    "    if input[i] != ' ' and input[i] != '.':\n",
    "        s+= input[i]\n",
    "    else:\n",
    "        if s == sub_str:\n",
    "            index = i - (len(sub_str) - 1)\n",
    "            break\n",
    "        else:\n",
    "           s = ''\n",
    "print(index)\n",
    "print('*'*(index-1) + sub_str + '*'*(len(input)-(index+(len(sub_str)-1))))"
   ]
  },
  {
   "cell_type": "code",
   "execution_count": 39,
   "metadata": {},
   "outputs": [
    {
     "name": "stdout",
     "output_type": "stream",
     "text": [
      "['This', ' is', ' Python class']\n"
     ]
    }
   ],
   "source": [
    "#Write a python program to find below output using loop:-\n",
    "\n",
    "#Input:- 'This is Python class', sep = 'is', \n",
    "#Output:- ['This', 'is', 'Python class']\n",
    "input = 'This is Python class'\n",
    "sep = 'is'\n",
    "s = ''\n",
    "output = []\n",
    "for i in input:\n",
    "    s+=i\n",
    "    if sep in s:\n",
    "      output.append(s)\n",
    "      s = ''\n",
    "output.append(s)\n",
    "print(output)"
   ]
  },
  {
   "cell_type": "code",
   "execution_count": 43,
   "metadata": {},
   "outputs": [
    {
     "name": "stdout",
     "output_type": "stream",
     "text": [
      "R{vjqp\n",
      "R{vfml\n",
      "Rwvfql\n"
     ]
    }
   ],
   "source": [
    "#Write a python program which takes one input string from user and encode it in below format:-\n",
    "# 1. #Input:- 'Python'\n",
    "#Output:- 'R{vjqp'\n",
    "        \n",
    "# 2. #Input:- 'Python'\n",
    "#Output:- 'Rwvfql'\n",
    "    \n",
    "# 3. #Input:- 'Python'\n",
    "#Output:- 'R{vfml'\n",
    "# 1)\n",
    "inp_str = 'Python'\n",
    " #Input:- 'Python'\n",
    "#Output:- 'R{vjqp'\n",
    "# P Q R\n",
    "# T U V\n",
    "# H I J\n",
    "# O P Q\n",
    "# N O P\n",
    "output = ''\n",
    "for i in inp_str:\n",
    "    output += chr(ord(i) + 2)\n",
    "print(output)\n",
    "# 3)\n",
    "# 3. #Input:- 'Python'\n",
    "       #Output:- 'R{vkfml'\n",
    "input = 'Python'\n",
    "output = ''\n",
    "for i in range(len(input)):\n",
    "    if i < ((len(input) // 2)):\n",
    "        output+= chr(ord(input[i]) + 2)\n",
    "    else:\n",
    "        output+= chr(ord(input[i]) - 2)\n",
    "print(output)\n",
    "# 2\n",
    "input = 'Python'\n",
    "output = ''\n",
    "for i in range(len(input)):\n",
    "    if (i%2 == 0):\n",
    "         output+= chr(ord(input[i]) + 2)\n",
    "    else:\n",
    "        output+= chr(ord(input[i]) - 2)\n",
    "print(output)"
   ]
  },
  {
   "cell_type": "code",
   "execution_count": null,
   "metadata": {},
   "outputs": [],
   "source": []
  }
 ],
 "metadata": {
  "kernelspec": {
   "display_name": "Python 3",
   "language": "python",
   "name": "python3"
  },
  "language_info": {
   "codemirror_mode": {
    "name": "ipython",
    "version": 3
   },
   "file_extension": ".py",
   "mimetype": "text/x-python",
   "name": "python",
   "nbconvert_exporter": "python",
   "pygments_lexer": "ipython3",
   "version": "3.8.3"
  }
 },
 "nbformat": 4,
 "nbformat_minor": 4
}
