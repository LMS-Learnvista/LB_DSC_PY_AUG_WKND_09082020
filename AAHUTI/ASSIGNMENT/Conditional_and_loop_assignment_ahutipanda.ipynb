{
 "cells": [
  {
   "cell_type": "markdown",
   "metadata": {
    "colab_type": "text",
    "id": "wNRNTbrsc53d"
   },
   "source": [
    "# If - elif - else statement"
   ]
  },
  {
   "cell_type": "code",
   "execution_count": 1,
   "metadata": {
    "colab": {},
    "colab_type": "code",
    "id": "MiPfTnBycxNa"
   },
   "outputs": [
    {
     "name": "stdout",
     "output_type": "stream",
     "text": [
      "Enter a number to check :2\n",
      "Two\n"
     ]
    }
   ],
   "source": [
    "#W. A P. which takes one number from 0 to 9 from the user and prints it in the word. And if the word is not from 0 to 9 then\n",
    "#it should print that number is outside of the range and program should exit.\n",
    "# For exapmple:- \n",
    "# input = 1\n",
    "# output = one\n",
    "\n",
    "num = int(input('Enter a number to check :'))\n",
    "if (num == 0):\n",
    "    print('Zero')\n",
    "elif (num == 1):\n",
    "    print('One')\n",
    "elif (num == 2):\n",
    "    print('Two')\n",
    "elif (num == 3):\n",
    "    print('Three')\n",
    "elif (num == 4):\n",
    "    print('Four')\n",
    "elif (num == 5):\n",
    "    print('Five')\n",
    "elif (num == 6):\n",
    "    print('Six')\n",
    "elif (num == 7):\n",
    "    print('Seven')\n",
    "elif (num == 8):\n",
    "    print('Eight')\n",
    "elif (num == 9):\n",
    "    print('Nine')\n",
    "else:\n",
    "    print('Number is outside of the range')"
   ]
  },
  {
   "cell_type": "code",
   "execution_count": 4,
   "metadata": {
    "colab": {},
    "colab_type": "code",
    "id": "vEMNOv9zdA39"
   },
   "outputs": [
    {
     "name": "stdout",
     "output_type": "stream",
     "text": [
      "Enter first number: 20\n",
      "Enter second number: 67\n",
      "\n",
      "\t\t To add enter 1\n",
      "\t\t To subtract enter 2\n",
      "\t\t To multiply enter 3\n",
      "\t\t To divide enter 4\n",
      "\t\t To divide and find quotient enter 5\n",
      "\t\t To divide and find remainder enter 6\n",
      "\t\t To divide and find num1 to the power of num2 enter 7\n",
      "\t\t To Come out of the program enter 8\n",
      "6\n",
      "Remainder of 20 and 67 is 20\n"
     ]
    }
   ],
   "source": [
    "#W. A P. to implement calculator but the operation to be done and two numbers will be taken as input from user:-\n",
    "#Operation console should show below:-\n",
    "#     Please select any one operation from below:-\n",
    "#         * To add enter 1\n",
    "#         * to subtract enter 2\n",
    "#         * To multiply enter 3\n",
    "#         * To divide enter 4\n",
    "#         * To divide and find quotient enter 5\n",
    "#         * To divide and find remainder enter 6\n",
    "#         * To divide and find num1 to the power of num2 enter 7\n",
    "#         * To Come out of the program enter 8\n",
    "\n",
    "\n",
    "num1 = int(input('Enter first number: '))\n",
    "num2 = int(input('Enter second number: '))\n",
    "print('''\n",
    "\\t\\t To add enter 1\n",
    "\\t\\t To subtract enter 2\n",
    "\\t\\t To multiply enter 3\n",
    "\\t\\t To divide enter 4\n",
    "\\t\\t To divide and find quotient enter 5\n",
    "\\t\\t To divide and find remainder enter 6\n",
    "\\t\\t To divide and find num1 to the power of num2 enter 7\n",
    "\\t\\t To Come out of the program enter 8''')\n",
    "user = int(input())\n",
    "if user == 1:\n",
    "    print(f'Sum of {num1} and {num2} is {num1 + num2}')\n",
    "elif user == 2:\n",
    "    if num1 > num2:\n",
    "        print(f'Difference of {num1} and {num2} is {num1 - num2}')\n",
    "    else:\n",
    "        print(f'Differencce of {num2} and {num1} is {num2 - num1}')\n",
    "elif user == 3:\n",
    "    print(f'Product of {num1} and {num2} is {num1 * num2}')\n",
    "elif user == 4:\n",
    "    print(f'Division of {num1} and {num2} is {num1 / num2}')\n",
    "elif user == 5:\n",
    "    print(f'Quotient of {num1} and {num2} is {num1//num2}')\n",
    "elif user == 6:\n",
    "    print(f'Remainder of {num1} and {num2} is {num1 % num2}')\n",
    "elif user == 7:\n",
    "    print(f'division of {num1} and {num2} is {num1/num2}')\n",
    "    print(f'{num1} to the power {num2} is {num1**num2}')\n",
    "elif user == 8:\n",
    "    print('''Input not in range\n",
    "Try between 1 to 7.''')"
   ]
  },
  {
   "cell_type": "code",
   "execution_count": null,
   "metadata": {
    "colab": {},
    "colab_type": "code",
    "id": "1e2gwYLqdC1s"
   },
   "outputs": [],
   "source": [
    "#W A P to check whether a year entered by user is an leap year or not?\n",
    "#Check with below input:-\n",
    "    #leap year:- 2012, 1968, 2004, 1200, 1600,2400\n",
    "    #Non-lear year:- 1971, 2006, 1700,1800,1900\n",
    "    \n",
    "year = int(input('Enter a year: '))\n",
    "if year%4 == 0:\n",
    "    if year%100 == 0:\n",
    "        if year%400 == 0:\n",
    "            print(f'{year} is a leap year')\n",
    "        else:\n",
    "            print(f'{year} is a not leap year')\n",
    "    else:\n",
    "        print(f'{year} is a leap year')\n",
    "else:\n",
    "    print(f'{year} is a not leap year')"
   ]
  },
  {
   "cell_type": "code",
   "execution_count": 5,
   "metadata": {
    "colab": {},
    "colab_type": "code",
    "id": "_tpXv1EtdEre"
   },
   "outputs": [
    {
     "name": "stdout",
     "output_type": "stream",
     "text": [
      "Enter a number : 6\n",
      "The entered number is even\n"
     ]
    }
   ],
   "source": [
    "#W A P which takes one number from the user and checks whether it is an even or odd number?,\n",
    "#If it even then prints number is even number else prints that number is odd number.\n",
    "\n",
    "num = int(input('Enter a number : '))\n",
    "if (num % 2 == 0):\n",
    "    print('The entered number is even')\n",
    "else:\n",
    "    print('The entered number is odd')"
   ]
  },
  {
   "cell_type": "code",
   "execution_count": 8,
   "metadata": {
    "colab": {},
    "colab_type": "code",
    "id": "Q1HumymCdG6i"
   },
   "outputs": [
    {
     "name": "stdout",
     "output_type": "stream",
     "text": [
      "Enter a number : 12\n",
      "Enter a number : 15\n",
      "num1 is smaller than num2\n",
      "12 is smaller than 15\n"
     ]
    }
   ],
   "source": [
    "#W A P which takes two numbers from the user and prints below output:-\n",
    "#     1. num1 is greater than num2 if num1 is greater than num2\n",
    "#     2. num1 is smaller than num2 if num1 is smaller than num2\n",
    "#     3. num1 is equal to num2 if num1 and num2 are equal\n",
    "\n",
    "#Note:- 1. Do this problem using if - else \n",
    "#       2. Do this using ternary operator\n",
    "\n",
    "#if - else\n",
    "\n",
    "num1 = int(input('Enter a number : '))\n",
    "num2 = int(input('Enter a number : '))\n",
    "if num1 > num2:\n",
    "    print('num1 is greater than num2')\n",
    "elif num1 < num2:\n",
    "    print('num1 is smaller than num2')\n",
    "else:\n",
    "    print('num1 and num2 are equal')\n",
    "    \n",
    "#Ternary operator\n",
    "\n",
    "print(f'{num1} is greater than {num2}') if (num1 > num2) \\\n",
    "else print(f'{num1} is smaller than {num2}') if (num1<num2) \\\n",
    "else print(f'{num1} is equal to {num2}')"
   ]
  },
  {
   "cell_type": "code",
   "execution_count": 11,
   "metadata": {
    "colab": {},
    "colab_type": "code",
    "id": "LR6TVB-DdOPf"
   },
   "outputs": [
    {
     "name": "stdout",
     "output_type": "stream",
     "text": [
      "Enter 1st number : 12\n",
      "Enter 2nd number : 5\n",
      "Enter 3rd number : 3\n",
      "num1 is greater than num2 and num3\n",
      "12 is greater than 5 and 3\n"
     ]
    }
   ],
   "source": [
    "#W A P which takes three numbers from the user and prints below output:-\n",
    "#     1. num1 is greater than num2 and num3 if num1 is greater than num2 and num3\n",
    "#     2. num2 is greater than num1 and num3 if num2 is greater than num1 and num3\n",
    "#     3. num3 is greater than num1 and num2 if num3 is greater than num1 and num2\n",
    "\n",
    "#Note:- 1. Do this problem using if - elif - else \n",
    "#       2. Do this using ternary operator\n",
    "\n",
    "# a = a if a>b else b\n",
    "#expr if cond1 else expr2 if cond2 else expr3\n",
    "\n",
    "#if - elif - else\n",
    "num1 = int(input('Enter 1st number : '))\n",
    "num2 = int(input('Enter 2nd number : '))\n",
    "num3 = int(input('Enter 3rd number : '))\n",
    "if num1 > num2 and num1 > num3:\n",
    "    print('num1 is greater than num2 and num3')\n",
    "elif num2 > num1 and num2 > num3:\n",
    "    print('num2 is greater than num1 and num3')\n",
    "else: \n",
    "    print('num3 is greater than num1 and num2')\n",
    "\n",
    "#Ternary operator \n",
    "\n",
    "print(f'{num1} is greater than {num2} and {num3}') \\\n",
    "if num1 > num2 and num1 > num3 \\\n",
    "else print(f'{num2} is greater than {num1} and {num3}') \\\n",
    "if num2 > num3 \\\n",
    "else print(f'{num3} is greater than {num1} and {num2}')"
   ]
  },
  {
   "cell_type": "markdown",
   "metadata": {
    "colab_type": "text",
    "id": "IoOLQMUGdSox"
   },
   "source": [
    "# Loops - for loop, while loop"
   ]
  },
  {
   "cell_type": "code",
   "execution_count": 18,
   "metadata": {
    "colab": {},
    "colab_type": "code",
    "id": "9K23Uld8dQfA"
   },
   "outputs": [
    {
     "name": "stdout",
     "output_type": "stream",
     "text": [
      "55\n",
      "Enter a string: This is Python class\n",
      "20\n"
     ]
    }
   ],
   "source": [
    "#Write a Python program to find the length of the my_str using loop:-\n",
    "\n",
    "#Input:- 'Write a Python program to find the length of the my_str'\n",
    "#Output:- 55\n",
    "\n",
    "my_str = 'Write a Python program to find the length of the my_str'\n",
    "\n",
    "for i in range(len(my_str)):\n",
    "    i += 1\n",
    "print(i)\n",
    "\n",
    "#or\n",
    "\n",
    "my_str = input('Enter a string: ')\n",
    "for i in range(len(my_str)):\n",
    "    i += 1\n",
    "print(i)"
   ]
  },
  {
   "cell_type": "code",
   "execution_count": 19,
   "metadata": {
    "colab": {},
    "colab_type": "code",
    "id": "bp6AcqTsdYxy"
   },
   "outputs": [
    {
     "name": "stdout",
     "output_type": "stream",
     "text": [
      "9\n"
     ]
    }
   ],
   "source": [
    "#Write a Python program to find the total number of times letter 'p' is appeared in the below string using loop:-\n",
    "    \n",
    "#Input:- 'peter piper picked a peck of pickled peppers.\\n'\n",
    "#Output:- 9\n",
    "\n",
    "my_str = 'peter piper picked a peck of pickled peppers.'\n",
    "ind = 0\n",
    "for i in my_str:\n",
    "    if i == 'p':\n",
    "        ind += 1\n",
    "print(ind)"
   ]
  },
  {
   "cell_type": "code",
   "execution_count": 20,
   "metadata": {
    "colab": {},
    "colab_type": "code",
    "id": "xvxSBhTJdav1"
   },
   "outputs": [
    {
     "name": "stdout",
     "output_type": "stream",
     "text": [
      "0\n",
      "6\n",
      "8\n",
      "12\n",
      "21\n",
      "29\n",
      "37\n",
      "39\n",
      "40\n"
     ]
    }
   ],
   "source": [
    "#Write a Python Program, to print all the indexes of all occurences of letter 'p' appeared in the string using loop:-\n",
    "    \n",
    "#Input:- 'peter piper picked a peck of pickled peppers.'\n",
    "#Output:- \n",
    "# 0\n",
    "# 6\n",
    "# 8\n",
    "# 12\n",
    "# 21\n",
    "# 29\n",
    "# 37\n",
    "# 39\n",
    "# 40\n",
    "\n",
    "my_str = 'peter piper picked a peck of pickled peppers.'\n",
    "for i in range(len(my_str)):\n",
    "    if my_str[i] == 'p':\n",
    "        print(i)"
   ]
  },
  {
   "cell_type": "code",
   "execution_count": 21,
   "metadata": {
    "colab": {},
    "colab_type": "code",
    "id": "79L_feMadbmw"
   },
   "outputs": [
    {
     "name": "stdout",
     "output_type": "stream",
     "text": [
      "['peter', 'piper', 'picked', 'a', 'peck', 'of', 'pickled', 'peppers']\n"
     ]
    }
   ],
   "source": [
    "#Write a python program to find below output using loop:-\n",
    "\n",
    "#Input:- 'peter piper picked a peck of pickled peppers.'\n",
    "#Output:- ['peter', 'piper', 'picked', 'a', 'peck', 'of', 'pickled', 'peppers']\n",
    "\n",
    "my_str = 'peter piper picked a peck of pickled peppers.'\n",
    "my_lst = []\n",
    "my_estr = ''\n",
    "for i in my_str:\n",
    "    if i == ' ' or i == '.':\n",
    "        my_lst.append(my_estr)\n",
    "        my_estr = ''\n",
    "    else:\n",
    "        my_estr += i\n",
    "print(my_lst)"
   ]
  },
  {
   "cell_type": "code",
   "execution_count": 22,
   "metadata": {
    "colab": {},
    "colab_type": "code",
    "id": "vzs5AJ53deVS"
   },
   "outputs": [
    {
     "name": "stdout",
     "output_type": "stream",
     "text": [
      " peppers pickled of peck a picked piper peter\n"
     ]
    }
   ],
   "source": [
    "#Write a python program to find below output using loop:-\n",
    "\n",
    "#Input:- 'peter piper picked a peck of pickled peppers.'\n",
    "#Output:- 'peppers pickled of peck a picked piper peter'\n",
    "\n",
    "out = ''\n",
    "for i in my_lst[::-1]:\n",
    "    out = out + ' ' + i\n",
    "print(out)"
   ]
  },
  {
   "cell_type": "code",
   "execution_count": 23,
   "metadata": {
    "colab": {},
    "colab_type": "code",
    "id": "i-HP7DrCdhwS"
   },
   "outputs": [
    {
     "name": "stdout",
     "output_type": "stream",
     "text": [
      ".sreppep delkcip fo kcep a dekcip repip retep\n"
     ]
    }
   ],
   "source": [
    "#Write a python program to find below output using loop:-\n",
    "\n",
    "#Input:- 'peter piper picked a peck of pickled peppers.'\n",
    "#Output:- '.sreppep delkcip fo kcep a dekcip repip retep'\n",
    "\n",
    "user='peter piper picked a peck of pickled peppers.'\n",
    "out = ''\n",
    "for i in user:\n",
    "    out = i + out\n",
    "print(out)"
   ]
  },
  {
   "cell_type": "code",
   "execution_count": 24,
   "metadata": {
    "colab": {},
    "colab_type": "code",
    "id": "3rt6p0ytdkq0"
   },
   "outputs": [
    {
     "name": "stdout",
     "output_type": "stream",
     "text": [
      " retep repip dekcip a kcep fo delkcip sreppep\n"
     ]
    }
   ],
   "source": [
    "#Write a python program to find below output using loop:-\n",
    "\n",
    "#Input:- 'peter piper picked a peck of pickled peppers.'\n",
    "#Output:- 'retep repip dekcip a kcep fo delkcip sreppep'\n",
    "\n",
    "user = 'peter piper picked a peck of pickled peppers.'\n",
    "lst = []\n",
    "ot = ''\n",
    "for i in user:\n",
    "    if i == ' ' or  i == '.':\n",
    "        lst.append(ot)\n",
    "        ot=''\n",
    "    else:\n",
    "        ot = i + ot\n",
    "new_ot=''\n",
    "for i in lst:\n",
    "    new_ot = new_ot + ' ' + i\n",
    "print(new_ot)"
   ]
  },
  {
   "cell_type": "code",
   "execution_count": null,
   "metadata": {
    "colab": {},
    "colab_type": "code",
    "id": "HdlAWgT2dnKO"
   },
   "outputs": [],
   "source": [
    "#Write a python program to find below output using loop:-\n",
    "\n",
    "#Input:- 'peter piper picked a peck of pickled peppers.'\n",
    "#Output:- 'Peter Piper Picked A Peck Of Pickled Peppers'"
   ]
  },
  {
   "cell_type": "code",
   "execution_count": null,
   "metadata": {
    "colab": {},
    "colab_type": "code",
    "id": "OthUuacodrNl"
   },
   "outputs": [],
   "source": [
    "#Write a python program to find below output using loop:-\n",
    "\n",
    "#Input:- 'Peter Piper Picked A Peck Of Pickled Peppers.'\n",
    "#Output:- 'Peter piper picked a peck of pickled peppers'"
   ]
  },
  {
   "cell_type": "code",
   "execution_count": 26,
   "metadata": {
    "colab": {
     "base_uri": "https://localhost:8080/",
     "height": 34
    },
    "colab_type": "code",
    "id": "scmDJE-ldsI9",
    "outputId": "4b1d1979-9f4a-4bc6-c505-b88b1bbd4d5d"
   },
   "outputs": [
    {
     "name": "stdout",
     "output_type": "stream",
     "text": [
      "Peter Piper Picked A Pack Of Pickled Peppers \n"
     ]
    }
   ],
   "source": [
    "#Write a python program to implement index method using loop. If sub_str is found in my_str then it will print the index\n",
    "# of first occurrence of first character of matching string in my_str:-\n",
    "\n",
    "#Input:- my_str = 'Peter Piper Picked A Peck Of Pickled Peppers.', sub_str = 'Pickl'\n",
    "#Output:- 29\n",
    "\n",
    "input_str = 'Peter Piper Picked A Peck Of Pickled Peppers.'\n",
    "sub_str = 'Peck'\n",
    "new_str = 'Pack'\n",
    "estr = ''\n",
    "str_list = []\n",
    "\n",
    "for i in input_str:\n",
    "    if i == ' ' or i == '.':\n",
    "        str_list.append(estr)\n",
    "        estr = ''\n",
    "    else:\n",
    "        estr += i\n",
    "count = 0\n",
    "for i in str_list:\n",
    "    if i == sub_str:\n",
    "        str_list[count] = new_str\n",
    "    count += 1\n",
    "out = ''\n",
    "for q in str_list:\n",
    "    out = out + q + ' '\n",
    "print(out)"
   ]
  },
  {
   "cell_type": "code",
   "execution_count": null,
   "metadata": {
    "colab": {},
    "colab_type": "code",
    "id": "Kq_fwdb_dvYE"
   },
   "outputs": [],
   "source": [
    "#Write a python program to implement replace method using loop. If sub_str is found in my_str then it will replace the first \n",
    "#occurrence of sub_str with new_str else it will will print sub_str not found:-\n",
    "\n",
    "#Input:- my_str = 'Peter Piper Picked A Peck Of Pickled Peppers.', sub_str = 'Peck', new_str = 'Pack'\n",
    "#Output:- 'Peter Piper Picked A Pack Of Pickled Peppers.'\n",
    "\n",
    "\n"
   ]
  },
  {
   "cell_type": "code",
   "execution_count": null,
   "metadata": {
    "colab": {},
    "colab_type": "code",
    "id": "4Qes5D0cdyd1"
   },
   "outputs": [],
   "source": [
    "#Write a python program to find below output (implements rjust and ljust) using loop:-\n",
    "\n",
    "#Input:- 'Peter Piper Picked A Peck Of Pickled Peppers.', sub_str = 'Peck', \n",
    "#Output:- '*********************Peck********************'\n",
    "\n",
    "\n",
    "\n"
   ]
  },
  {
   "cell_type": "code",
   "execution_count": null,
   "metadata": {
    "colab": {},
    "colab_type": "code",
    "id": "DsOrb07Od0lR"
   },
   "outputs": [],
   "source": [
    "#Write a python program to find below output using loop:-\n",
    "\n",
    "#Input:- 'This is Python class', sep = 'is', \n",
    "#Output:- ['This', 'is', 'Python class']\n",
    "\n"
   ]
  },
  {
   "cell_type": "code",
   "execution_count": 27,
   "metadata": {
    "colab": {},
    "colab_type": "code",
    "id": "jRnBVufmd2Ay"
   },
   "outputs": [
    {
     "name": "stdout",
     "output_type": "stream",
     "text": [
      "R{vjqp\n",
      "Rwvfql\n",
      "R{vfml\n"
     ]
    }
   ],
   "source": [
    "#Write a python program which takes one input string from user and encode it in below format:-\n",
    "    # 1. #Input:- 'Python'\n",
    "       #Output:- 'R{vjqp'\n",
    "        \n",
    "my_str = 'Python'\n",
    "s = ''\n",
    "for i in range(len(my_str)):\n",
    "    s += (chr(ord(my_str[i])+2))\n",
    "print(s)\n",
    "       \n",
    "        \n",
    "        \n",
    "        \n",
    "\n",
    "    # 2. #Input:- 'Python'\n",
    "       #Output:- 'Rwvfql'\n",
    "        \n",
    "        \n",
    "s1 = ''\n",
    "for i in range(len(my_str)):\n",
    "    if i%2 == 0:\n",
    "        s1 += (chr(ord(my_str[i])+2))\n",
    "    else:\n",
    "        s1 += (chr(ord(my_str[i])-2))\n",
    "print(s1)        \n",
    "        \n",
    "        \n",
    "    # 3. #Input:- 'Python'\n",
    "       #Output:- 'R{vkfml'\n",
    "\n",
    "s2 = ''\n",
    "for i in range(0,len(my_str)):\n",
    "    if i < (len(my_str)/2):\n",
    "        s2 += (chr(ord(my_str[i])+2))\n",
    "    else:\n",
    "        s2 += (chr(ord(my_str[i])-2))\n",
    "print(s2)"
   ]
  }
 ],
 "metadata": {
  "colab": {
   "name": "Conditional_and_loop_assignment.ipynb",
   "provenance": []
  },
  "kernelspec": {
   "display_name": "Python 3",
   "language": "python",
   "name": "python3"
  },
  "language_info": {
   "codemirror_mode": {
    "name": "ipython",
    "version": 3
   },
   "file_extension": ".py",
   "mimetype": "text/x-python",
   "name": "python",
   "nbconvert_exporter": "python",
   "pygments_lexer": "ipython3",
   "version": "3.8.3"
  }
 },
 "nbformat": 4,
 "nbformat_minor": 1
}
