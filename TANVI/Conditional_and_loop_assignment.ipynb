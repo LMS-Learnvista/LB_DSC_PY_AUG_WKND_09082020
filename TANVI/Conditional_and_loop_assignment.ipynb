{
 "cells": [
  {
   "cell_type": "markdown",
   "metadata": {
    "colab_type": "text",
    "id": "wNRNTbrsc53d"
   },
   "source": [
    "# If - elif - else statement"
   ]
  },
  {
   "cell_type": "code",
   "execution_count": 5,
   "metadata": {
    "colab": {},
    "colab_type": "code",
    "id": "MiPfTnBycxNa"
   },
   "outputs": [
    {
     "name": "stdout",
     "output_type": "stream",
     "text": [
      "Enter a number from 0 to 9:5\n",
      "five\n"
     ]
    }
   ],
   "source": [
    "#W. A P. which takes one number from 0 to 9 from the user and prints it in the word. And if the word is not from 0 to 9 then\n",
    "#it should print that number is outside of the range and program should exit.\n",
    "# For exapmple:- \n",
    "# input = 1\n",
    "# output = one\n",
    "a=int(input('Enter a number from 0 to 9:'))\n",
    "if(a==0):\n",
    "    print('zero')\n",
    "elif(a==1):\n",
    "    print('one')\n",
    "elif(a==2):\n",
    "    print('two')\n",
    "elif(a==3):\n",
    "    print('three')\n",
    "elif(a==4):\n",
    "    print('four')\n",
    "elif(a==5):\n",
    "    print('five')\n",
    "elif(a==6):\n",
    "    print('six')\n",
    "elif(a==7):\n",
    "    print('seven')\n",
    "elif(a==8):\n",
    "    print('eight')\n",
    "elif(a==9):\n",
    "    print('nine')\n",
    "else:\n",
    "    print('Number is outside of the range')\n"
   ]
  },
  {
   "cell_type": "code",
   "execution_count": 7,
   "metadata": {
    "colab": {},
    "colab_type": "code",
    "id": "vEMNOv9zdA39"
   },
   "outputs": [
    {
     "name": "stdout",
     "output_type": "stream",
     "text": [
      "Enter the first number: 4\n",
      "Enter the second number: 7\n",
      "Please select any one operation from below:-\n",
      "          * To add enter 1\n",
      "          * to subtract enter 2\n",
      "          * To multiply enter 3\n",
      "          * To divide enter 4\n",
      "          * To divide and find quotient enter 5\n",
      "          * To divide and find remainder enter 6\n",
      "          * To divide and find num1 to the power of num2 enter 7\n",
      "          * To Come out of the program enter 8\n",
      "Select the operation: 8\n"
     ]
    }
   ],
   "source": [
    "#W. A P. to implement calculator but the operation to be done and two numbers will be taken as input from user:-\n",
    "#Operation console should show below:-\n",
    "#     Please select any one operation from below:-\n",
    "#         * To add enter 1\n",
    "#         * to subtract enter 2\n",
    "#         * To multiply enter 3\n",
    "#         * To divide enter 4\n",
    "#         * To divide and find quotient enter 5\n",
    "#         * To divide and find remainder enter 6\n",
    "#         * To divide and find num1 to the power of num2 enter 7\n",
    "#         * To Come out of the program enter 8\n",
    "\n",
    "\n",
    "num1=int(input('Enter the first number: '))\n",
    "num2=int(input('Enter the second number: '))\n",
    "\n",
    "opType= '''Please select any one operation from below:-\n",
    "          * To add enter 1\n",
    "          * to subtract enter 2\n",
    "          * To multiply enter 3\n",
    "          * To divide enter 4\n",
    "          * To divide and find quotient enter 5\n",
    "          * To divide and find remainder enter 6\n",
    "          * To divide and find num1 to the power of num2 enter 7\n",
    "          * To Come out of the program enter 8'''\n",
    "print(opType)\n",
    "op=int(input('Select the operation: '))\n",
    "\n",
    "if(op==1):\n",
    "    print('Sum is',(num1+num2))\n",
    "elif(op==2):\n",
    "    print('Difference is',(num1-num2))\n",
    "elif(op==3):\n",
    "    print('Product is',(num1*num2))\n",
    "elif(op==4):\n",
    "    print('Division is',(num1/num2))\n",
    "elif(op==5):\n",
    "    print('Quotient is',(num1//num2))\n",
    "elif(op==6):\n",
    "    print('Remainder is',(num1%num2))\n",
    "elif(op==7):\n",
    "    print('Exponent is',(num1**num2))\n",
    "elif(op==8):\n",
    "    pass\n",
    "else:\n",
    "    'Provide a valid operation'\n",
    "\n"
   ]
  },
  {
   "cell_type": "code",
   "execution_count": 20,
   "metadata": {
    "colab": {},
    "colab_type": "code",
    "id": "1e2gwYLqdC1s"
   },
   "outputs": [
    {
     "name": "stdout",
     "output_type": "stream",
     "text": [
      "Enter a year: 1900\n",
      "Not a leap year. 1900\n"
     ]
    }
   ],
   "source": [
    "#W A P to check whether a year entered by user is an leap year or not?\n",
    "#Check with below input:-\n",
    "    #leap year:- 2012, 1968, 2004, 1200, 1600,2400\n",
    "    #Non-lear year:- 1971, 2006, 1700,1800,1900\n",
    "    \n",
    "year = int(input(\"Enter a year: \"))\n",
    "if(((year % 4 == 0) and (year % 100 != 0)) or (year % 400 == 0)):\n",
    "    print(\"Leap year.\", year)    \n",
    "else:\n",
    "    print(\"Not a leap year.\", year)\n",
    "    \n",
    "    "
   ]
  },
  {
   "cell_type": "code",
   "execution_count": 50,
   "metadata": {
    "colab": {},
    "colab_type": "code",
    "id": "_tpXv1EtdEre"
   },
   "outputs": [
    {
     "name": "stdout",
     "output_type": "stream",
     "text": [
      "Enter the number0\n",
      "Even number\n"
     ]
    }
   ],
   "source": [
    "#W A P which takes one number from the user and checks whether it is an even or odd number?, If it even then prints number is \n",
    "#even number else prints that number is odd number.\n",
    "\n",
    "num=int(input('Enter the number'))\n",
    "if((num % 2)==0):\n",
    "    print('Even number')\n",
    "else:\n",
    "    print('The number is odd')"
   ]
  },
  {
   "cell_type": "code",
   "execution_count": 5,
   "metadata": {
    "colab": {},
    "colab_type": "code",
    "id": "Q1HumymCdG6i"
   },
   "outputs": [
    {
     "name": "stdout",
     "output_type": "stream",
     "text": [
      "Enter first number33\n",
      "Enter second number33\n",
      "num1 is equal to num2\n"
     ]
    }
   ],
   "source": [
    "#W A P which takes two numbers from the user and prints below output:-\n",
    "#     1. num1 is greater than num2 if num1 is greater than num2\n",
    "#     2. num1 is smaller than num2 if num1 is smaller than num2\n",
    "#     3. num1 is equal to num2 if num1 and num2 are equal\n",
    "\n",
    "#Note:- 1. Do this problem using if - else \n",
    "#       2. Do this using ternary operator\n",
    "\n",
    "#Using if - else \n",
    "num1=int(input('Enter first number'))\n",
    "num2=int(input('Enter second number'))\n",
    "if(num1!=num2):\n",
    "    if(num1>num2):\n",
    "        print('num1 is greater than num2')\n",
    "    else:\n",
    "        print('num1 is smaller than num2')\n",
    "else:\n",
    "     print('num1 is equal to num2')\n",
    "\n",
    "#Using Ternary Operator\n",
    "# num1=int(input('Enter first number'))\n",
    "# num2=int(input('Enter second number'))\n",
    "\n",
    "# a = \"num1 is greater than num2\" if num1>num2 else \"num1 is smaller than num2\" if num1<num2 else \"num1 is equal to num2\"\n",
    "# print(a)\n"
   ]
  },
  {
   "cell_type": "code",
   "execution_count": 11,
   "metadata": {
    "colab": {},
    "colab_type": "code",
    "id": "LR6TVB-DdOPf"
   },
   "outputs": [
    {
     "name": "stdout",
     "output_type": "stream",
     "text": [
      "Enter the first number67\n",
      "Enter the second number68\n",
      "Enter the third number99\n",
      "num3 is greater than num1 and num2\n"
     ]
    }
   ],
   "source": [
    "#W A P which takes three numbers from the user and prints below output:-\n",
    "#     1. num1 is greater than num2 and num3 if num1 is greater than num2 and num3\n",
    "#     2. num2 is greater than num1 and num3 if num2 is greater than num1 and num3\n",
    "#     3. num3 is greater than num1 and num2 if num3 is greater than num1 and num2\n",
    "\n",
    "#Note:- 1. Do this problem using if - elif - else \n",
    "#       2. Do this using ternary operator\n",
    "\n",
    "# a = a if a>b else b\n",
    "#expr if cond1 else expr2 if cond2 else expr3\n",
    "\n",
    "#Using if - elif - else\n",
    "# num1=int(input('Enter the first number'))\n",
    "# num2=int(input('Enter the second number'))\n",
    "# num3=int(input('Enter the third number'))\n",
    "# if((num1>num2)&(num1>num3)):\n",
    "#     print('num1 is greater than num2 and num3')\n",
    "# elif((num2>num1)&(num2>num3)):\n",
    "#     print('num2 is greater than num1 and num3')\n",
    "# else:\n",
    "#     print('num3 is greater than num1 and num2')\n",
    "    \n",
    "    \n",
    "#Using Ternary Operator\n",
    "num1=int(input('Enter the first number'))\n",
    "num2=int(input('Enter the second number'))\n",
    "num3=int(input('Enter the third number'))\n",
    "\n",
    "a = \"num1 is greater than num2 and num3\" if (num1>num2)&(num1>num3) else \"num2 is greater than num1 and num3\" if (num2>num1)&(num2>num3) else \"num3 is greater than num1 and num2\"\n",
    "print(a)\n",
    "    "
   ]
  },
  {
   "cell_type": "markdown",
   "metadata": {
    "colab_type": "text",
    "id": "IoOLQMUGdSox"
   },
   "source": [
    "# Loops - for loop, while loop"
   ]
  },
  {
   "cell_type": "code",
   "execution_count": 20,
   "metadata": {
    "colab": {},
    "colab_type": "code",
    "id": "9K23Uld8dQfA"
   },
   "outputs": [
    {
     "name": "stdout",
     "output_type": "stream",
     "text": [
      "55\n"
     ]
    }
   ],
   "source": [
    "#Write a Python program to find the length of the my_str using loop:-\n",
    "\n",
    "#Input:- 'Write a Python program to find the length of the my_str'\n",
    "#Output:- 55\n",
    "\n",
    "my_str=\"Write a Python program to find the length of the my_str\"\n",
    "count=0\n",
    "for i in my_str:\n",
    "    count=count+1\n",
    "print(count)\n",
    "    \n"
   ]
  },
  {
   "cell_type": "code",
   "execution_count": 41,
   "metadata": {
    "colab": {},
    "colab_type": "code",
    "id": "bp6AcqTsdYxy"
   },
   "outputs": [
    {
     "name": "stdout",
     "output_type": "stream",
     "text": [
      "9\n"
     ]
    }
   ],
   "source": [
    "#Write a Python program to find the total number of times letter 'p' is appeared in the below string using loop:-\n",
    "    \n",
    "#Input:- 'peter piper picked a peck of pickled peppers.\\n'\n",
    "#Output:- 9\n",
    "\n",
    "my_str=\"peter piper picked a peck of pickled peppers.\\n\"\n",
    "count=0\n",
    "for i in my_str:\n",
    "    if(\"p\" == i):\n",
    "        count=count+1\n",
    "print(count) "
   ]
  },
  {
   "cell_type": "code",
   "execution_count": 3,
   "metadata": {
    "colab": {},
    "colab_type": "code",
    "id": "xvxSBhTJdav1"
   },
   "outputs": [
    {
     "name": "stdout",
     "output_type": "stream",
     "text": [
      "0\n",
      "6\n",
      "8\n",
      "12\n",
      "21\n",
      "29\n",
      "37\n",
      "39\n",
      "40\n"
     ]
    }
   ],
   "source": [
    "#Write a Python Program, to print all the indexes of all occurences of letter 'p' appeared in the string using loop:-\n",
    "    \n",
    "#Input:- 'peter piper picked a peck of pickled peppers.'\n",
    "#Output:- \n",
    "# 0\n",
    "# 6\n",
    "# 8\n",
    "# 12\n",
    "# 21\n",
    "# 29\n",
    "# 37\n",
    "# 39\n",
    "# 40\n",
    "\n",
    "my_str=\"peter piper picked a peck of pickled peppers.\"\n",
    "a = len(my_str)\n",
    "for i in range(a):\n",
    "    if(my_str[i] == \"p\"):\n",
    "        print(i)\n"
   ]
  },
  {
   "cell_type": "code",
   "execution_count": 111,
   "metadata": {
    "colab": {},
    "colab_type": "code",
    "id": "79L_feMadbmw"
   },
   "outputs": [
    {
     "name": "stdout",
     "output_type": "stream",
     "text": [
      "['peter', 'piper', 'picked', 'a', 'peck', 'of', 'pickled', 'peppers.']\n"
     ]
    }
   ],
   "source": [
    "#Write a python program to find below output using loop:-\n",
    "\n",
    "#Input:- 'peter piper picked a peck of pickled peppers.'\n",
    "#Output:- ['peter', 'piper', 'picked', 'a', 'peck', 'of', 'pickled', 'peppers']\n",
    "\n",
    "# my_str=\"peter piper picked a peck of pickled peppers.\"\n",
    "# for i in my_str:\n",
    "#     x = my_str.split(\" \")\n",
    "    \n",
    "# print(x)\n",
    "\n",
    "my_str=\"peter piper picked a peck of pickled peppers.\"\n",
    "b=\"\"\n",
    "lst=[]\n",
    "for i in range(len(my_str)):\n",
    "    if(my_str[i]==\" \"):\n",
    "        lst.append(b)\n",
    "        b=\"\"\n",
    "    else:\n",
    "        a = end=my_str[i]\n",
    "        b= b+a\n",
    "lst.append(b)\n",
    "print(lst)"
   ]
  },
  {
   "cell_type": "code",
   "execution_count": 209,
   "metadata": {
    "colab": {},
    "colab_type": "code",
    "id": "vzs5AJ53deVS"
   },
   "outputs": [
    {
     "name": "stdout",
     "output_type": "stream",
     "text": [
      "peppers pickled of peck a picked piper peter\n"
     ]
    }
   ],
   "source": [
    "#Write a python program to find below output using loop:-\n",
    "\n",
    "#Input:- 'peter piper picked a peck of pickled peppers.'\n",
    "#Output:- 'peppers pickled of peck a picked piper peter'\n",
    "\n",
    "s = \"peter piper picked a peck of pickled peppers\"\n",
    "x = s.split(' ') \n",
    "string =[] \n",
    "for i in x: \n",
    "     string.insert(0, i) \n",
    "  \n",
    "print(\" \".join(string))\n",
    "\n",
    "    \n",
    "    \n"
   ]
  },
  {
   "cell_type": "code",
   "execution_count": 53,
   "metadata": {
    "colab": {},
    "colab_type": "code",
    "id": "i-HP7DrCdhwS"
   },
   "outputs": [
    {
     "name": "stdout",
     "output_type": "stream",
     "text": [
      ".sreppep delkcip fo kcep a dekcip repip retep"
     ]
    }
   ],
   "source": [
    "#Write a python program to find below output using loop:-\n",
    "\n",
    "#Input:- 'peter piper picked a peck of pickled peppers.'\n",
    "#Output:- '.sreppep delkcip fo kcep a dekcip repip retep'\n",
    "\n",
    "str1 = 'peter piper picked a peck of pickled peppers.'\n",
    "l= len(str1)\n",
    "for i in range(l-1,-1,-1):\n",
    "    print(end=str1[i])\n"
   ]
  },
  {
   "cell_type": "code",
   "execution_count": 94,
   "metadata": {
    "colab": {},
    "colab_type": "code",
    "id": "3rt6p0ytdkq0"
   },
   "outputs": [
    {
     "name": "stdout",
     "output_type": "stream",
     "text": [
      "retep repip dekcip a kcep fo delkcip .sreppep "
     ]
    }
   ],
   "source": [
    "#Write a python program to find below output using loop:-\n",
    "\n",
    "#Input:- 'peter piper picked a peck of pickled peppers.'\n",
    "#Output:- 'retep repip dekcip a kcep fo delkcip sreppep'\n",
    "\n",
    "\n",
    "my_str=\"peter piper picked a peck of pickled peppers.\"\n",
    "for i in my_str:\n",
    "    x = my_str.split(\" \")\n",
    "for j in range(len(x)):\n",
    "    for k in range(len(x[j])-1,-1,-1):\n",
    "        b = (x[j][k])\n",
    "        print(end=b)\n",
    "    c = (' ')\n",
    "    print(end=c)\n",
    "\n",
    "\n"
   ]
  },
  {
   "cell_type": "code",
   "execution_count": 208,
   "metadata": {
    "colab": {},
    "colab_type": "code",
    "id": "HdlAWgT2dnKO"
   },
   "outputs": [
    {
     "name": "stdout",
     "output_type": "stream",
     "text": [
      "Peter Piper Picked A Peck Of Pickled Peppers\n"
     ]
    }
   ],
   "source": [
    "#Write a python program to find below output using loop:-\n",
    "\n",
    "#Input:- 'peter piper picked a peck of pickled peppers.'\n",
    "#Output:- 'Peter Piper Picked A Peck Of Pickled Peppers'\n",
    "\n",
    "s = \"peter piper picked a peck of pickled peppers\"\n",
    "x = s.split(' ') \n",
    "string =[]\n",
    "for i in x:\n",
    "     p=i.title()\n",
    "     string.append(p)\n",
    "         \n",
    "print(\" \".join(string))\n",
    "        \n"
   ]
  },
  {
   "cell_type": "code",
   "execution_count": 14,
   "metadata": {
    "colab": {},
    "colab_type": "code",
    "id": "OthUuacodrNl"
   },
   "outputs": [
    {
     "name": "stdout",
     "output_type": "stream",
     "text": [
      "peter piper picked a peck of pickled peppers.\n"
     ]
    }
   ],
   "source": [
    "#Write a python program to find below output using loop:-\n",
    "\n",
    "#Input:- 'Peter Piper Picked A Peck Of Pickled Peppers.'\n",
    "#Output:- 'Peter piper picked a peck of pickled peppers'\n",
    "\n",
    "\n",
    "s = \"Peter Piper Picked A Peck Of Pickled Peppers.\"\n",
    "x = s.split(' ') \n",
    "string =[] \n",
    "for i in x:\n",
    "     p=i.lower()\n",
    "     string.append(p)\n",
    "         \n",
    "print(\" \".join(string))\n",
    "\n",
    "\n"
   ]
  },
  {
   "cell_type": "code",
   "execution_count": 245,
   "metadata": {
    "colab": {
     "base_uri": "https://localhost:8080/",
     "height": 34
    },
    "colab_type": "code",
    "id": "scmDJE-ldsI9",
    "outputId": "4b1d1979-9f4a-4bc6-c505-b88b1bbd4d5d"
   },
   "outputs": [
    {
     "name": "stdout",
     "output_type": "stream",
     "text": [
      "29\n"
     ]
    }
   ],
   "source": [
    "#Write a python program to implement index method using loop. If sub_str is found in my_str then it will print the index\n",
    "# of first occurrence of first character of matching string in my_str:-\n",
    "\n",
    "#Input:- my_str = 'Peter Piper Picked A Peck Of Pickled Peppers.', sub_str = 'Pickl'\n",
    "#Output:- 29\n",
    "\n",
    "my_str=\"Peter Piper Picked A Peck Of Pickled Peppers.\"\n",
    "sub_str = \"Pickl\"\n",
    "s=my_str.split(' ')#list\n",
    "b=\"\"\n",
    "for i in s:\n",
    "    if(sub_str in i):\n",
    "        b=b+sub_str\n",
    "        break\n",
    "    else:\n",
    "        b=b+i\n",
    "        b=b+\" \"\n",
    "print(len(b)-5)\n",
    "        "
   ]
  },
  {
   "cell_type": "code",
   "execution_count": 127,
   "metadata": {
    "colab": {},
    "colab_type": "code",
    "id": "Kq_fwdb_dvYE"
   },
   "outputs": [
    {
     "name": "stdout",
     "output_type": "stream",
     "text": [
      " Peter Piper Picked A Pack Of Pickled Peppers.\n"
     ]
    }
   ],
   "source": [
    "#Write a python program to implement replace method using loop. If sub_str is found in my_str then it will replace the first \n",
    "#occurrence of sub_str with new_str else it will will print sub_str not found:-\n",
    "\n",
    "#Input:- my_str = 'Peter Piper Picked A Peck Of Pickled Peppers.', sub_str = 'Peck', new_str = 'Pack'\n",
    "#Output:- 'Peter Piper Picked A Pack Of Pickled Peppers.'\n",
    "\n",
    "# my_str=\"Peter Piper Picked A Peck Of Pickled Peppers.\"\n",
    "# sub_str = \"Peck\"\n",
    "# new_str = \"Pack\"\n",
    "# s=my_str.split()\n",
    "# string=[]\n",
    "# if(sub_str not in my_str):\n",
    "#     print('Sub_stg not found')\n",
    "# else:\n",
    "#     for i in s:\n",
    "#         if(sub_str in i):\n",
    "#             p=i.replace(sub_str,new_str)\n",
    "#             string.insert(4,p)\n",
    "#         else:\n",
    "#             string.append(i)\n",
    "\n",
    "#     print(\" \".join(string))\n",
    "\n",
    "my_str=\"Peter Piper Picked A Peck Of Pickled Peppers.\"\n",
    "sub_str = \"Peck\"\n",
    "new_str = \"Pack\"\n",
    "b=\"\"\n",
    "lst=[]\n",
    "s=my_str.split()\n",
    "string=[]\n",
    "str1 = \"\"\n",
    "if(sub_str not in my_str):\n",
    "    print('Sub_stg not found')\n",
    "else:\n",
    "    for i in range(len(my_str)):\n",
    "        if(my_str[i]==\" \"):\n",
    "            lst.append(b)\n",
    "            b=\"\"\n",
    "        else:\n",
    "            a = end=my_str[i]\n",
    "            b= b+a\n",
    "            if(b==\"Peck\"):\n",
    "                b=new_str\n",
    "    lst.append(b)\n",
    "    #print(lst)\n",
    "for i in lst:\n",
    "    str1= str1 +\" \"+i\n",
    "print(str1)\n"
   ]
  },
  {
   "cell_type": "code",
   "execution_count": 213,
   "metadata": {
    "colab": {},
    "colab_type": "code",
    "id": "4Qes5D0cdyd1"
   },
   "outputs": [
    {
     "name": "stdout",
     "output_type": "stream",
     "text": [
      "*****************Peck*****************\n"
     ]
    }
   ],
   "source": [
    "#Write a python program to find below output (implements rjust and ljust) using loop:-\n",
    "\n",
    "#Input:- 'Peter Piper Picked A Peck Of Pickled Peppers.', sub_str = 'Peck', \n",
    "#Output:- '*********************Peck********************'\n",
    "\n",
    "# my_str=\"Peter Piper Picked A Peck Of Pickled Peppers.\"\n",
    "# sub_str = \"Peck\"\n",
    "# a=len(my_str)\n",
    "# s=my_str.split()\n",
    "# for i in range(a):\n",
    "#     if()\n",
    "#     my_str[i]\n",
    "#     x=sub_str.rjust(20,\"*\")\n",
    "# print(x)\n",
    "\n",
    "my_str=\"Peter Piper Picked A Peck Of Pickled Peppers.\"\n",
    "sub_str = \"Peck\"\n",
    "b=\"\"\n",
    "lst=[]\n",
    "#s=my_str.split()\n",
    "string=[]\n",
    "str1 = \"\"\n",
    "d=\"\"\n",
    "c=\"\"\n",
    "if(sub_str not in my_str):\n",
    "    print('Sub_stg not found')\n",
    "else:\n",
    "    for i in range(len(my_str)):\n",
    "        if(my_str[i]==\" \"):\n",
    "            lst.append(b)\n",
    "            b=\"\"\n",
    "            c=\"\"\n",
    "        else:\n",
    "            a = end=\"*\"\n",
    "            d=my_str[i]\n",
    "            b= b+a\n",
    "            c=c+d\n",
    "            if(c==\"Peck\"):\n",
    "                b=sub_str\n",
    "    lst.append(b)\n",
    "    #print(lst)\n",
    "for i in lst:\n",
    "    str1= str1+i\n",
    "print(str1)\n",
    "\n",
    "    \n",
    "\n",
    "\n"
   ]
  },
  {
   "cell_type": "code",
   "execution_count": 193,
   "metadata": {
    "colab": {},
    "colab_type": "code",
    "id": "DsOrb07Od0lR"
   },
   "outputs": [
    {
     "name": "stdout",
     "output_type": "stream",
     "text": [
      "['This', 'is', 'Python class']\n"
     ]
    }
   ],
   "source": [
    "#Write a python program to find below output using loop:-\n",
    "\n",
    "#Input:- 'This is Python class', sep = 'is', \n",
    "#Output:- ['This', 'is', 'Python class']\n",
    "\n",
    "my_str=\"This is Python class\"\n",
    "b=\"\"\n",
    "lst=[]\n",
    "a=my_str.split(\" is \")\n",
    "a.insert(1,\"is\")\n",
    "\n",
    "print(a)    \n",
    "    \n",
    "# for i in range(len(my_str)):\n",
    "#     if(my_str[i]==\" \"):\n",
    "#         lst.append(b)\n",
    "#         b=\"\"\n",
    "#     else:\n",
    "#         a = end=my_str[i]\n",
    "#         b= b+a\n",
    "# lst.append(b)\n",
    "\n",
    "# print(lst)"
   ]
  },
  {
   "cell_type": "code",
   "execution_count": 244,
   "metadata": {
    "colab": {},
    "colab_type": "code",
    "id": "jRnBVufmd2Ay"
   },
   "outputs": [
    {
     "name": "stdout",
     "output_type": "stream",
     "text": [
      "R{vjqp\n",
      "\n",
      "Rwvfql"
     ]
    }
   ],
   "source": [
    "#Write a python program which takes one input string from user and encode it in below format:-\n",
    "    # 1. #Input:- 'Python'\n",
    "       #Output:- 'R{vjqp'\n",
    "txt = \"Python\"        \n",
    "# print(ord(\"P\"))\n",
    "# print(ord(\"y\"))\n",
    "# print(ord(\"t\"))\n",
    "# print(ord(\"h\"))\n",
    "# print(ord(\"o\"))\n",
    "# print(ord(\"n\"))\n",
    "# print(ord(\"R\"))\n",
    "# print(ord(\"{\"))\n",
    "# print(ord(\"v\"))\n",
    "# print(ord(\"j\"))\n",
    "# print(ord(\"q\"))\n",
    "# print(ord(\"p\"))\n",
    "\n",
    "#print(chr(80))\n",
    "\n",
    "\n",
    "txt = \"Python\"\n",
    "for i in txt:\n",
    "    a = ord(i)\n",
    "    b=a+2\n",
    "    c=chr(b)\n",
    "    print(end=c)\n",
    "print(\"\\n\")\n",
    "\n",
    "\n",
    "    # 2. #Input:- 'Python'\n",
    "       #Output:- 'Rwvfql'\n",
    "        \n",
    "\n",
    "txt = \"Python\"\n",
    "for i in range(len(txt)):\n",
    "    if(i%2 == 0):\n",
    "        a = ord(txt[i])\n",
    "        b=a+2\n",
    "        c=chr(b)\n",
    "        print(end=c)\n",
    "    else:\n",
    "        a = ord(txt[i])\n",
    "        b=a-2\n",
    "        c=chr(b)\n",
    "        print(end=c)\n",
    "        \n",
    "        \n",
    "    # 3. #Input:- 'Python'\n",
    "       #Output:- 'R{vkfml'\n",
    "\n"
   ]
  },
  {
   "cell_type": "code",
   "execution_count": null,
   "metadata": {},
   "outputs": [],
   "source": []
  }
 ],
 "metadata": {
  "colab": {
   "name": "Conditional_and_loop_assignment.ipynb",
   "provenance": []
  },
  "kernelspec": {
   "display_name": "Python 3",
   "language": "python",
   "name": "python3"
  },
  "language_info": {
   "codemirror_mode": {
    "name": "ipython",
    "version": 3
   },
   "file_extension": ".py",
   "mimetype": "text/x-python",
   "name": "python",
   "nbconvert_exporter": "python",
   "pygments_lexer": "ipython3",
   "version": "3.8.3"
  }
 },
 "nbformat": 4,
 "nbformat_minor": 1
}
