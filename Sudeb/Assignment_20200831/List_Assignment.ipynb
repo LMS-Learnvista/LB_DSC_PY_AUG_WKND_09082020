{
 "cells": [
  {
   "cell_type": "code",
   "execution_count": 4,
   "metadata": {
    "colab": {},
    "colab_type": "code",
    "id": "gtlAv2oq9yzd"
   },
   "outputs": [
    {
     "name": "stdout",
     "output_type": "stream",
     "text": [
      "[10,20,30,40]\n",
      "100\n"
     ]
    }
   ],
   "source": [
    "#Write a Python program to find the sum of all elements in a list using loop.\n",
    "#Input:- [10,20,30,40]\n",
    "#Output:- 100\n",
    "\n",
    "sm=0\n",
    "lst = eval(input())\n",
    "for i in lst:\n",
    "    sm +=i\n",
    "print(sm)"
   ]
  },
  {
   "cell_type": "code",
   "execution_count": 5,
   "metadata": {
    "colab": {},
    "colab_type": "code",
    "id": "gTbA8psa93Y_"
   },
   "outputs": [
    {
     "name": "stdout",
     "output_type": "stream",
     "text": [
      "[10,20,30,40]\n",
      "240000\n"
     ]
    }
   ],
   "source": [
    "#Write a Python program to find the multiplication of all elements in a list using loop.\n",
    "#Input:- [10,20,30,40]\n",
    "#Output:- 240000\n",
    "\n",
    "pr = 1\n",
    "lst = eval(input())\n",
    "for i in lst:\n",
    "    pr *=i\n",
    "print(pr)\n"
   ]
  },
  {
   "cell_type": "code",
   "execution_count": 9,
   "metadata": {
    "colab": {},
    "colab_type": "code",
    "id": "XBCrEtLN94Lj"
   },
   "outputs": [
    {
     "name": "stdout",
     "output_type": "stream",
     "text": [
      "[10,100,2321, 1,200,2]\n",
      "2321\n"
     ]
    }
   ],
   "source": [
    "#Write a Python program to find the largest number from a list using loop.\n",
    "#Input:- [10,100,2321, 1,200,2]\n",
    "#Output:- 2321\n",
    "\n",
    "lst = eval(input())\n",
    "#lst.sort(reverse=True)\n",
    "#print(lst[0])\n",
    "max = 0\n",
    "for i in lst:\n",
    "    if i > max:\n",
    "        max = i\n",
    "print(max)"
   ]
  },
  {
   "cell_type": "code",
   "execution_count": 13,
   "metadata": {
    "colab": {},
    "colab_type": "code",
    "id": "l3paUtbH94Vw"
   },
   "outputs": [
    {
     "name": "stdout",
     "output_type": "stream",
     "text": [
      "[10,100,2321, 1,200,2]\n",
      "1\n"
     ]
    }
   ],
   "source": [
    "#Write a Python program to find the smallest number from a list using loop.\n",
    "#Input:- [10,100,2321, 1,200,2]\n",
    "#Output:- 1\n",
    "\n",
    "lst = eval(input())\n",
    "min = lst[0]\n",
    "for i in lst:\n",
    "    if i < min:\n",
    "        min = i\n",
    "print(min)\n"
   ]
  },
  {
   "cell_type": "code",
   "execution_count": 22,
   "metadata": {
    "colab": {},
    "colab_type": "code",
    "id": "JTVgy5VD94cE"
   },
   "outputs": [
    {
     "name": "stdout",
     "output_type": "stream",
     "text": [
      "['ab', 'abc', 'aba', 'xyz', '1991']\n",
      "2\n"
     ]
    }
   ],
   "source": [
    "#Write a Python program to count the number of strings having length more than 2 and are palindrome in a list using loop.\n",
    "#Input:- ['ab', 'abc', 'aba', 'xyz', '1991']\n",
    "#Output:- 2\n",
    "\n",
    "cnt = 0\n",
    "lst = eval(input())\n",
    "for i in lst:\n",
    "    if i == i[::-1]:\n",
    "        cnt +=1\n",
    "print(cnt)"
   ]
  },
  {
   "cell_type": "code",
   "execution_count": 31,
   "metadata": {
    "colab": {},
    "colab_type": "code",
    "id": "xs-ZGJbJ94gr"
   },
   "outputs": [
    {
     "name": "stdout",
     "output_type": "stream",
     "text": [
      "[100,10,1,298,65,483,49876,2,80,9,9213]\n",
      "[1, 2, 9, 10, 65, 80, 100, 298, 483, 9213, 49876]\n"
     ]
    }
   ],
   "source": [
    "#Write a Python program to sort a list in ascending order using loop.\n",
    "#Input:- [100,10,1,298,65,483,49876,2,80,9,9213]\n",
    "#Output:- [1,2,9,10,65,80,100,298,483,9213,49876]\n",
    "\n",
    "lst = eval(input())\n",
    "tmp = lst[0]\n",
    "p = 0\n",
    "for i in range(0,len(lst)-1):\n",
    "    tmp = lst[i]\n",
    "    for j in range(i+1,len(lst)):\n",
    "        if tmp > lst[j]:\n",
    "            tmp = lst[j]\n",
    "            p = j\n",
    "    if tmp < lst[i]:\n",
    "        lst[p] = lst[i]\n",
    "        lst[i] = tmp\n",
    "print(lst)"
   ]
  },
  {
   "cell_type": "code",
   "execution_count": 33,
   "metadata": {
    "colab": {},
    "colab_type": "code",
    "id": "VhKQJizZ94kg"
   },
   "outputs": [
    {
     "name": "stdout",
     "output_type": "stream",
     "text": [
      "[(5,4),(9,1),(2,3),(5,9),(7,6),(5,5)]\n",
      "[(9, 1), (2, 3), (5, 4), (5, 5), (7, 6), (5, 9)]\n"
     ]
    }
   ],
   "source": [
    "#Write a Python program to get a sorted list in increasing order of last element in each tuple in a given list using loop.\n",
    "#Input:- [(5,4),(9,1),(2,3),(5,9),(7,6),(5,5)]\n",
    "#output:- [(9,1),(2,3),(5,4),(5,5),(7,6),(5,9)]\n",
    "\n",
    "def sort_list(lst):\n",
    "    tmp = lst[0]\n",
    "    p = 0\n",
    "    for i in range(0,len(lst)-1):\n",
    "        tmp = lst[i]\n",
    "        for j in range(i+1,len(lst)):\n",
    "            if tmp > lst[j]:\n",
    "                tmp = lst[j]\n",
    "                p = j\n",
    "        if tmp < lst[i]:\n",
    "            lst[p] = lst[i]\n",
    "            lst[i] = tmp\n",
    "    return lst\n",
    "\n",
    "lst = eval(input())\n",
    "tmp =[]\n",
    "for i in lst:\n",
    "    tmp.append(i[1])\n",
    "#print(tmp)\n",
    "sort_list(tmp)\n",
    "#print(tmp)\n",
    "for i in range(0,len(tmp)):\n",
    "    for j in lst:\n",
    "        if tmp[i] == j[1]:\n",
    "            tmp[i] = (j[0],j[1])\n",
    "lst = tmp[:]\n",
    "print(lst)"
   ]
  },
  {
   "cell_type": "code",
   "execution_count": 39,
   "metadata": {
    "colab": {},
    "colab_type": "code",
    "id": "YJrCLYp694n_"
   },
   "outputs": [
    {
     "name": "stdout",
     "output_type": "stream",
     "text": [
      "[10,1,11,1,29,876,768,10,11,1,92,29,876]\n",
      "[10, 1, 11, 29, 876, 768, 92]\n"
     ]
    }
   ],
   "source": [
    "#Write a Python program to remove fuplicate element from a list using loop.\n",
    "#Input:- [10,1,11,1,29,876,768,10,11,1,92,29,876]\n",
    "#Output:- [10,1,11,29,876,768,92]\n",
    "\n",
    "i=0\n",
    "lst = eval(input())\n",
    "#print(list(set(lst)))\n",
    "while i < len(lst):\n",
    "    j = i + 1\n",
    "    while j<len(lst):\n",
    "        if lst[j] == lst[i]:\n",
    "            del(lst[j])\n",
    "        else:\n",
    "            j+=1\n",
    "    i += 1\n",
    "\n",
    "print(lst)"
   ]
  },
  {
   "cell_type": "code",
   "execution_count": 40,
   "metadata": {
    "colab": {},
    "colab_type": "code",
    "id": "koYe4YCu94rh"
   },
   "outputs": [
    {
     "name": "stdout",
     "output_type": "stream",
     "text": [
      "[]\n",
      "List is empty\n"
     ]
    }
   ],
   "source": [
    "#Write a Python program to check a list is empty or not?\n",
    "#Input:- []\n",
    "#Output:- List is empty\n",
    "#Input:- [10,20,30]\n",
    "#Output:- List is not empty\n",
    "\n",
    "lst = eval(input())\n",
    "if lst:\n",
    "    print(\"List is not empty\")\n",
    "else:\n",
    "    print(\"List is empty\")\n",
    "\n"
   ]
  },
  {
   "cell_type": "code",
   "execution_count": 42,
   "metadata": {
    "colab": {},
    "colab_type": "code",
    "id": "mES1WANa94u5"
   },
   "outputs": [
    {
     "name": "stdout",
     "output_type": "stream",
     "text": [
      "[10,10.20,10+20j, 'Python', [10,20], (10,20)]\n",
      "[10, 10.2, (10+20j), 'Python', [10, 20], (10, 20)]\n"
     ]
    }
   ],
   "source": [
    "#Write a Python program to copy a list using loop.\n",
    "#inp_lst = [10,10.20,10+20j, 'Python', [10,20], (10,20)]\n",
    "#out_lst = [10,10.20,10+20j, 'Python', [10,20], (10,20)]\n",
    "\n",
    "from copy import deepcopy\n",
    "inp_lst = eval(input())\n",
    "out_lst = deepcopy(inp_lst)\n",
    "print(out_lst)"
   ]
  },
  {
   "cell_type": "code",
   "execution_count": 46,
   "metadata": {
    "colab": {},
    "colab_type": "code",
    "id": "CpBh31WO94yi"
   },
   "outputs": [
    {
     "name": "stdout",
     "output_type": "stream",
     "text": [
      "'How much wood would a woodchuck chuck if a woodchuck could chuck wood'\n",
      "['much', 'chuck', 'woodchuck', 'could', 'wood', 'would']\n"
     ]
    }
   ],
   "source": [
    "#Write a Python program to find the list of words that are longer than or equal to 4 from a given string.\n",
    "#Input:- 'How much wood would a woodchuck chuck if a woodchuck could chuck wood'\n",
    "#Output:- ['much', 'wood', 'would', 'woodchuck', 'chuck', 'could', 'could']\n",
    "#Note:- Duplicate should be avoided.\n",
    "\n",
    "sentence = eval(input())\n",
    "words = [i for i in sentence.split(' ') if len(i)>=4]\n",
    "print(list(set(words)))"
   ]
  },
  {
   "cell_type": "code",
   "execution_count": 52,
   "metadata": {
    "colab": {},
    "colab_type": "code",
    "id": "YVfj0fgZ9416"
   },
   "outputs": [
    {
     "name": "stdout",
     "output_type": "stream",
     "text": [
      "inp_lst1 = [10,20,'Python', 10.20, 10+20j, [10,20,30], (10,20,30)]\n",
      "inp_lst2 = [(10,20,30),1,20+3j,100.2, 10+20j, [10,20,30],'Python']\n",
      "True\n"
     ]
    }
   ],
   "source": [
    "#Write a Python program which takes two list as input and returns True if they have at least 3 common elements.\n",
    "#inp_lst1 = [10,20,'Python', 10.20, 10+20j, [10,20,30], (10,20,30)]\n",
    "#inp_lst2 = [(10,20,30),1,20+3j,100.2, 10+20j, [10,20,30],'Python']\n",
    "#Output:- True\n",
    "\n",
    "inp_lst1 = eval(input('inp_lst1 = '))\n",
    "inp_lst2 = eval(input('inp_lst2 = '))\n",
    "\n",
    "def remove_dups(lst):\n",
    "    i=0\n",
    "    while i < len(lst):\n",
    "        j = i + 1\n",
    "        while j<len(lst):\n",
    "            if lst[j] == lst[i]:\n",
    "                del(lst[j])\n",
    "            else:\n",
    "                j+=1\n",
    "        i += 1\n",
    "    #print(lst)\n",
    "\n",
    "remove_dups(inp_lst1)\n",
    "remove_dups(inp_lst2)\n",
    "\n",
    "cnt = 0\n",
    "for i in inp_lst1:\n",
    "    for j in inp_lst2:\n",
    "        if i == j:\n",
    "            cnt += 1\n",
    "    if cnt >= 3:\n",
    "        print(True)\n",
    "        break\n",
    "if cnt < 3:\n",
    "    print(False)\n"
   ]
  },
  {
   "cell_type": "code",
   "execution_count": 57,
   "metadata": {
    "colab": {},
    "colab_type": "code",
    "id": "7vwc3pjR945O"
   },
   "outputs": [
    {
     "name": "stdout",
     "output_type": "stream",
     "text": [
      "Using Loop :  [[0, 0, 0, 0], [0, 1, 2, 3], [0, 2, 4, 6], [0, 3, 6, 9]]\n",
      "Using List comprehencsion :  [[0, 0, 0, 0], [0, 1, 2, 3], [0, 2, 4, 6], [0, 3, 6, 9]]\n"
     ]
    }
   ],
   "source": [
    "#Write a Python program to create a 4X4 2D matrix with below elements using loop and list comprehension both.\n",
    "#Output:- [[0,0,0,0],[0,1,2,3],[0,2,4,6],[0,3,6,9]]\n",
    "\n",
    "\n",
    "lst = []\n",
    "c = 0\n",
    "while c < 4:\n",
    "    base = [0,1,2,3]\n",
    "    lst.append(list(map(lambda x : x*c,base)))\n",
    "    c += 1\n",
    "\n",
    "print(\"Using Loop : \",lst)\n",
    "\n",
    "\n",
    "lst_cmp = [ [ j * i for j in [0,1,2,3]] for i in [0,1,2,3] ]\n",
    "print(\"Using List comprehencsion : \",lst_cmp)"
   ]
  },
  {
   "cell_type": "code",
   "execution_count": 1,
   "metadata": {
    "colab": {},
    "colab_type": "code",
    "id": "Pxafor84948b"
   },
   "outputs": [
    {
     "name": "stdout",
     "output_type": "stream",
     "text": [
      "Matrix dimension3X4X6\n",
      "[1, 1, 1, 1, 1, 1]\n",
      "[[[0, 0, 0, 0, 0, 0], [0, 0, 0, 0, 0, 0], [0, 0, 0, 0, 0, 0], [0, 0, 0, 0, 0, 0]], [[0, 0, 0, 0, 0, 0], [1, 1, 1, 1, 1, 1], [2, 2, 2, 2, 2, 2], [3, 3, 3, 3, 3, 3]], [[0, 0, 0, 0, 0, 0], [2, 2, 2, 2, 2, 2], [4, 4, 4, 4, 4, 4], [6, 6, 6, 6, 6, 6]]]\n"
     ]
    }
   ],
   "source": [
    "#Write a Python program to create a 3X4X6 3D matrix wiith below elements using loop\n",
    "#Output:- \n",
    "# [\n",
    "#     [[0,0,0,0,0,0],[0,0,0,0,0,0],[0,0,0,0,0,0],[0,0,0,0,0,0]],\n",
    "#     [[0,0,0,0,0,0],[1,1,1,1,1,1],[2,2,2,2,2,2],[3,3,3,3,3,3]],\n",
    "#     [[0,0,0,0,0,0],[2,2,2,2,2,2],[4,4,4,4,4,4],[6,6,6,6,6,6]]\n",
    "# ]\n",
    "matrix_dim = input('Matrix dimension')\n",
    "dim_lst = matrix_dim.split('X')\n",
    "lst =[]\n",
    "for i in range(int(dim_lst[-1])):\n",
    "    lst.append(1)\n",
    "print(lst)\n",
    "new_lst = []\n",
    "for _ in range(3):\n",
    "    new_lst.append([ [j * i * _ for j in lst] for i in [0,1,2,3]])\n",
    "\n",
    "print(new_lst)\n"
   ]
  },
  {
   "cell_type": "code",
   "execution_count": 54,
   "metadata": {
    "colab": {},
    "colab_type": "code",
    "id": "lYNv8gk794_p"
   },
   "outputs": [
    {
     "name": "stdout",
     "output_type": "stream",
     "text": [
      "Input :- [10,21,22,98,87,45,33,1,2,100]\n",
      "[21, 87, 45, 33, 1]\n"
     ]
    }
   ],
   "source": [
    "#Write a Python program which takes a list of numbers as input and prints a new list after removing even numbers from it.\n",
    "#Input:- [10,21,22,98,87,45,33,1,2,100]\n",
    "#Output:- [21,87,45,33,1]\n",
    "\n",
    "lst = eval(input('Input :- '))\n",
    "new_lst = [i for i in lst if i%2 != 0]\n",
    "print(new_lst)"
   ]
  },
  {
   "cell_type": "code",
   "execution_count": 53,
   "metadata": {
    "colab": {},
    "colab_type": "code",
    "id": "3BaCb-rB95B7"
   },
   "outputs": [
    {
     "name": "stdout",
     "output_type": "stream",
     "text": [
      "[10,21,22,98,87,45,33,1,2,100]\n",
      "[100, 10, 21, 22, 33, 98, 2, 45, 87, 1]\n"
     ]
    }
   ],
   "source": [
    "#Write a Python program which takes a list from the user and prints it after reshuffling the elements of the list.\n",
    "#Input:- [10,21,22,98,87,45,33,1,2,100]\n",
    "#Output:- [1,87,21,10,33,2,100,45,98,22] (It may be any randon list but with same elements)\n",
    "\n",
    "import random\n",
    "lst = eval(input())\n",
    "random.shuffle(lst)\n",
    "print(lst)\n"
   ]
  }
 ],
 "metadata": {
  "colab": {
   "name": "List_Assignment.ipynb",
   "provenance": []
  },
  "kernelspec": {
   "display_name": "Python 3",
   "language": "python",
   "name": "python3"
  },
  "language_info": {
   "codemirror_mode": {
    "name": "ipython",
    "version": 3
   },
   "file_extension": ".py",
   "mimetype": "text/x-python",
   "name": "python",
   "nbconvert_exporter": "python",
   "pygments_lexer": "ipython3",
   "version": "3.8.2"
  }
 },
 "nbformat": 4,
 "nbformat_minor": 1
}
