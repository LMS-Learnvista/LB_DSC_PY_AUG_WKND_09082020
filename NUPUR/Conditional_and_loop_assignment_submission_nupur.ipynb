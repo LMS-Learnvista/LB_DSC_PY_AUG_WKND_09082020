{
 "cells": [
  {
   "cell_type": "markdown",
   "metadata": {
    "colab_type": "text",
    "id": "wNRNTbrsc53d"
   },
   "source": [
    "# If - elif - else statement"
   ]
  },
  {
   "cell_type": "code",
   "execution_count": 28,
   "metadata": {
    "colab": {},
    "colab_type": "code",
    "id": "MiPfTnBycxNa"
   },
   "outputs": [
    {
     "name": "stdout",
     "output_type": "stream",
     "text": [
      "enter a number between 0-9 to see its word form:10\n",
      "number is outside of the range\n"
     ]
    }
   ],
   "source": [
    "#W. A P. which takes one number from 0 to 9 from the user and prints it in the word. And if the word is not from 0 to 9 then\n",
    "#it should print that number is outside of the range and program should exit.\n",
    "# For exapmple:- \n",
    "# input = 1\n",
    "# output = one\n",
    "\n",
    "a=int(input('enter a number between 0-9 to see its word form:'))\n",
    "if(a==0) :\n",
    "  print('zero')\n",
    "elif(a==1):\n",
    "  print('one')\n",
    "elif(a==2):\n",
    "  print('TWO')\n",
    "elif(a==3):\n",
    "  print('THREE')\n",
    "elif(a==4):\n",
    "  print('FOUR')\n",
    "elif(a==5):\n",
    "  print('FIVE')\n",
    "elif(a==6):\n",
    "  print('SIX')\n",
    "elif(a==7):\n",
    "  print('SEVEN')\n",
    "elif(a==8):\n",
    "  print('EIGHT')\n",
    "elif(a==9):\n",
    "  print('NINE')\n",
    "\n",
    "else:\n",
    "    print('number is outside of the range')\n"
   ]
  },
  {
   "cell_type": "code",
   "execution_count": 29,
   "metadata": {
    "colab": {},
    "colab_type": "code",
    "id": "vEMNOv9zdA39"
   },
   "outputs": [
    {
     "name": "stdout",
     "output_type": "stream",
     "text": [
      "Select operation.\n",
      "1.Add\n",
      "2.Subtract\n",
      "3.Multiply\n",
      "4.Divide\n",
      "5.quotient\n",
      "6.Remainder\n",
      "7.power\n",
      "Enter choice(1/2/3/4/5/6/7/8):8\n",
      "Enter first number: 23\n",
      "Enter second number: 45\n",
      "Invalid input None\n"
     ]
    }
   ],
   "source": [
    "#W. A P. to implement calculator but the operation to be done and two numbers will be taken as input from user:-\n",
    "#Operation console should show below:-\n",
    "#     Please select any one operation from below:-\n",
    "#         * To add enter 1\n",
    "#         * to subtract enter 2\n",
    "#         * To multiply enter 3\n",
    "#         * To divide enter 4\n",
    "#         * To divide and find quotient enter 5\n",
    "#         * To divide and find remainder enter 6\n",
    "#         * To divide and find num1 to the power of num2 enter 7\n",
    "#         * To Come out of the program enter 8\n",
    "\n",
    "# define functions  \n",
    "def add(x, y):  \n",
    "   #This function adds two numbers enter 1#\n",
    "   return x + y \n",
    "def subtract(x, y): \n",
    "  #This function subtracts two numbers enter 2 #\n",
    "   return x - y \n",
    "def multiply(x, y): \n",
    "   #This function multiplies two numbers enter 3#\n",
    "   return x * y \n",
    "def divide(x, y): \n",
    "   #This function divides two numbers enter 4#\n",
    "   return x / y  \n",
    "\n",
    "def quotient(x, y): \n",
    "   #This function divide and find quotient enter 5#\n",
    "   return x // y \n",
    "def remainder(x, y): \n",
    "   #This function divide and find remainder enter 6 #\n",
    "   return x % y \n",
    "def power(x, y): \n",
    "   #This function divide find num1 to the power of num2 enter 7#\n",
    "   return x**y \n",
    "\n",
    "# take input from the user  \n",
    "print(\"Select operation.\")  \n",
    "print(\"1.Add\")  \n",
    "print(\"2.Subtract\")  \n",
    "print(\"3.Multiply\")  \n",
    "print(\"4.Divide\")  \n",
    "print(\"5.quotient\")  \n",
    "print(\"6.Remainder\")  \n",
    "print(\"7.power\")  \n",
    "\n",
    "  \n",
    "choice = input(\"Enter choice(1/2/3/4/5/6/7/8):\")  \n",
    "  \n",
    "num1 = int(input(\"Enter first number: \"))  \n",
    "num2 = int(input(\"Enter second number: \"))  \n",
    "  \n",
    "if choice == '1':  \n",
    "   print(num1,\"+\",num2,\"=\", add(num1,num2))  \n",
    "  \n",
    "elif choice == '2':  \n",
    "   print(num1,\"-\",num2,\"=\", subtract(num1,num2))  \n",
    "  \n",
    "elif choice == '3':  \n",
    "   print(num1,\"*\",num2,\"=\", multiply(num1,num2))  \n",
    "elif choice == '4':  \n",
    "   print(num1,\"/\",num2,\"=\", divide(num1,num2))  \n",
    "\n",
    "elif choice == '5':  \n",
    "   print(num1,\"//\",num2,\"=\", quotient(num1,num2))  \n",
    "elif choice == '6':  \n",
    "   print(num1,\"%\",num2,\"=\", remainder(num1,num2))  \n",
    "elif choice == '7':  \n",
    "   print(num1,\"power\",num2,\"=\", power(num1,num2))  \n",
    "else:  \n",
    "   print(\"Invalid input\",exit())  \n",
    "\n",
    "\n"
   ]
  },
  {
   "cell_type": "code",
   "execution_count": 1,
   "metadata": {
    "colab": {},
    "colab_type": "code",
    "id": "1e2gwYLqdC1s"
   },
   "outputs": [
    {
     "name": "stdout",
     "output_type": "stream",
     "text": [
      "enter the year to find out its leap or not2003\n",
      "its not a leap year\n"
     ]
    }
   ],
   "source": [
    "#W A P to check whether a year entered by user is an leap year or not?\n",
    "#Check with below input:-\n",
    "    #leap year:- 2012, 1968, 2004, 1200, 1600,2400\n",
    "    #Non-lear year:- 1971, 2006, 1700,1800,1900\n",
    "year = int(input('enter the year to find out its leap or not'))\n",
    "if (year%4==0):\n",
    "    print('its a leap year')\n",
    "else:\n",
    "    print('its not a leap year') \n"
   ]
  },
  {
   "cell_type": "code",
   "execution_count": 2,
   "metadata": {
    "colab": {},
    "colab_type": "code",
    "id": "_tpXv1EtdEre"
   },
   "outputs": [
    {
     "name": "stdout",
     "output_type": "stream",
     "text": [
      "enter a number45\n",
      "enter a number34\n",
      "num1 is greater than num 2\n"
     ]
    }
   ],
   "source": [
    "#W A P which takes one number from the user and checks whether it is an even or odd number?, If it even then prints number is \n",
    "#even number else prints that number is odd number.\n",
    "num1=int(input('enter a number'))\n",
    "num2=int(input('enter a number'))\n",
    "\n",
    "if(num1>num2) :\n",
    "  print('num1 is greater than num 2')\n",
    "elif(num1<num2):\n",
    "  print('num1 is smaller than num2')\n",
    "else:\n",
    "    print('num1 is equl to num2')\n",
    "\n"
   ]
  },
  {
   "cell_type": "code",
   "execution_count": null,
   "metadata": {
    "colab": {},
    "colab_type": "code",
    "id": "Q1HumymCdG6i"
   },
   "outputs": [],
   "source": [
    "#W A P which takes two numbers from the user and prints below output:-\n",
    "#     1. num1 is greater than num2 if num1 is greater than num2\n",
    "#     2. num1 is smaller than num2 if num1 is smaller than num2\n",
    "#     3. num1 is equal to num2 if num1 and num2 are equal\n",
    "\n",
    "#Note:- 1. Do this problem using if - else \n",
    "#       2. Do this using ternary operator\n",
    "\n"
   ]
  },
  {
   "cell_type": "code",
   "execution_count": null,
   "metadata": {
    "colab": {},
    "colab_type": "code",
    "id": "LR6TVB-DdOPf"
   },
   "outputs": [],
   "source": [
    "#W A P which takes three numbers from the user and prints below output:-\n",
    "#     1. num1 is greater than num2 and num3 if num1 is greater than num2 and num3\n",
    "#     2. num2 is greater than num1 and num3 if num2 is greater than num1 and num3\n",
    "#     3. num3 is greater than num1 and num2 if num3 is greater than num1 and num2\n",
    "\n",
    "#Note:- 1. Do this problem using if - elif - else \n",
    "#       2. Do this using ternary operator\n",
    "\n",
    "# a = a if a>b else b\n",
    "expr if cond1 else expr2 if cond2 else expr3\n"
   ]
  },
  {
   "cell_type": "markdown",
   "metadata": {
    "colab_type": "text",
    "id": "IoOLQMUGdSox"
   },
   "source": [
    "# Loops - for loop, while loop"
   ]
  },
  {
   "cell_type": "code",
   "execution_count": 1,
   "metadata": {
    "colab": {},
    "colab_type": "code",
    "id": "9K23Uld8dQfA"
   },
   "outputs": [
    {
     "name": "stdout",
     "output_type": "stream",
     "text": [
      "length of string is :  55\n"
     ]
    }
   ],
   "source": [
    "#Write a Python program to find the length of the my_str using loop:-\n",
    "\n",
    "#Input:- 'Write a Python program to find the length of the my_str'\n",
    "#Output:- 55\n",
    "my_str = 'Write a Python program to find the length of the my_str'\n",
    "print('length of string is : ',len(my_str))"
   ]
  },
  {
   "cell_type": "code",
   "execution_count": 2,
   "metadata": {
    "colab": {},
    "colab_type": "code",
    "id": "bp6AcqTsdYxy"
   },
   "outputs": [
    {
     "name": "stdout",
     "output_type": "stream",
     "text": [
      "43\n",
      "no of p in the strings 9\n"
     ]
    }
   ],
   "source": [
    "#Write a Python program to find the total number of times letter 'p' is appeared in the below string using loop:-\n",
    "    \n",
    "#Input:- 'peter piper picked a peck of pickled peppers.\\n'\n",
    "#Output:- 9\n",
    "p_string ='peter piper picked a pek of pickled peppers'\n",
    "\n",
    "j=0\n",
    "print( len(p_string))\n",
    "for i in range (len(p_string)):\n",
    "   # print(p_string[i])\n",
    "    if(p_string[i]== 'p'):\n",
    "     j+=1\n",
    "print('no of p in the strings',j)    \n",
    "    \n",
    "\n"
   ]
  },
  {
   "cell_type": "code",
   "execution_count": 7,
   "metadata": {
    "colab": {},
    "colab_type": "code",
    "id": "xvxSBhTJdav1"
   },
   "outputs": [
    {
     "name": "stdout",
     "output_type": "stream",
     "text": [
      "45\n",
      "# 0\n",
      "# 6\n",
      "# 8\n",
      "# 12\n",
      "# 21\n",
      "# 29\n",
      "# 37\n",
      "# 39\n",
      "# 40\n"
     ]
    }
   ],
   "source": [
    "#Write a Python Program, to print all the indexes of all occurences of letter 'p' appeared in the string using loop:-\n",
    "    \n",
    "#Input:- 'peter piper picked a peck of pickled peppers.'\n",
    "#Output:- \n",
    "# 0\n",
    "# 6\n",
    "# 8\n",
    "# 12\n",
    "# 21\n",
    "# 29\n",
    "# 37\n",
    "# 39\n",
    "# 40\n",
    "\n",
    "\n",
    "p_string ='peter piper picked a peck of pickled peppers.'\n",
    "\n",
    "j=0\n",
    "print( len(p_string))\n",
    "for i in range (len(p_string)):\n",
    "   # print(p_string[i] )\n",
    "    if(p_string[i]== 'p'):\n",
    "        print('#',i)\n",
    "        \n",
    "     \n",
    "        \n",
    "    "
   ]
  },
  {
   "cell_type": "code",
   "execution_count": 9,
   "metadata": {
    "colab": {},
    "colab_type": "code",
    "id": "79L_feMadbmw"
   },
   "outputs": [
    {
     "name": "stdout",
     "output_type": "stream",
     "text": [
      "['peter', 'piper', 'picked', 'a', 'peck', 'of', 'pickled', 'peppers.']\n"
     ]
    }
   ],
   "source": [
    "#Write a python program to find below output using loop:-\n",
    "\n",
    "#Input:- 'peter piper picked a peck of pickled peppers.'\n",
    "#Output:- ['peter', 'piper', 'picked', 'a', 'peck', 'of', 'pickled', 'peppers']\n",
    "\n",
    "\n",
    "\n",
    "#tp1 = input_string\n",
    "\n",
    "def Convert(input_string): \n",
    "    li = list(input_string.split(\" \")) \n",
    "    return li \n",
    "# Driver code \n",
    "input_string =\"peter piper picked a peck of pickled peppers.\"\n",
    "print(Convert(input_string))\n",
    "#print(tp1)"
   ]
  },
  {
   "cell_type": "code",
   "execution_count": 12,
   "metadata": {
    "colab": {},
    "colab_type": "code",
    "id": "vzs5AJ53deVS"
   },
   "outputs": [
    {
     "name": "stdout",
     "output_type": "stream",
     "text": [
      "peppers pickled of peck a picked piper peter\n"
     ]
    }
   ],
   "source": [
    "#Write a python program to find below output using loop:-\n",
    "\n",
    "#Input:- 'peter piper picked a peck of pickled peppers.'\n",
    "#Output:- 'peppers pickled of peck a picked piper peter'\n",
    "## initializing the string\n",
    "\n",
    "\n",
    "string = \"peter piper picked a peck of pickled peppers\"\n",
    "## splitting the string on space\n",
    "words = string.split()\n",
    "## reversing the words using reversed() function\n",
    "words = list(reversed(words))\n",
    "## joining the words and printing\n",
    "print(\" \".join(words))\n",
    "\n"
   ]
  },
  {
   "cell_type": "code",
   "execution_count": 12,
   "metadata": {
    "colab": {},
    "colab_type": "code",
    "id": "i-HP7DrCdhwS"
   },
   "outputs": [
    {
     "name": "stdout",
     "output_type": "stream",
     "text": [
      ".sreppep delkcip fo kcep a dekcip repip retep\n"
     ]
    }
   ],
   "source": [
    "#Write a python program to find below output using loop:-\n",
    "\n",
    "#Input:- 'peter piper picked a peck of pickled peppers.'\n",
    "#Output:- '.sreppep delkcip fo kcep a dekcip repip retep'\n",
    "\n",
    "input_string ='peter piper picked a peck of pickled peppers.'\n",
    "output_string = input_string[::-1] \n",
    "print(output_string )\n",
    "\n",
    "\n"
   ]
  },
  {
   "cell_type": "code",
   "execution_count": 27,
   "metadata": {
    "colab": {},
    "colab_type": "code",
    "id": "3rt6p0ytdkq0"
   },
   "outputs": [
    {
     "name": "stdout",
     "output_type": "stream",
     "text": [
      "['peppers', 'pickled', 'of', 'peck', 'a', 'picked', 'piper', 'peter']\n",
      "retep repip dekcip a kcep fo delkcip sreppep\n"
     ]
    }
   ],
   "source": [
    "#Write a python program to find below output using loop:-\n",
    "\n",
    "#Input:- 'peter piper picked a peck of pickled peppers.'\n",
    "#Output:- 'retep repip dekcip a kcep fo delkcip sreppep'\n",
    "\n",
    "input_string ='peter piper picked a peck of pickled peppers'\n",
    "\n",
    "li = input_string.split()\n",
    "\n",
    "for i in range (len(li)):\n",
    " output_string = li[::-1] \n",
    "print(output_string)\n",
    "\n",
    "final_string =\" \".join(output_string)\n",
    "#li1 =final_string.split()\n",
    "\n",
    "for i in range (len(final_string)):\n",
    " result_string = final_string[::-1] \n",
    "print(result_string)\n",
    "\n",
    "\n",
    "\n",
    "\n"
   ]
  },
  {
   "cell_type": "code",
   "execution_count": 30,
   "metadata": {
    "colab": {},
    "colab_type": "code",
    "id": "HdlAWgT2dnKO"
   },
   "outputs": [
    {
     "name": "stdout",
     "output_type": "stream",
     "text": [
      "Peter Piper Picked A Peck Of Pickled Peppers.\n"
     ]
    }
   ],
   "source": [
    "#Write a python program to find below output using loop:-\n",
    "\n",
    "#Input:- 'peter piper picked a peck of pickled peppers.'\n",
    "#Output:- 'Peter Piper Picked A Peck Of Pickled Peppers'\n",
    "\n",
    "\n",
    "input_string = 'peter piper picked a peck of pickled peppers.'\n",
    "output_string =input_string.title()\n",
    "print(output_string)\n"
   ]
  },
  {
   "cell_type": "code",
   "execution_count": 1,
   "metadata": {
    "colab": {},
    "colab_type": "code",
    "id": "OthUuacodrNl"
   },
   "outputs": [
    {
     "name": "stdout",
     "output_type": "stream",
     "text": [
      "Peter piper picked a peck of pickled peppers.\n"
     ]
    }
   ],
   "source": [
    "#Write a python program to find below output using loop:-\n",
    "\n",
    "#Input:- 'Peter Piper Picked A Peck Of Pickled Peppers.'\n",
    "#Output:- 'Peter piper picked a peck of pickled peppers'\n",
    "\n",
    "input_string ='Peter Piper Picked A Peck Of Pickled Peppers.'\n",
    "output_string =input_string.capitalize()\n",
    "print(output_string)\n",
    "\n",
    "\n",
    "\n"
   ]
  },
  {
   "cell_type": "code",
   "execution_count": null,
   "metadata": {
    "colab": {
     "base_uri": "https://localhost:8080/",
     "height": 34
    },
    "colab_type": "code",
    "id": "scmDJE-ldsI9",
    "outputId": "4b1d1979-9f4a-4bc6-c505-b88b1bbd4d5d"
   },
   "outputs": [
    {
     "name": "stdout",
     "output_type": "stream",
     "text": [
      "29\n"
     ]
    }
   ],
   "source": [
    "#Write a python program to implement index method using loop. If sub_str is found in my_str then it will print the index\n",
    "# of first occurrence of first character of matching string in my_str:-\n",
    "\n",
    "#Input:- my_str = 'Peter Piper Picked A Peck Of Pickled Peppers.', sub_str = 'Pickl'\n",
    "#Output:- 29\n",
    "\n",
    "my_str = 'Peter Piper Picked A Peck Of Pickled Peppers.'\n",
    "sub_str = 'Pickl'\n",
    "\n",
    "\n"
   ]
  },
  {
   "cell_type": "code",
   "execution_count": null,
   "metadata": {
    "colab": {},
    "colab_type": "code",
    "id": "Kq_fwdb_dvYE"
   },
   "outputs": [],
   "source": [
    "#Write a python program to implement replace method using loop. If sub_str is found in my_str then it will replace the first \n",
    "#occurrence of sub_str with new_str else it will will print sub_str not found:-\n",
    "\n",
    "#Input:- my_str = 'Peter Piper Picked A Peck Of Pickled Peppers.', sub_str = 'Peck', new_str = 'Pack'\n",
    "#Output:- 'Peter Piper Picked A Pack Of Pickled Peppers.'\n",
    "\n",
    "\n"
   ]
  },
  {
   "cell_type": "code",
   "execution_count": null,
   "metadata": {
    "colab": {},
    "colab_type": "code",
    "id": "4Qes5D0cdyd1"
   },
   "outputs": [],
   "source": [
    "#Write a python program to find below output (implements rjust and ljust) using loop:-\n",
    "\n",
    "#Input:- 'Peter Piper Picked A Peck Of Pickled Peppers.', sub_str = 'Peck', \n",
    "#Output:- '*********************Peck********************'\n",
    "\n",
    "input_string = 'Peter Piper Picked A Peck Of Pickled Peppers.'\n",
    "sub_string ='Peck'\n",
    "j=0\n",
    "#applying the concept of slicing\n",
    "for i in range (len(input_string)):\n",
    "    for j in range(len(sub_string)):\n",
    "    if (input_string[i]==sub_String[j])\n",
    "    print(input_string[i])\n",
    "    else:\n",
    "        print(\"*\")\n",
    "\n",
    "\n"
   ]
  },
  {
   "cell_type": "code",
   "execution_count": 13,
   "metadata": {
    "colab": {},
    "colab_type": "code",
    "id": "DsOrb07Od0lR"
   },
   "outputs": [
    {
     "name": "stdout",
     "output_type": "stream",
     "text": [
      "['This', 'is', 'Python', 'class']\n"
     ]
    }
   ],
   "source": [
    "#Write a python program to find below output using loop:-\n",
    "\n",
    "#Input:- 'This is Python class', sep = 'is', \n",
    "#Output:- ['This', 'is', 'Python class']\n",
    "input_string ='This is Python class'\n",
    "print(input_string.split())\n"
   ]
  },
  {
   "cell_type": "code",
   "execution_count": 26,
   "metadata": {
    "colab": {},
    "colab_type": "code",
    "id": "jRnBVufmd2Ay"
   },
   "outputs": [
    {
     "name": "stdout",
     "output_type": "stream",
     "text": [
      "R{vjqp\n",
      "Rwvfql\n"
     ]
    },
    {
     "data": {
      "text/plain": [
       "\"     \\n    # 3. #Input:- 'Python'\\n       #Output:- 'R{vkfml'\\ninput_string ='Python'\\noutput_string=''\\nfor i in range(len(input_string)) :\\n    if(i<len(input_string)//2 ):\\n        output_string+= chr(ord(input_string[i])+2)\\n    else:\\n        output_string+= chr(ord(input_string[i])+3)\\nprint(output_string)\\n\""
      ]
     },
     "execution_count": 26,
     "metadata": {},
     "output_type": "execute_result"
    }
   ],
   "source": [
    "#Write a python program which takes one input string from user and encode it in below format:-\n",
    "    # 1. #Input:- 'Python'\n",
    "       #Output:- 'R{vjqp'\n",
    "        \n",
    "input_string ='Python'\n",
    "output_string=''\n",
    "for i in range(len(input_string)) :\n",
    "    if(i<len(input_string)//2 ):\n",
    "        output_string+= chr(ord(input_string[i])+2)\n",
    "    else:\n",
    "        output_string+= chr(ord(input_string[i])+2)\n",
    "print(output_string)\n",
    "\n",
    "#print(dir(str))\n",
    "        \n",
    "        \n",
    "        \n",
    "        \n",
    "        \n",
    "\n",
    "    # 2. #Input:- 'Python'\n",
    "       #Output:- 'Rwvfql'\n",
    "        \n",
    "input_string ='Python'\n",
    "output_string=''\n",
    "for i in range(len(input_string)) :\n",
    "    if(i%2==0 and i<len(input_string)):\n",
    "        output_string+= chr(ord(input_string[i])+2)\n",
    "    else:\n",
    "        output_string+= chr(ord(input_string[i])-2)\n",
    "print(output_string)\n",
    "        \n",
    "'''     \n",
    "    # 3. #Input:- 'Python'\n",
    "       #Output:- 'R{vkfml'\n",
    "input_string ='Python'\n",
    "output_string=''\n",
    "for i in range(len(input_string)) :\n",
    "    if(i<len(input_string)//2 ):\n",
    "        output_string+= chr(ord(input_string[i])+2)\n",
    "    else:\n",
    "        output_string+= chr(ord(input_string[i])+3)\n",
    "print(output_string)\n",
    "'''\n"
   ]
  },
  {
   "cell_type": "code",
   "execution_count": null,
   "metadata": {},
   "outputs": [],
   "source": []
  },
  {
   "cell_type": "code",
   "execution_count": null,
   "metadata": {},
   "outputs": [],
   "source": []
  }
 ],
 "metadata": {
  "colab": {
   "name": "Conditional_and_loop_assignment.ipynb",
   "provenance": []
  },
  "kernelspec": {
   "display_name": "Python 3",
   "language": "python",
   "name": "python3"
  },
  "language_info": {
   "codemirror_mode": {
    "name": "ipython",
    "version": 3
   },
   "file_extension": ".py",
   "mimetype": "text/x-python",
   "name": "python",
   "nbconvert_exporter": "python",
   "pygments_lexer": "ipython3",
   "version": "3.8.3"
  }
 },
 "nbformat": 4,
 "nbformat_minor": 1
}
