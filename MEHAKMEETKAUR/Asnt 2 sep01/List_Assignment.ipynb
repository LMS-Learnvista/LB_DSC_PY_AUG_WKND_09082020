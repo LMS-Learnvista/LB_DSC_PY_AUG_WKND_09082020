{
 "cells": [
  {
   "cell_type": "code",
   "execution_count": 22,
   "metadata": {
    "colab": {},
    "colab_type": "code",
    "id": "gtlAv2oq9yzd"
   },
   "outputs": [
    {
     "name": "stdout",
     "output_type": "stream",
     "text": [
      "Enter number of values in list: 4\n",
      "10\n",
      "20\n",
      "30\n",
      "40\n",
      "[10, 20, 30, 40]\n",
      "\n",
      "Sum:  100\n"
     ]
    }
   ],
   "source": [
    "#Write a Python program to find the sum of all elements in a list using loop.\n",
    "#Input:- [10,20,30,40]\n",
    "#Output:- 100\n",
    "inpt = []\n",
    "sum = 0\n",
    "a = int(input('Enter number of values in list: '))\n",
    "for i in range(a):\n",
    "    inpt.append(int(input()))\n",
    "    sum += inpt[i]\n",
    "print(inpt)\n",
    "print()\n",
    "print('Sum: ', sum )"
   ]
  },
  {
   "cell_type": "code",
   "execution_count": 23,
   "metadata": {
    "colab": {},
    "colab_type": "code",
    "id": "gTbA8psa93Y_"
   },
   "outputs": [
    {
     "name": "stdout",
     "output_type": "stream",
     "text": [
      "Enter number of values in list: 4\n",
      "10\n",
      "20\n",
      "30\n",
      "40\n",
      "[10, 20, 30, 40]\n",
      "\n",
      "Mul:  240000\n"
     ]
    }
   ],
   "source": [
    "#Write a Python program to find the multiplication of all elements in a list using loop.\n",
    "#Input:- [10,20,30,40]\n",
    "#Output:- 240000\n",
    "\n",
    "inpt = []\n",
    "sum = 1\n",
    "a = int(input('Enter number of values in list: '))\n",
    "for i in range(a):\n",
    "    inpt.append(int(input()))\n",
    "    sum *= inpt[i]\n",
    "print(inpt)\n",
    "print()\n",
    "print('Mul: ', sum )\n",
    "\n"
   ]
  },
  {
   "cell_type": "code",
   "execution_count": 29,
   "metadata": {
    "colab": {},
    "colab_type": "code",
    "id": "XBCrEtLN94Lj"
   },
   "outputs": [
    {
     "name": "stdout",
     "output_type": "stream",
     "text": [
      "2321\n"
     ]
    }
   ],
   "source": [
    "#Write a Python program to find the largest number from a list using loop.\n",
    "#Input:- [10,100,2321, 1,200,2]\n",
    "#Output:- 2321\n",
    "\n",
    "x = [10,100,2321, 1,200,2]\n",
    "\n",
    "big_num = x[0]\n",
    "\n",
    "for i in range(1,len(x)):\n",
    "    if big_num > x[i]:\n",
    "        continue\n",
    "    else:\n",
    "        big_num = x[i]\n",
    "        \n",
    "print(big_num)        "
   ]
  },
  {
   "cell_type": "code",
   "execution_count": 38,
   "metadata": {
    "colab": {},
    "colab_type": "code",
    "id": "l3paUtbH94Vw"
   },
   "outputs": [
    {
     "name": "stdout",
     "output_type": "stream",
     "text": [
      "100\n",
      "1\n"
     ]
    }
   ],
   "source": [
    "#Write a Python program to find the smallest number from a list using loop.\n",
    "#Input:- [10,100,2321, 1,200,2]\n",
    "#Output:- 1\n",
    "\n",
    "x = [10,100,2321, 1,200,2]\n",
    "\n",
    "small_num = x[0]\n",
    "\n",
    "for i in range(1,len(x)):\n",
    "    if small_num < x[i]:\n",
    "        continue\n",
    "    else:\n",
    "        small_num = x[i]\n",
    "        \n",
    "print(small_num)  \n"
   ]
  },
  {
   "cell_type": "code",
   "execution_count": 4,
   "metadata": {},
   "outputs": [
    {
     "name": "stdout",
     "output_type": "stream",
     "text": [
      "count =  3\n"
     ]
    }
   ],
   "source": [
    "# Write a Python program to count the number of strings having length \n",
    "# more than 2 and are palindrome in a list using loop.\n",
    "# Input:- ['ab', 'abc', 'aba', 'xyz', '1991']\n",
    "# Output:- 2\n",
    "\n",
    "lst = ['ab', 'abc', 'aba', 'xyz', '1991', 'cdfdc']\n",
    "count = 0\n",
    "for i in range(len(lst)):\n",
    "    x = lst[i]\n",
    "    if len(x) > 2:\n",
    "        len_x = len(x)\n",
    "        j = 0\n",
    "        while j != (len_x-j-1) and j < (len_x-j-1):\n",
    "            if x[j] == x[len_x-j-1]:\n",
    "                j += 1\n",
    "                continue\n",
    "            else:\n",
    "                j += 1\n",
    "                not_pelnd = 'x'   \n",
    "        if not_pelnd == 'x':            \n",
    "            not_pelnd = ''\n",
    "            continue\n",
    "        else:\n",
    "            count += 1\n",
    "        not_pelnd = ''  \n",
    "print(\"count = \", count)\n",
    "\n"
   ]
  },
  {
   "cell_type": "code",
   "execution_count": 35,
   "metadata": {},
   "outputs": [
    {
     "name": "stdout",
     "output_type": "stream",
     "text": [
      "[1, 2, 9, 10, 65, 80, 100, 298, 483, 9213, 49876]\n"
     ]
    }
   ],
   "source": [
    "#Write a Python program to sort a list in ascending order using loop.\n",
    "#Input:- [100,10,1,298,65,483,49876,2,80,9,9213]\n",
    "#Output:- [1,2,9,10,65,80,100,298,483,9213,49876]\n",
    "\n",
    "x = [100,10,1,298,65,483,49876,2,80,9,9213]\n",
    "\n",
    "for i in range(0, len(x)):    \n",
    "    for j in range(i+1, len(x)):    \n",
    "        if(x[i] > x[j]):    \n",
    "            num  = x[i]    \n",
    "            x[i] = x[j]    \n",
    "            x[j] = num \n",
    "    \n",
    "print(x)"
   ]
  },
  {
   "cell_type": "code",
   "execution_count": 5,
   "metadata": {},
   "outputs": [
    {
     "name": "stdout",
     "output_type": "stream",
     "text": [
      "[(9, 1), (2, 3), (5, 4), (5, 5), (7, 6), (5, 9)]\n"
     ]
    }
   ],
   "source": [
    "# Write a Python program to get a sorted list in increasing order of last \n",
    "# element in each tuple in a given list using loop.\n",
    "# Input:- [(5,4),(9,1),(2,3),(5,9),(7,6),(5,5)]\n",
    "# output:- [(9,1),(2,3),(5,4),(5,5),(7,6),(5,9)]\n",
    "\n",
    "\n",
    "x = [(5,4),(9,1),(2,3),(5,9),(7,6),(5,5)]\n",
    "\n",
    "for i in range(0, len(x)):    \n",
    "    for j in range(i+1, len(x)):    \n",
    "        if(x[i][1] > x[j][1]):    \n",
    "            num  = x[i]    \n",
    "            x[i] = x[j]    \n",
    "            x[j] = num \n",
    "    \n",
    "print(x)\n",
    "\n"
   ]
  },
  {
   "cell_type": "code",
   "execution_count": 36,
   "metadata": {
    "colab": {},
    "colab_type": "code",
    "id": "YJrCLYp694n_"
   },
   "outputs": [
    {
     "name": "stdout",
     "output_type": "stream",
     "text": [
      "[10, 1, 11, 29, 876, 768, 92]\n",
      "[10, 1, 11, 29, 876, 768, 92]\n"
     ]
    }
   ],
   "source": [
    "#Write a Python program to remove duplicate element from a list using loop.\n",
    "#Input:- [10,1,11,1,29,876,768,10,11,1,92,29,876]\n",
    "#Output:- [10,1,11,29,876,768,92]\n",
    "\n",
    "x = [10,1,11,1,29,876,768,10,11,1,92,29,876]\n",
    "y = []\n",
    "\n",
    "for i in x:\n",
    "    if i not in y:\n",
    "        y.append(i)\n",
    "\n",
    "print(y)\n",
    "\n",
    "# ---- 2nd way\n",
    "\n",
    "x = [10,1,11,1,29,876,768,10,11,1,92,29,876]\n",
    "y = []\n",
    "\n",
    "[y.append(i) for i in x if i not in y] \n",
    "\n",
    "print(y)"
   ]
  },
  {
   "cell_type": "code",
   "execution_count": 30,
   "metadata": {
    "colab": {},
    "colab_type": "code",
    "id": "koYe4YCu94rh"
   },
   "outputs": [
    {
     "name": "stdout",
     "output_type": "stream",
     "text": [
      "a[] is empty\n",
      "b[] is not empty\n"
     ]
    }
   ],
   "source": [
    "#Write a Python program to check a list is empty or not?\n",
    "#Input:- []\n",
    "#Output:- List is empty\n",
    "#Input:- [10,20,30]\n",
    "#Output:- List is not empty\n",
    "\n",
    "a = []\n",
    "\n",
    "if len(a) == 0:\n",
    "    print(\"a[] is empty\")\n",
    "    \n",
    "    \n",
    "b = [10,20,30]\n",
    "if len(b) > 0:\n",
    "    print(\"b[] is not empty\")\n"
   ]
  },
  {
   "cell_type": "code",
   "execution_count": 10,
   "metadata": {
    "colab": {},
    "colab_type": "code",
    "id": "mES1WANa94u5"
   },
   "outputs": [
    {
     "name": "stdout",
     "output_type": "stream",
     "text": [
      "[10, 10.2, (10+20j), 'Python', [10, 20], (10, 20)]\n"
     ]
    }
   ],
   "source": [
    "#Write a Python program to copy a list using loop.\n",
    "#inp_lst = [10,10.20,10+20j, 'Python', [10,20], (10,20)]\n",
    "#out_lst = [10,10.20,10+20j, 'Python', [10,20], (10,20)]\n",
    "\n",
    "x = [10,10.20,10+20j, 'Python', [10,20], (10,20)]\n",
    "y = []\n",
    "for i in range(len(x)):\n",
    "    y.append(x[i])\n",
    "\n",
    "print(y)"
   ]
  },
  {
   "cell_type": "code",
   "execution_count": 42,
   "metadata": {},
   "outputs": [
    {
     "name": "stdout",
     "output_type": "stream",
     "text": [
      "['much', 'wood', 'would', 'woodchuck', 'chuck', 'could']\n"
     ]
    }
   ],
   "source": [
    "#Write a Python program to find the list of words that are longer than or equal to 4 from a given string.\n",
    "#Input:- 'How much wood would a woodchuck chuck if a woodchuck could chuck wood'\n",
    "#Output:- ['much', 'wood', 'would', 'woodchuck', 'chuck', 'could']\n",
    "#Note:- Duplicate should be avoided.\n",
    "\n",
    "str1 = 'How much wood would a woodchuck chuck if a woodchuck could chuck wood'\n",
    "str2 = str1.split()\n",
    "result = []\n",
    "for i in str2:\n",
    "    if len(i) >= 4 and i not in result:\n",
    "        result.append(i)\n",
    "        \n",
    "    \n",
    "print(result)\n",
    "\n",
    "\n"
   ]
  },
  {
   "cell_type": "code",
   "execution_count": 85,
   "metadata": {
    "colab": {},
    "colab_type": "code",
    "id": "YVfj0fgZ9416"
   },
   "outputs": [
    {
     "name": "stdout",
     "output_type": "stream",
     "text": [
      "True\n"
     ]
    }
   ],
   "source": [
    "#Write a Python program which takes two list as input and returns True if they have at least 3 common elements.\n",
    "#inp_lst1 = [10,20,'Python', 10.20, 10+20j, [10,20,30], (10,20,30)]\n",
    "#inp_lst2 = [(10,20,30),1,20+3j,100.2, 10+20j, [10,20,30],'Python']\n",
    "#Output:- True\n",
    "\n",
    "inp_lst1 = [10,20,'Python', 10.20, 10+20j, [10,20,30], (10,20,30)]\n",
    "inp_lst2 = [(10,20,30),1,20+3j,100.2, 10+20j, [10,20,30],'Python']\n",
    "\n",
    "count = 0\n",
    "\n",
    "for i in inp_lst1:\n",
    "    if i in inp_lst2:\n",
    "        count += 1\n",
    "\n",
    "if count >= 3:\n",
    "    print(\"True\")\n",
    "else:\n",
    "    print(\"False\")"
   ]
  },
  {
   "cell_type": "code",
   "execution_count": 1,
   "metadata": {
    "colab": {},
    "colab_type": "code",
    "id": "7vwc3pjR945O"
   },
   "outputs": [
    {
     "name": "stdout",
     "output_type": "stream",
     "text": [
      "[[0, 0, 0, 0], [0, 1, 2, 3], [0, 2, 4, 6], [0, 3, 6, 9]]\n"
     ]
    },
    {
     "data": {
      "text/plain": [
       "[[0, 0, 0, 0], [0, 1, 2, 3], [0, 2, 4, 6], [0, 3, 6, 9]]"
      ]
     },
     "execution_count": 1,
     "metadata": {},
     "output_type": "execute_result"
    }
   ],
   "source": [
    "#Write a Python program to create a 4X4 2D matrix with below elements using loop and list comprehension both.\n",
    "#Output:- [[0,0,0,0],[0,1,2,3],[0,2,4,6],[0,3,6,9]]\n",
    "\n",
    "out_lst = []\n",
    "for i in range(4):\n",
    "    in_lst =[]\n",
    "    for j in range(4):\n",
    "        in_lst.append(i*j)\n",
    "    out_lst.append(in_lst)\n",
    "print(out_lst)\n",
    "\n",
    "[[i*j for j in range(4)] for i in range(4)]"
   ]
  },
  {
   "cell_type": "code",
   "execution_count": 56,
   "metadata": {
    "colab": {},
    "colab_type": "code",
    "id": "Pxafor84948b"
   },
   "outputs": [
    {
     "name": "stdout",
     "output_type": "stream",
     "text": [
      "[[[0, 0, 0, 0, 0, 0], [0, 0, 0, 0, 0, 0], [0, 0, 0, 0, 0, 0], [0, 0, 0, 0, 0, 0]], [[0, 0, 0, 0, 0, 0], [1, 1, 1, 1, 1, 1], [2, 2, 2, 2, 2, 2], [3, 3, 3, 3, 3, 3]], [[0, 0, 0, 0, 0, 0], [2, 2, 2, 2, 2, 2], [4, 4, 4, 4, 4, 4], [6, 6, 6, 6, 6, 6]]]\n"
     ]
    }
   ],
   "source": [
    "#Write a Python program to create a 3X4X6 3D matrix wiith below elements using loop\n",
    "#Output:- \n",
    "# [\n",
    "#     [[0,0,0,0,0,0],[0,0,0,0,0,0],[0,0,0,0,0,0],[0,0,0,0,0,0]],\n",
    "#     [[0,0,0,0,0,0],[1,1,1,1,1,1],[2,2,2,2,2,2],[3,3,3,3,3,3]],\n",
    "#     [[0,0,0,0,0,0],[2,2,2,2,2,2],[4,4,4,4,4,4],[6,6,6,6,6,6]]\n",
    "# ]\n",
    "\n",
    "\n",
    "out = []\n",
    "\n",
    "for i in range(3): \n",
    "    in_list1 = []\n",
    "    for j in range(4):\n",
    "        in_list2 = []\n",
    "        for k in range(6):\n",
    "            in_list2.append(i*j)\n",
    "        in_list1.append(in_list2)  \n",
    "    out.append(in_list1)\n",
    "print(out)\n"
   ]
  },
  {
   "cell_type": "code",
   "execution_count": 58,
   "metadata": {
    "colab": {},
    "colab_type": "code",
    "id": "lYNv8gk794_p"
   },
   "outputs": [
    {
     "name": "stdout",
     "output_type": "stream",
     "text": [
      "[21, 87, 45, 33, 1]\n"
     ]
    }
   ],
   "source": [
    "#Write a Python program which takes a list of numbers as input and prints a new list after removing even numbers from it.\n",
    "#Input:- [10,21,22,98,87,45,33,1,2,100]\n",
    "#Output:- [21,87,45,33,1]\n",
    "\n",
    "a = [10,21,22,98,87,45,33,1,2,100]\n",
    "\n",
    "result = []\n",
    "\n",
    "for i in a:\n",
    "    if i%2 != 0:\n",
    "        result.append(i)\n",
    "        \n",
    "print(result)\n",
    "    \n",
    "\n"
   ]
  },
  {
   "cell_type": "code",
   "execution_count": 80,
   "metadata": {
    "colab": {},
    "colab_type": "code",
    "id": "3BaCb-rB95B7"
   },
   "outputs": [
    {
     "name": "stdout",
     "output_type": "stream",
     "text": [
      "[1, 98, 45, 2, 10, 87, 33, 22, 100, 21]\n"
     ]
    }
   ],
   "source": [
    "#Write a Python program which takes a list from the user and prints it after reshuffling the elements of the list.\n",
    "#Input:- [10,21,22,98,87,45,33,1,2,100]\n",
    "#Output:- [1,87,21,10,33,2,100,45,98,22] (It may be any randon list but with same elements)\n",
    "\n",
    "x = [10,21,22,98,87,45,33,1,2,100]\n",
    "\n",
    "from random import shuffle\n",
    "shuffle(x)\n",
    "print(x)\n"
   ]
  }
 ],
 "metadata": {
  "colab": {
   "name": "List_Assignment.ipynb",
   "provenance": []
  },
  "kernelspec": {
   "display_name": "Python 3",
   "language": "python",
   "name": "python3"
  },
  "language_info": {
   "codemirror_mode": {
    "name": "ipython",
    "version": 3
   },
   "file_extension": ".py",
   "mimetype": "text/x-python",
   "name": "python",
   "nbconvert_exporter": "python",
   "pygments_lexer": "ipython3",
   "version": "3.8.3"
  }
 },
 "nbformat": 4,
 "nbformat_minor": 1
}
