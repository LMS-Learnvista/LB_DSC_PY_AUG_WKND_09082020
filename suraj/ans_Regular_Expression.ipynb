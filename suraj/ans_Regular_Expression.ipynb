{
 "cells": [
  {
   "cell_type": "code",
   "execution_count": 5,
   "metadata": {
    "id": "xMLU30SQxZCH"
   },
   "outputs": [
    {
     "name": "stdout",
     "output_type": "stream",
     "text": [
      "cat\n"
     ]
    }
   ],
   "source": [
    "#Write the regular expression and use proper method which gives output as:- 'cat' in str.\n",
    "import re\n",
    "str = 'cat mat bat rat'\n",
    "print(re.search('cat',str).group())\n"
   ]
  },
  {
   "cell_type": "code",
   "execution_count": 7,
   "metadata": {
    "id": "zMiSTGMHx6Dv"
   },
   "outputs": [
    {
     "name": "stdout",
     "output_type": "stream",
     "text": [
      "rat\n"
     ]
    }
   ],
   "source": [
    "#Write the regular expression and use proper method which gives output as:- 'rat' in str.\n",
    "import re\n",
    "str = 'cat mat bat rat'\n",
    "print(re.search(r'[a-z]{3}$',str).group())\n"
   ]
  },
  {
   "cell_type": "code",
   "execution_count": 13,
   "metadata": {
    "id": "qBoYFjf5x6Mm"
   },
   "outputs": [
    {
     "name": "stdout",
     "output_type": "stream",
     "text": [
      "['mat', 'man']\n"
     ]
    }
   ],
   "source": [
    "#Write the regular expression and use proper method which gives output as:- ['mat', 'man'] in str.\n",
    "import re\n",
    "str = 'cat mat bat rat man'\n",
    "print(re.findall(r'm[a-z]{2}',str))\n"
   ]
  },
  {
   "cell_type": "code",
   "execution_count": 20,
   "metadata": {
    "id": "qmxmqzX_x6QR"
   },
   "outputs": [
    {
     "name": "stdout",
     "output_type": "stream",
     "text": [
      "['Python', 's', 'Programming', 'is', 'very', 'easy', 'to', 'learn']\n"
     ]
    }
   ],
   "source": [
    "#Write the regular expression and use proper method which gives output as:- \n",
    "#['Python', 's', 'Programming', 'is', 'very', 'easy', 'to', 'learn'] in str.\n",
    "import re\n",
    "str = \"Python's Programming: is very easy to learn\"\n",
    "print(re.findall(r'[a-zA-Z]+',str))\n"
   ]
  },
  {
   "cell_type": "code",
   "execution_count": 22,
   "metadata": {
    "id": "LxGl1o7px6Vi"
   },
   "outputs": [
    {
     "name": "stdout",
     "output_type": "stream",
     "text": [
      "Python's Programming: is very easy to learn\n"
     ]
    }
   ],
   "source": [
    "#Write the regular expression and use proper method which gives output as:- Python Programming: is very easy to learn in str.\n",
    "import re\n",
    "str = \"Python's Programming: is very easy to learn\"\n",
    "print(re.search(r'.+',str).group())\n"
   ]
  },
  {
   "cell_type": "code",
   "execution_count": 93,
   "metadata": {
    "id": "9uIpb614x6Yb"
   },
   "outputs": [
    {
     "name": "stdout",
     "output_type": "stream",
     "text": [
      "['peter', 'per', 'picked', 'peck', 'pickled', 'peppers']\n"
     ]
    }
   ],
   "source": [
    "#Write the regular expression and use proper method which Retrieves all words starting with p.\n",
    "#Output:- ['peter', 'per', 'picked', 'peck', 'pickled', 'peppers']\n",
    "import re\n",
    "str = \"peter giper picked a peck of pickled peppers\"\n",
    "print(re.findall(r'p\\w+',str))\n"
   ]
  },
  {
   "cell_type": "code",
   "execution_count": 28,
   "metadata": {
    "id": "N0vFkePdx6bN"
   },
   "outputs": [
    {
     "name": "stdout",
     "output_type": "stream",
     "text": [
      "['peter', ' picked', ' peck', ' pickled', ' peppers']\n"
     ]
    }
   ],
   "source": [
    "#Write the regular expression and use proper method which Retrieves all words starting with p except 'per' which is not a separate word.\n",
    "#Output:- ['peter', 'picked', 'peck', 'pickled', 'peppers']\n",
    "import re\n",
    "\n",
    "str = \"peter giper picked a peck of pickled peppers\"\n",
    "print(re.findall(r'\\s+p[a-z]*|^p[a-z]*',str))"
   ]
  },
  {
   "cell_type": "code",
   "execution_count": 96,
   "metadata": {
    "id": "mbiypO3yx6eE"
   },
   "outputs": [
    {
     "name": "stdout",
     "output_type": "stream",
     "text": [
      "['8th', '11th']\n"
     ]
    }
   ],
   "source": [
    "#Write the regular expression and use proper method which Retrieves all words starting with a digit.\n",
    "#Output:- ['8th', '11th']\n",
    "import re\n",
    "str = 'The election in delhi will be held on 8th and result for the same will be declared on 11th'\n",
    "print(re.findall(r'\\d\\w+',str))"
   ]
  },
  {
   "cell_type": "code",
   "execution_count": 83,
   "metadata": {
    "id": "6ZUWWd6bx6g8"
   },
   "outputs": [
    {
     "name": "stdout",
     "output_type": "stream",
     "text": [
      "['peter', 'giper']\n"
     ]
    }
   ],
   "source": [
    "#Write the regular expression and use proper method which Retrieves all words having 5 characters.\n",
    "#Output:- ['peter', 'giper']\n",
    "import re\n",
    "str = \"peter giper picked a peck of pickled peppers\"\n",
    "print(re.findall(r'\\b\\w{5}\\b',str))"
   ]
  },
  {
   "cell_type": "code",
   "execution_count": 82,
   "metadata": {
    "id": "syuXvEXox6jt"
   },
   "outputs": [
    {
     "name": "stdout",
     "output_type": "stream",
     "text": [
      "['Retrieving', 'words', 'having', 'least', 'characters']\n"
     ]
    }
   ],
   "source": [
    "#Write the regular expression and use proper method which Retrieves all words having at least 4 characters.\n",
    "#Output:- ['Retrieving',  'words', 'having', 'least', 'characters']\n",
    "import re\n",
    "str = \"Retrieving all words having at least 4 characters\"\n",
    "print(re.findall(r'\\b\\w{4,}\\b',str))"
   ]
  },
  {
   "cell_type": "code",
   "execution_count": 81,
   "metadata": {
    "id": "MtXo1Hf8x6ma"
   },
   "outputs": [
    {
     "name": "stdout",
     "output_type": "stream",
     "text": [
      "['all', 'words', 'least']\n"
     ]
    }
   ],
   "source": [
    "#Write the regular expression and use proper method which Retrieves all words having at characters between 3 to 5 words.\n",
    "#Output:- ['all', 'words', 'least']\n",
    "import re\n",
    "str = \"Retrieving all words having at least 4 characters\"\n",
    "print(re.findall(r'\\b\\w{3,5}\\b',str))"
   ]
  },
  {
   "cell_type": "code",
   "execution_count": 60,
   "metadata": {
    "id": "RlvMct7xx6pE"
   },
   "outputs": [
    {
     "name": "stdout",
     "output_type": "stream",
     "text": [
      "['8', '11']\n"
     ]
    }
   ],
   "source": [
    "#Write the regular expression and use proper method which Retrieves only digits from the string.\n",
    "#Output:- ['8', '11']\n",
    "import re\n",
    "str = 'The election in delhi will be held on 8 and result for the same will be declared on 11'\n",
    "print(re.findall(r'\\d+',str))"
   ]
  },
  {
   "cell_type": "code",
   "execution_count": 66,
   "metadata": {
    "id": "wdD4cSyJx6us"
   },
   "outputs": [
    {
     "name": "stdout",
     "output_type": "stream",
     "text": [
      "['characters']\n"
     ]
    }
   ],
   "source": [
    "#Write the regular expression and use proper method which Retrieves last word if starts with c from the given string.\n",
    "#Output:- ['characters']\n",
    "import re\n",
    "str = \"Retrieving all words having at least 4 characters\"\n",
    "print(re.findall(r'c[a-z]+',str))\n"
   ]
  },
  {
   "cell_type": "code",
   "execution_count": 58,
   "metadata": {
    "id": "HsVGzJVbx6sl"
   },
   "outputs": [
    {
     "name": "stdout",
     "output_type": "stream",
     "text": [
      "1234567890\n"
     ]
    }
   ],
   "source": [
    "#Write the regular expression and use proper method which Retrieves a phone number from the given string.\n",
    "#Output:- 1234567890\n",
    "import re\n",
    "str = \"Learnbay : 1234567890\"\n",
    "print(re.search(r'\\d+',str).group())"
   ]
  },
  {
   "cell_type": "code",
   "execution_count": 49,
   "metadata": {
    "id": "LvG3jTtvyQKk"
   },
   "outputs": [
    {
     "name": "stdout",
     "output_type": "stream",
     "text": [
      "Learnbay : \n"
     ]
    }
   ],
   "source": [
    "##Write the regular expression and use proper method which Etracts name from the string but not number.\n",
    "#Output:- Learnbay : \n",
    "import re\n",
    "str = \"Learnbay : 1234567890\"\n",
    "print(re.search(r'\\D+',str).group())\n"
   ]
  },
  {
   "cell_type": "code",
   "execution_count": 57,
   "metadata": {
    "id": "drArGXgKyQNz"
   },
   "outputs": [
    {
     "name": "stdout",
     "output_type": "stream",
     "text": [
      "['anil', 'akhil', 'anant', 'ankur']\n"
     ]
    }
   ],
   "source": [
    "##Write the regular expression and use proper method which Retrieves name starting with 'an' or 'ak'.\n",
    "#Output:- ['anil', 'akhil', 'anant', 'ankur']\n",
    "import re\n",
    "str = 'anil akhil anant abhi arun arati arundhati abhijit ankur'\n",
    "print(re.findall(r'an[a-z]*|ak[a-z]*',str))\n"
   ]
  }
 ],
 "metadata": {
  "colab": {
   "name": "Regular_Expression.ipynb",
   "provenance": []
  },
  "kernelspec": {
   "display_name": "Python 3",
   "language": "python",
   "name": "python3"
  },
  "language_info": {
   "codemirror_mode": {
    "name": "ipython",
    "version": 3
   },
   "file_extension": ".py",
   "mimetype": "text/x-python",
   "name": "python",
   "nbconvert_exporter": "python",
   "pygments_lexer": "ipython3",
   "version": "3.7.3"
  }
 },
 "nbformat": 4,
 "nbformat_minor": 1
}
