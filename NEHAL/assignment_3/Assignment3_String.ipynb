{
 "cells": [
  {
   "cell_type": "code",
   "execution_count": 2,
   "metadata": {},
   "outputs": [
    {
     "name": "stdout",
     "output_type": "stream",
     "text": [
      "Pyhton\n",
      "<class 'str'>\n",
      "1950198942832\n"
     ]
    }
   ],
   "source": [
    "#Declare a string and store it in a variable. \n",
    "#Check the type and print the id of the same.\n",
    "a = \"Pyhton\"\n",
    "print(a)\n",
    "print(type(a))\n"
   ]
  },
  {
   "cell_type": "code",
   "execution_count": 7,
   "metadata": {},
   "outputs": [
    {
     "name": "stdout",
     "output_type": "stream",
     "text": [
      "Although that way may not be obvious at first unless you're Dutch.\n",
      "Although that way may not be obvious at first unless you're Dutch. \n",
      "\n",
      "66 \n",
      "\n",
      "1950199563696\n",
      "1950199563696\n",
      "True \n",
      "\n",
      "<class 'str'>\n"
     ]
    }
   ],
   "source": [
    "# #Write the code to get the output mentioned below print statement\n",
    "# my_str = \"Although that way may not be obvious at first unless you're Dutch.\"\n",
    "# my_str1 = \"Although that way may not be obvious at first unless you're Dutch.\"\n",
    "\n",
    "# print()\n",
    "# #output:- The length of my_str is 66\n",
    "\n",
    "# print()\n",
    "# #output:- id of my_str and my_str1 is same? - True\n",
    "\n",
    "# print()\n",
    "# #output:- Type of my_str is: strprint(id(a))\n",
    "\n",
    "my_str = \"Although that way may not be obvious at first unless you're Dutch.\"\n",
    "my_str1 = my_str \n",
    "\n",
    "print(my_str)\n",
    "print(my_str1,\"\\n\")\n",
    "\n",
    "print(len(my_str),\"\\n\")\n",
    "\n",
    "print(id(my_str))\n",
    "print(id(my_str1))\n",
    "if(id(my_str) == id(my_str1)):\n",
    "    print(bool(1),\"\\n\")\n",
    "else: print(bool(0))\n",
    "\n",
    "print((type(my_str)))\n"
   ]
  },
  {
   "cell_type": "code",
   "execution_count": 17,
   "metadata": {},
   "outputs": [
    {
     "name": "stdout",
     "output_type": "stream",
     "text": [
      "A\n",
      "h\n",
      " \n",
      "c\n",
      "h\n",
      "8\n"
     ]
    }
   ],
   "source": [
    "# #Indexing\n",
    "# my_str = \"Although 8 that way may not be obvious at first unless you're Dutch\"\n",
    "# #Write the code to get the output,instructions are mentioned below print statement. use indexing\n",
    "\n",
    "# print()\n",
    "# #output:- The first character in my_str is: A\n",
    "# #Note:- Use positive indexing\n",
    "\n",
    "# print()\n",
    "# #output:- The first character in my_str is: h\n",
    "# #Note:- Use len() function.\n",
    "\n",
    "# print()\n",
    "# #output:- The character at index 10 in my_str is: c\n",
    "# #Note:- Use positive indexing\n",
    "\n",
    "# print()\n",
    "# #output:- The last character in my_str is: h\n",
    "# #Note:- Use negative indexing.\n",
    "\n",
    "# print()\n",
    "# #output:- The last character in my_str is: h\n",
    "# #Note:- Use len() function.\n",
    "\n",
    "# print()\n",
    "# #output:- The character in my_str is: 8\n",
    "# #Note:- Use positive index\n",
    "\n",
    "\n",
    "my_str = \"Although 8 that way may not be obvious at first unless you're Dutch\"\n",
    "\n",
    "a = my_str[0]\n",
    "l = len(my_str) - 1\n",
    "b = my_str[l]\n",
    "\n",
    "print(a)\n",
    "print(b)\n",
    "print(my_str[10])\n",
    "print(my_str[-2])\n",
    "print(my_str[-1])\n",
    "print(my_str[9])"
   ]
  },
  {
   "cell_type": "code",
   "execution_count": 24,
   "metadata": {},
   "outputs": [
    {
     "name": "stdout",
     "output_type": "stream",
     "text": [
      "Learnbay Python\n",
      "Learnbay Python\n",
      "LearnbayLearnbayLearnbay\n"
     ]
    }
   ],
   "source": [
    "# #Basic operation on string\n",
    "# str1 = 'Learnbay'\n",
    "# str2 = 'Python'\n",
    "\n",
    "# #Write the code to get the output,instructions are mentioned below.\n",
    "# #Output is: Learnbay Python\n",
    "\n",
    "\n",
    "# #Error: TypeError: can only concatenate str (not \"int\") to str\n",
    "\n",
    "\n",
    "# #Error: TypeError: can only concatenate str (not \"float\") to str\n",
    "\n",
    "\n",
    "\n",
    "# #Find below Output\n",
    "# #Output is: LearnbayLearnbayLearnbay\n",
    "\n",
    "\n",
    "# #Error: TypeError: can't multiply sequence by non-int of type 'float'\n",
    "\n",
    "\n",
    "# #Error: TypeError: can't multiply sequence by non-int of type 'str'\n",
    "\n",
    "\n",
    "str1 = 'Learnbay'\n",
    "str2 = 'Python'\n",
    "\n",
    "print(str1,str2)\n",
    "\n",
    "str3 = str1 + \" \" + str2\n",
    "print(str3)\n",
    "\n",
    "print(str1*3)"
   ]
  },
  {
   "cell_type": "code",
   "execution_count": 34,
   "metadata": {},
   "outputs": [
    {
     "name": "stdout",
     "output_type": "stream",
     "text": [
      "True\n",
      "False\n",
      "True\n",
      "True\n",
      "True\n",
      "False\n"
     ]
    }
   ],
   "source": [
    "#Find below Output\n",
    "# str1 = 'Python'\n",
    "# str2 = 'Python'\n",
    "# str3 = 'Python$'\n",
    "# str4 = 'Python$'\n",
    "\n",
    "#print True by using identity operator between str1 and str2\n",
    "\n",
    "\n",
    "#print False by using identity operator between str1 and str3\n",
    "\n",
    "\n",
    "#print False by using identity operator between str4 and str3\n",
    "\n",
    "\n",
    "#Check if P is available in str1 and print True by using membership operator\n",
    "\n",
    "\n",
    "#Check if $ is available in str3 and print True by using membership operator\n",
    "\n",
    "\n",
    "#Check if N is available in str3 and print False by using membership operator\n",
    "\n",
    "\n",
    "\n",
    "\n",
    "\n",
    "str1 = 'Python'\n",
    "str2 = 'Python'\n",
    "str3 = 'Python$'\n",
    "str4 = 'Python$'\n",
    "\n",
    "def string_match(a,b):\n",
    "    if(a == b):\n",
    "        return True\n",
    "    else:\n",
    "        return False\n",
    "    \n",
    "def string_search(x,y):\n",
    "    if(y in x):\n",
    "        return True\n",
    "    else:\n",
    "        return False\n",
    "\n",
    "c = string_match(str1,str2)\n",
    "print(c)\n",
    "d = string_match(str1,str3)\n",
    "print(d)\n",
    "e = string_match(str4,str3)\n",
    "print(e)\n",
    "f = string_search(str1,'P')\n",
    "print(f)\n",
    "g = string_search(str3,'$')\n",
    "print(g)\n",
    "h = string_search(str3,'N')\n",
    "print(h)"
   ]
  },
  {
   "cell_type": "code",
   "execution_count": 39,
   "metadata": {},
   "outputs": [
    {
     "name": "stdout",
     "output_type": "stream",
     "text": [
      "This is Java class\n"
     ]
    }
   ],
   "source": [
    "#Complete the below code\n",
    "#str1 = 'This is Python class'\n",
    "#write the code to replace 'Python' with 'Java' and you should get below error.\n",
    "#TypeError: 'str' object does not support item assignment.\n",
    "str1 = 'This is Python class'\n",
    "a = str1.replace('Python', 'Java')\n",
    "print(a)"
   ]
  },
  {
   "cell_type": "code",
   "execution_count": 45,
   "metadata": {},
   "outputs": [
    {
     "name": "stdout",
     "output_type": "stream",
     "text": [
      "True\n",
      "False\n"
     ]
    }
   ],
   "source": [
    "# str1 = 'A'\n",
    "# str2 = 'A'\n",
    "#Compare str1 and str2 and print True using comparison operator\n",
    "\n",
    "\n",
    "#Compare str1 and str2 and print True using equality operator\n",
    "\n",
    "\n",
    "#Compare str1 and str2 and print False using equality operator\n",
    "\n",
    "\n",
    "#Compare str1 and str2 and print False using comparison operator\n",
    "\n",
    "\n",
    "\n",
    "\n",
    "str1 = 'A'\n",
    "str2 = 'A'\n",
    "\n",
    "a = bool(str1 == str2)\n",
    "print(a)\n",
    "a = bool(str1 != str2)\n",
    "print(a)"
   ]
  },
  {
   "cell_type": "code",
   "execution_count": 46,
   "metadata": {},
   "outputs": [
    {
     "name": "stdout",
     "output_type": "stream",
     "text": [
      "False\n",
      "True\n"
     ]
    }
   ],
   "source": [
    "# str1 = 'A'\n",
    "# str2 = 'a'\n",
    "#Compare str1 and str2 and print True using comparison operator\n",
    "\n",
    "\n",
    "#Compare str1 and str2 and print True using equality operator\n",
    "\n",
    "\n",
    "#Compare str1 and str2 and print False using equality operator\n",
    "\n",
    "\n",
    "#Compare str1 and str2 and print False using comparison operator\n",
    "\n",
    "str1 = 'A'\n",
    "str2 = 'a'\n",
    "\n",
    "a = bool(str1 == str2)\n",
    "print(a)\n",
    "a = bool(str1 != str2)\n",
    "print(a)"
   ]
  },
  {
   "cell_type": "code",
   "execution_count": 47,
   "metadata": {},
   "outputs": [
    {
     "name": "stdout",
     "output_type": "stream",
     "text": [
      "False\n",
      "True\n"
     ]
    }
   ],
   "source": [
    "# str1 = 'A'\n",
    "# str2 = '65'\n",
    "#Compare str1 and str2 using comparison operator and it should give below error.\n",
    "#Error: TypeError: '>=' not supported between instances of 'str' and 'int'\n",
    "\n",
    "#Compare str1 and str2 and print True using equality operator\n",
    "\n",
    "\n",
    "#Compare str1 and str2 and print False using equality operator\n",
    "\n",
    "str1 = 'A'\n",
    "str2 = '65'\n",
    "\n",
    "a = bool(str1 == str2)\n",
    "print(a)\n",
    "a = bool(str1 != str2)\n",
    "print(a)"
   ]
  },
  {
   "cell_type": "code",
   "execution_count": 48,
   "metadata": {},
   "outputs": [
    {
     "name": "stdout",
     "output_type": "stream",
     "text": [
      "True\n",
      "False\n"
     ]
    }
   ],
   "source": [
    "# str1 = 'Python'\n",
    "# str2 = 'Python'\n",
    "#Compare str1 and str2 and print True using comparison operator\n",
    "\n",
    "\n",
    "#Compare str1 and str2 and print True using equality operator\n",
    "\n",
    "\n",
    "#Compare str1 and str2 and print False using equality operator\n",
    "\n",
    "\n",
    "#Compare str1 and str2 and print False using comparison operator\n",
    "\n",
    "str1 = 'Python'\n",
    "str2 = 'Python'\n",
    "\n",
    "a = bool(str1 == str2)\n",
    "print(a)\n",
    "a = bool(str1 != str2)\n",
    "print(a)"
   ]
  },
  {
   "cell_type": "code",
   "execution_count": 49,
   "metadata": {},
   "outputs": [
    {
     "name": "stdout",
     "output_type": "stream",
     "text": [
      "False\n",
      "True\n"
     ]
    }
   ],
   "source": [
    "# str1 = 'Python'\n",
    "# str2 = 'python'\n",
    "#Compare str1 and str2 and print True using comparison operator\n",
    "\n",
    "\n",
    "#Compare str1 and str2 and print True using equality operator\n",
    "\n",
    "\n",
    "#Compare str1 and str2 and print False using equality operator\n",
    "\n",
    "\n",
    "#Compare str1 and str2 and print False using comparison operator\n",
    "str1 = 'Python'\n",
    "str2 = 'python'\n",
    "\n",
    "a = bool(str1 == str2)\n",
    "print(a)\n",
    "a = bool(str1 != str2)\n",
    "print(a)"
   ]
  },
  {
   "cell_type": "code",
   "execution_count": 57,
   "metadata": {},
   "outputs": [
    {
     "name": "stdout",
     "output_type": "stream",
     "text": [
      "\n",
      "Python\n",
      "False\n",
      "True\n"
     ]
    }
   ],
   "source": [
    "# a = 'Python'\n",
    "# b = ''\n",
    "\n",
    "#Apply logical opereators (and, or & not) on above string values and observe the output.\n",
    "\n",
    "a = 'Python'\n",
    "b = ''\n",
    "\n",
    "c = a and b\n",
    "print(c)\n",
    "d = a or b\n",
    "print(d)\n",
    "e = not a\n",
    "print(e)\n",
    "g = not b\n",
    "print(g)"
   ]
  },
  {
   "cell_type": "code",
   "execution_count": 1,
   "metadata": {},
   "outputs": [
    {
     "name": "stdout",
     "output_type": "stream",
     "text": [
      "\n",
      "\n",
      "True\n",
      "True\n"
     ]
    }
   ],
   "source": [
    "# a = ''\n",
    "# b = ''\n",
    "\n",
    "#Apply logical opereators (and, or & not) on above string values and observe the output.\n",
    "\n",
    "a = ''\n",
    "b = ''\n",
    "\n",
    "c = a and b\n",
    "print(c)\n",
    "d = a or b\n",
    "print(d)\n",
    "e = not a\n",
    "print(e)\n",
    "g = not b\n",
    "print(g)"
   ]
  },
  {
   "cell_type": "code",
   "execution_count": 56,
   "metadata": {},
   "outputs": [
    {
     "name": "stdout",
     "output_type": "stream",
     "text": [
      "learnbay\n",
      "Python\n",
      "False\n",
      "False\n"
     ]
    }
   ],
   "source": [
    "# a = 'Python'\n",
    "# b = 'learnbay'\n",
    "\n",
    "#Apply logical opereators (and, or & not) on above string values and observe the output.\n",
    "\n",
    "a = 'Python'\n",
    "b = 'learnbay'\n",
    "\n",
    "c = a and b\n",
    "print(c)\n",
    "d = a or b\n",
    "print(d)\n",
    "e = not a\n",
    "print(e)\n",
    "g = not b\n",
    "print(g)"
   ]
  },
  {
   "cell_type": "code",
   "execution_count": 62,
   "metadata": {},
   "outputs": [
    {
     "name": "stdout",
     "output_type": "stream",
     "text": [
      "2\n",
      "2\n",
      "9\n",
      "9\n",
      "-1\n",
      "11\n",
      "63\n",
      "63\n"
     ]
    }
   ],
   "source": [
    "# my_str = \"Although 8 that way may not be obvious at first unless you're Dutch\"\n",
    "\n",
    "#Write the code to get the total count of 't' in above string. Use find() and index() method.\n",
    "#Write the code to get the index of '8' in my_str. Use find() and index() method.\n",
    "#What will be the output of below code?\n",
    "\n",
    "\n",
    "my_str = \"Although 8 that way may not be obvious at first unless you're Dutch\"\n",
    "\n",
    "a = my_str.find('t')\n",
    "print(a)\n",
    "b = my_str.index('t')\n",
    "print(b)\n",
    "\n",
    "a = my_str.find('8')\n",
    "print(a)\n",
    "b = my_str.index('8')\n",
    "print(b)\n",
    "\n",
    "print(my_str.find('the'))\n",
    "\n",
    "\n",
    "#print(my_str.index('the'))\n",
    "\n",
    "\n",
    "print(my_str.find('t', 9, 15)) # gives the index of 't' between index 9 and 15\n",
    "\n",
    "\n",
    "print(my_str.rfind('u'))\n",
    "\n",
    "\n",
    "print(my_str.rindex('u'))\n"
   ]
  },
  {
   "cell_type": "code",
   "execution_count": 3,
   "metadata": {},
   "outputs": [
    {
     "name": "stdout",
     "output_type": "stream",
     "text": [
      "Enter a string: Python \n",
      "Python\n",
      " Python\n",
      "Python \n"
     ]
    }
   ],
   "source": [
    "#W A P which applies strip() method if any string, which will be taken from user, starts and ends with space, or applies \n",
    "#rrstrip() method if that string only ends with space or applies lstrip() method if that string only starts with a space.\n",
    "\n",
    "#For example:-\n",
    "#input:- '    Python   '\n",
    "#output:- 'Python'\n",
    "\n",
    "#input:- '    Python'\n",
    "#output:- 'Python'\n",
    "\n",
    "#input:- 'Python   '\n",
    "#output:- 'Python'\n",
    "\n",
    "a = input(\"Enter a string:\")\n",
    "print(a.strip())\n",
    "print(a.rstrip())\n",
    "print(a.lstrip())"
   ]
  },
  {
   "cell_type": "code",
   "execution_count": 5,
   "metadata": {},
   "outputs": [
    {
     "name": "stdout",
     "output_type": "stream",
     "text": [
      "ALTHOUGH 8 THAT WAY MAY NOT BE OBVIOUS AT FIRST UNLESS YOU'RE DUTCH\n",
      "although 8 that way may not be obvious at first unless you're dutch\n",
      "aLTHOUGH 8 THAT WAY MAY NOT BE OBVIOUS AT FIRST UNLESS YOU'RE dUTCH\n"
     ]
    }
   ],
   "source": [
    "#my_str = \"Although 8 that way may not be obvious at first unless you're Dutch\"\n",
    "\n",
    "#Write the code to convert all alphabets in my_str into upper case.\n",
    "#Write the code to convert all alphabets in my_str into lower case.\n",
    "#Write the code to swap the cases of all alphabets in my_str.(lower to upper and upper to lower)\n",
    "\n",
    "\n",
    "my_str = \"Although 8 that way may not be obvious at first unless you're Dutch\"\n",
    "\n",
    "print(my_str.upper())\n",
    "print(my_str.lower())\n",
    "print(my_str.swapcase())"
   ]
  },
  {
   "cell_type": "code",
   "execution_count": 3,
   "metadata": {},
   "outputs": [
    {
     "name": "stdout",
     "output_type": "stream",
     "text": [
      "Enter a string: Alfjnedijfwoiv miocd\n",
      "Alfjnedijfwoiv miocd\n"
     ]
    }
   ],
   "source": [
    "#Write the code which takes one string from user and if it starts with small case letter then convert it to corresponding \n",
    "#capital letter otherwise if starts with capital letters then convert first character of every word in that string into capital.\n",
    "\n",
    "a = input(\"Enter a string: \")\n",
    "\n",
    "if a[0].islower:\n",
    "        b = a.capitalize()\n",
    "        print(b)\n",
    "        \n",
    "else:\n",
    "    b = a.title()\n",
    "    print(b)"
   ]
  },
  {
   "cell_type": "code",
   "execution_count": 27,
   "metadata": {},
   "outputs": [
    {
     "name": "stdout",
     "output_type": "stream",
     "text": [
      "Enter a value:Abcd\n",
      "True\n",
      "True\n",
      "False\n",
      "False\n",
      "False\n",
      "False\n",
      "False\n",
      "False\n",
      "True\n"
     ]
    }
   ],
   "source": [
    "#Take a string from user and check if it is:-\n",
    "#     1. alphanumeric\n",
    "#     2. alphabets\n",
    "#     3. digit\n",
    "#     4. all letters are in lower case\n",
    "#     5. all letters are in upper case\n",
    "#     6. in title case\n",
    "#     7. a space character\n",
    "#     8. numeric\n",
    "#     9. all number elements in string are decimal\n",
    "\n",
    "\n",
    "a = input(\"Enter a value:\")\n",
    "\n",
    "print(a.isalnum())\n",
    "print(a.isalpha())\n",
    "print(a.isdigit())\n",
    "print(a.isnumeric())\n",
    "print(a.isdecimal())\n",
    "print(a.islower())\n",
    "print(a.isupper())\n",
    "print(a.isspace())\n",
    "print(a.istitle())\n"
   ]
  },
  {
   "cell_type": "code",
   "execution_count": 5,
   "metadata": {},
   "outputs": [
    {
     "name": "stdout",
     "output_type": "stream",
     "text": [
      "Enter a string:1 ns\n",
      "False\n"
     ]
    }
   ],
   "source": [
    "#W A P which takes a string as an input and prints True if the string is valid identifier else returns False.\n",
    "#Sample Input:- 'abc', 'abc1', 'ab1c', '1abc', 'abc$', '_abc', 'if'\n",
    "a = input(\"Enter a string:\")\n",
    "b = a.isidentifier()\n",
    "\n",
    "if(b is True):\n",
    "    print(b)\n",
    "else:\n",
    "    print(b)"
   ]
  },
  {
   "cell_type": "code",
   "execution_count": 11,
   "metadata": {},
   "outputs": [
    {
     "name": "stdout",
     "output_type": "stream",
     "text": [
      "Aa\n",
      "True\n",
      "\u001ba\n",
      "False\n",
      "False\n",
      "True\n"
     ]
    }
   ],
   "source": [
    "#What will be output of below code?\n",
    "# s = chr(65) + chr(97)\n",
    "# print(s.isprintable())\n",
    "\n",
    "# s = chr(27) + chr(97)\n",
    "# print(s.isprintable())\n",
    "\n",
    "# s = '\\n'\n",
    "# print(s.isprintable())\n",
    "\n",
    "# s = ''\n",
    "# print(s.isprintable())\n",
    "\n",
    "\n",
    "s = chr(65) + chr(97)\n",
    "print(s)\n",
    "print(s.isprintable())\n",
    "\n",
    "s = chr(27) + chr(97)\n",
    "print(s)\n",
    "print(s.isprintable())\n",
    "\n",
    "s = '\\n'\n",
    "print(s.isprintable())\n",
    "\n",
    "s = ''\n",
    "print(s.isprintable())"
   ]
  },
  {
   "cell_type": "code",
   "execution_count": 12,
   "metadata": {},
   "outputs": [
    {
     "name": "stdout",
     "output_type": "stream",
     "text": [
      "True\n",
      "True\n",
      "True\n",
      "True\n",
      "False\n",
      "False\n"
     ]
    }
   ],
   "source": [
    "#What will be output of below code?\n",
    "# my_string = '  '\n",
    "# print(my_string.isascii())\n",
    "\n",
    "# my_string = 'Studytonight'\n",
    "# print(my_string.isascii())\n",
    "\n",
    "# my_string = 'Study tonight'\n",
    "# print(my_string.isascii())\n",
    "\n",
    "# my_string = 'Studytonight@123'\n",
    "# print(my_string.isascii())\n",
    "\n",
    "# my_string = '°'\n",
    "# print(my_string.isascii())\n",
    "\n",
    "# my_string = 'ö'\n",
    "# print(my_string.isascii())\n",
    "\n",
    "my_string = '  '\n",
    "print(my_string.isascii())\n",
    "\n",
    "my_string = 'Studytonight'\n",
    "print(my_string.isascii())\n",
    "\n",
    "my_string = 'Study tonight'\n",
    "print(my_string.isascii())\n",
    "\n",
    "my_string = 'Studytonight@123'\n",
    "print(my_string.isascii())\n",
    "\n",
    "my_string = '°'\n",
    "print(my_string.isascii())\n",
    "\n",
    "my_string = 'ö'\n",
    "print(my_string.isascii())"
   ]
  },
  {
   "cell_type": "code",
   "execution_count": 13,
   "metadata": {},
   "outputs": [
    {
     "name": "stdout",
     "output_type": "stream",
     "text": [
      "The strings are equal.\n"
     ]
    }
   ],
   "source": [
    "#What will be the output of below code?\n",
    "# firstString = \"der Fluß\"\n",
    "# secondString = \"der Fluss\"\n",
    "\n",
    "# if firstString.casefold() == secondString.casefold():\n",
    "#     print('The strings are equal.')\n",
    "# else:\n",
    "#     print('The strings are not equal.')\n",
    "\n",
    "firstString = \"der Fluß\"\n",
    "secondString = \"der Fluss\"\n",
    "\n",
    "if firstString.casefold() == secondString.casefold():\n",
    "    print('The strings are equal.')\n",
    "else:\n",
    "    print('The strings are not equal.')"
   ]
  },
  {
   "cell_type": "code",
   "execution_count": 18,
   "metadata": {},
   "outputs": [
    {
     "name": "stdout",
     "output_type": "stream",
     "text": [
      "python**\n",
      "**python\n",
      "**python**\n"
     ]
    }
   ],
   "source": [
    "#Write the code to get below output\n",
    "#O/P 1:- python** (using ljust method)\n",
    "\n",
    "\n",
    "#Write the code to get below output\n",
    "#O/P 1:- **python (using rjust method)\n",
    "\n",
    "\n",
    "#Write the code to get below output\n",
    "#O/P 1:- **python** (using rjust method)\n",
    "\n",
    "a = 'python'\n",
    "b = a.ljust(8,'*')\n",
    "print(b)\n",
    "print(a.rjust(8,'*'))\n",
    "print(b.rjust(10,'*'))\n"
   ]
  }
 ],
 "metadata": {
  "kernelspec": {
   "display_name": "Python 3",
   "language": "python",
   "name": "python3"
  },
  "language_info": {
   "codemirror_mode": {
    "name": "ipython",
    "version": 3
   },
   "file_extension": ".py",
   "mimetype": "text/x-python",
   "name": "python",
   "nbconvert_exporter": "python",
   "pygments_lexer": "ipython3",
   "version": "3.8.3"
  }
 },
 "nbformat": 4,
 "nbformat_minor": 4
}
