{
 "cells": [
  {
   "cell_type": "code",
   "execution_count": 143,
   "metadata": {},
   "outputs": [
    {
     "name": "stdout",
     "output_type": "stream",
     "text": [
      "<class 'int'>\n",
      "140734496061504\n"
     ]
    }
   ],
   "source": [
    "a = 10\n",
    "print(type(a))\n",
    "print(id(a))"
   ]
  },
  {
   "cell_type": "code",
   "execution_count": 155,
   "metadata": {},
   "outputs": [
    {
     "name": "stdout",
     "output_type": "stream",
     "text": [
      "140734496061984\n",
      "140734496069184\n",
      "1656242311632\n",
      "140734496061216\n"
     ]
    }
   ],
   "source": [
    "# object reusability concept(0-256) id will be same for value ranging between 0 and 256\n",
    "a = 25\n",
    "b = 250\n",
    "print(id(a))\n",
    "print(id(b))\n",
    "m = 500\n",
    "n = 1\n",
    "print(id(m))\n",
    "print(id(n))\n",
    "\n",
    "\n"
   ]
  },
  {
   "cell_type": "code",
   "execution_count": 15,
   "metadata": {},
   "outputs": [
    {
     "name": "stdout",
     "output_type": "stream",
     "text": [
      "30\n",
      "10\n",
      "200\n",
      "0.5\n",
      "10\n",
      "0\n",
      "100000000000000000000\n"
     ]
    }
   ],
   "source": [
    "#Arithmatic Operations on integers\n",
    "x = 10\n",
    "y = 20\n",
    "# sum operation\n",
    "print(x + y) \n",
    "# difference operation\n",
    "print(y - x)\n",
    "# product\n",
    "print(x * y)\n",
    "# Find value after dividing first num with second number\n",
    "print(x/y)\n",
    "# Find the remainder after dividing first number with second number\n",
    "print(x % y)\n",
    "# Find the quotient after dividing first number with second number\n",
    "print(x // y)\n",
    "# Find the result of first num to the power of second number.\n",
    "print(x ** y)"
   ]
  },
  {
   "cell_type": "code",
   "execution_count": 21,
   "metadata": {},
   "outputs": [
    {
     "name": "stdout",
     "output_type": "stream",
     "text": [
      "True\n",
      "False\n",
      "True\n",
      "False\n"
     ]
    }
   ],
   "source": [
    "#Comparison Operators on integers\n",
    "#Take two different intger values.\n",
    "#Store them in two different variables.\n",
    "#Do below operations on them:-\n",
    "    #Compare se two numbers with below operator:-\n",
    "        #Greater than, '>'\n",
    "        #Smaller than, '<'\n",
    "        #Greater than or equal to, '>='\n",
    "        #Less than or equal to, '<='\n",
    "#Observe their output(return type should be boolean)\n",
    "m = 500\n",
    "n = 100\n",
    "print(m >n)\n",
    "print(m < n)\n",
    "print(m >= n)\n",
    "print(m <= n)"
   ]
  },
  {
   "cell_type": "code",
   "execution_count": 29,
   "metadata": {},
   "outputs": [
    {
     "name": "stdout",
     "output_type": "stream",
     "text": [
      "False\n",
      "True\n"
     ]
    }
   ],
   "source": [
    "#Equality Operator\n",
    "#Take two different intger values.\n",
    "#Store them in two different variables.\n",
    "#Equuate them using equality operator (==, !=)\n",
    "#Observe the output(return type should be boolean)\n",
    "\n",
    "m = 100\n",
    "n = 200\n",
    "print(m == n)\n",
    "print(m != n)\n"
   ]
  },
  {
   "cell_type": "code",
   "execution_count": 74,
   "metadata": {},
   "outputs": [
    {
     "name": "stdout",
     "output_type": "stream",
     "text": [
      "20\n",
      "0\n",
      "0\n",
      "0\n",
      "10\n",
      "20\n",
      "20\n",
      "0\n",
      "False\n",
      "True\n"
     ]
    }
   ],
   "source": [
    "#Logical operators\n",
    "#Observe the output of below code\n",
    "#Cross check the output manually\n",
    "\n",
    "print(10 and 20)    \n",
    "print(0 and 20)\n",
    "print(20 and 0)\n",
    "print(0 and 0)\n",
    "\n",
    "print(10 or 20)\n",
    "print(0 or 20)\n",
    "print(20 or 0)\n",
    "print(0 or 0)\n",
    "\n",
    "print(not 10)\n",
    "print(not 0)\n"
   ]
  },
  {
   "cell_type": "code",
   "execution_count": 96,
   "metadata": {},
   "outputs": [
    {
     "name": "stdout",
     "output_type": "stream",
     "text": [
      "0b1010\n",
      "0b10100\n",
      "0\n",
      "30\n",
      "30\n",
      "-11\n",
      "40\n",
      "40\n",
      "2\n",
      "2\n"
     ]
    }
   ],
   "source": [
    "#Bitwise Operators\n",
    "#Do below operations on the values provided below:-\n",
    "    #Bitwise and(&) -----------------------------------------> 10, 20   -------> Output is 0\n",
    "    #Bitwise or(|)  -----------------------------------------> 10, 20   -------> Output is 30\n",
    "    #Bitwise(^)     -----------------------------------------> 10, 20   -------> Output is 30\n",
    "    #Bitwise negation(~) ------------------------------------> 10       -------> Output is -11\n",
    "    #Bitwise left shift  ------------------------------------> 10,2     -------> Output is 40\n",
    "    #Bitwise right shift ------------------------------------> 10,2     -------> Output is 2\n",
    "#Cross check the output manually\n",
    "print(bin(10))\n",
    "print(bin(20))\n",
    "# bin of 10 =01010\n",
    "# bin of 20 =10100\n",
    "# result(&)  00000\n",
    "print(0b0000)\n",
    "\n",
    "# result(|)=11110\n",
    "print(0b11110)\n",
    "\n",
    "# result(^)=11110\n",
    "print(0b11110)\n",
    "\n",
    "# result(~)= -(n+1)\n",
    "print(~10)\n",
    "\n",
    "# 10<<2\n",
    "# 101000\n",
    "print(0b101000)\n",
    "print(10<<2)\n",
    "\n",
    "# 10>>2\n",
    "print(0b10)\n",
    "print(10>>2)"
   ]
  },
  {
   "cell_type": "code",
   "execution_count": 107,
   "metadata": {},
   "outputs": [
    {
     "name": "stdout",
     "output_type": "stream",
     "text": [
      "True\n",
      "False\n",
      "140734496061504\n",
      "140734496061504\n",
      "False\n",
      "True\n",
      "1656242311440\n",
      "1656242311856\n"
     ]
    }
   ],
   "source": [
    "#What is the output of expression inside print statement. Cross check before running the program.\n",
    "a = 10\n",
    "b = 10\n",
    "# print(a is b)          #True or False?\n",
    "# print(a is not b)      #True or False?\n",
    "\n",
    "# a = 1000\n",
    "# b = 1000\n",
    "# print(a is b)          #True or False?\n",
    "# print(a is not b)      #True or False?\n",
    "\n",
    "# true( a and b is same(same id), so output is true boolean)\n",
    "print(a is b)\n",
    "# false( a and b is same(same id), so output is false boolean)\n",
    "print(a is not b)\n",
    "print(id(a))\n",
    "print(id(b))\n",
    "# false( a and b having differnt id, so output is false boolean)\n",
    "a = 1000\n",
    "b = 1000\n",
    "print(a is b)\n",
    "\n",
    "# true( a and b having differnt id, so output is true boolean)\n",
    "print(a is not b)\n",
    "print(id(a))\n",
    "print(id(b))"
   ]
  },
  {
   "cell_type": "code",
   "execution_count": 117,
   "metadata": {},
   "outputs": [
    {
     "name": "stdout",
     "output_type": "stream",
     "text": [
      "True\n",
      "True\n",
      "True\n",
      "True\n",
      "True\n",
      "True\n"
     ]
    }
   ],
   "source": [
    "#Membership operation\n",
    "#in, not in are two membership operators and it returns boolean value\n",
    "\n",
    "print( '2' in 'Python2.7.8')\n",
    "print(10 in [10,10.20,10+20j,'Python'])\n",
    "print(10 in (10,10.20,10+20j,'Python'))\n",
    "print(2 in {1,2,3})\n",
    "print(3 in {1:100, 2:200, 3:300})\n",
    "print(10 in range(20))"
   ]
  },
  {
   "cell_type": "code",
   "execution_count": 130,
   "metadata": {},
   "outputs": [
    {
     "name": "stdout",
     "output_type": "stream",
     "text": [
      "20\n",
      "20\n",
      "20\n",
      "20\n",
      "116\n",
      "116\n",
      "20\n",
      "0b1110100\n",
      "20\n"
     ]
    }
   ],
   "source": [
    "#What is the output of expression inside print statement. Cross check before running the program.\n",
    "# print(10+(10*32)//2**5&20+(~(-10))<<2)\n",
    "print(10+320//2**5&20+9<<2)\n",
    "print(10+320//32&20+9<<2)\n",
    "print(10+10&20+9<<2)\n",
    "print(20&29<<2)\n",
    "bin(29)\n",
    "print(0b1110100)\n",
    "print(29<<2)\n",
    "print(20&116)\n",
    "# bin(20) =   0010100\n",
    "# bin(29)  =  1110100\n",
    "# result(&)   0010100\n",
    "print(bin(116))\n",
    "print(0b10100)\n"
   ]
  },
  {
   "cell_type": "code",
   "execution_count": 133,
   "metadata": {},
   "outputs": [
    {
     "name": "stdout",
     "output_type": "stream",
     "text": [
      "0b10011010010100\n",
      "0o23224\n",
      "0x2694\n"
     ]
    }
   ],
   "source": [
    "#An integer can be represented in binary, octal or hexadecimal form.\n",
    "#Declare one binary, one octal and one hexadecimal value and store them in three different variables.\n",
    "#Convert 9876 to its binary, octal and hexadecimal equivalent and print their corresponding value.\n",
    "a = 0b1010\n",
    "b = 0o1010\n",
    "c = 0xf7689\n",
    "print(bin(9876))\n",
    "print(oct(9876))\n",
    "print(hex(9876))"
   ]
  },
  {
   "cell_type": "code",
   "execution_count": 142,
   "metadata": {},
   "outputs": [
    {
     "name": "stdout",
     "output_type": "stream",
     "text": [
      "80\n",
      "3870\n",
      "64222\n",
      "0b1010000\n",
      "0o7436\n",
      "0xfade\n",
      "0b1010000\n",
      "0b1111101011011110\n",
      "0o175336\n",
      "0o7436\n",
      "0x50\n",
      "0xfade\n"
     ]
    }
   ],
   "source": [
    "#What will be the outut of following:-\n",
    "a = 0b1010000\n",
    "print(a)\n",
    "\n",
    "b = 0o7436\n",
    "print(b)\n",
    "\n",
    "c = 0xfade\n",
    "print(c)\n",
    "\n",
    "print(bin(80))\n",
    "\n",
    "print(oct(3870))\n",
    "\n",
    "print(hex(64222))\n",
    "\n",
    "print(bin(0b1010000))\n",
    "\n",
    "print(bin(0xfade))\n",
    "\n",
    "print(oct(0xfade))\n",
    "\n",
    "print(oct(0o7436))\n",
    "\n",
    "print(hex(0b1010000))\n",
    "\n",
    "print(hex(0xfade))"
   ]
  },
  {
   "cell_type": "code",
   "execution_count": null,
   "metadata": {},
   "outputs": [],
   "source": []
  }
 ],
 "metadata": {
  "kernelspec": {
   "display_name": "Python 3",
   "language": "python",
   "name": "python3"
  },
  "language_info": {
   "codemirror_mode": {
    "name": "ipython",
    "version": 3
   },
   "file_extension": ".py",
   "mimetype": "text/x-python",
   "name": "python",
   "nbconvert_exporter": "python",
   "pygments_lexer": "ipython3",
   "version": "3.8.3"
  }
 },
 "nbformat": 4,
 "nbformat_minor": 4
}
