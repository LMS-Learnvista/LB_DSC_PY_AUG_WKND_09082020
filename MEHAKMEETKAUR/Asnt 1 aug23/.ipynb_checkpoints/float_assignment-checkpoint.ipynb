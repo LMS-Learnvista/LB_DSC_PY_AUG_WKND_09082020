{
 "cells": [
  {
   "cell_type": "code",
   "execution_count": 1,
   "metadata": {
    "colab": {},
    "colab_type": "code",
    "id": "dlrMB-Qy2taV"
   },
   "outputs": [
    {
     "name": "stdout",
     "output_type": "stream",
     "text": [
      "<class 'float'>\n",
      "2653855461264\n"
     ]
    }
   ],
   "source": [
    "#Declare a float value and store it in a variable. \n",
    "\n",
    "a=10.6\n",
    "\n",
    "#Check the type and print the id of the same.\n",
    "\n",
    "print(type(a))\n",
    "print(id(a))"
   ]
  },
  {
   "cell_type": "code",
   "execution_count": 2,
   "metadata": {
    "colab": {},
    "colab_type": "code",
    "id": "IL4fVDHg2wbI"
   },
   "outputs": [
    {
     "name": "stdout",
     "output_type": "stream",
     "text": [
      "Sum: 30.447000000000003\n",
      "Difference: -10.025\n",
      "Product: 206.629796\n",
      "Dividing: 0.504595769915003\n",
      "Remainder: 10.211\n",
      "Quotient: 0.0\n"
     ]
    }
   ],
   "source": [
    "#Arithmatic Operations on float\n",
    "#Take two different float values.\n",
    "#Store them in two different variables.\n",
    "\n",
    "f1=10.211\n",
    "f2=20.236\n",
    "\n",
    "#Do below operations on them:-\n",
    "    #Find sum of both numbers\n",
    "\n",
    "print('Sum:',f1+f2)\n",
    "    \n",
    "    #Find differce between them\n",
    "    \n",
    "print('Difference:',f1-f2)\n",
    "    \n",
    "    #Find the product of both numbers.\n",
    "\n",
    "print('Product:',f1*f2)\n",
    "    \n",
    "    #Find value after dividing first num with second number\n",
    "\n",
    "print('Dividing:',f1/f2)    \n",
    "    \n",
    "    #Find the remainder after dividing first number with second number\n",
    "\n",
    "print('Remainder:',f1%f2)    \n",
    "    \n",
    "    #Find the quotient after dividing first number with second number\n",
    "\n",
    "print('Quotient:',f1//f2)    \n",
    "    \n",
    "    #Find the result of first num to the power of second number."
   ]
  },
  {
   "cell_type": "code",
   "execution_count": 6,
   "metadata": {
    "colab": {},
    "colab_type": "code",
    "id": "atCFaH6c2492"
   },
   "outputs": [
    {
     "name": "stdout",
     "output_type": "stream",
     "text": [
      "10.211\n",
      "20.236\n",
      ">: False\n",
      "<: True\n",
      ">=: False\n",
      "<=: True\n"
     ]
    }
   ],
   "source": [
    "#Comparison Operators on float\n",
    "#Take two different float values.\n",
    "#Store them in two different variables.\n",
    "print(f1)\n",
    "print(f2)\n",
    "#Do below operations on them:-\n",
    "    #Compare these two numbers with below operator:-\n",
    "        #Greater than, '>'\n",
    "print('>:', f1>f2)\n",
    "        #Smaller than, '<'\n",
    "print('<:', f1<f2)\n",
    "        #Greater than or equal to, '>='\n",
    "print('>=:', f1>=f2)\n",
    "        #Less than or equal to, '<='\n",
    "print('<=:', f1<=f2)\n",
    "#Observe their output(return type should be boolean)\n"
   ]
  },
  {
   "cell_type": "code",
   "execution_count": 7,
   "metadata": {
    "colab": {},
    "colab_type": "code",
    "id": "agi3U3863A5i"
   },
   "outputs": [
    {
     "name": "stdout",
     "output_type": "stream",
     "text": [
      "10.211\n",
      "20.236\n",
      "== : False\n",
      "!= : True\n"
     ]
    }
   ],
   "source": [
    "#Equality Operator\n",
    "#Take two different float values.\n",
    "#Store them in two different variables.\n",
    "print(f1)\n",
    "print(f2)\n",
    "#Equuate them using equality operator (==, !=)\n",
    "print('== :', f1==f2)\n",
    "print('!= :', f1!=f2)\n",
    "#Observe the output(return type should be boolean)"
   ]
  },
  {
   "cell_type": "code",
   "execution_count": 9,
   "metadata": {
    "colab": {},
    "colab_type": "code",
    "id": "3HLlgaEt3EnJ"
   },
   "outputs": [
    {
     "name": "stdout",
     "output_type": "stream",
     "text": [
      "10.20 and 20.30 -> 20.3\n",
      "0.0 and 20.30 -> 0.0\n",
      "20.30 and 0.0 -> 0.0\n",
      "0.0 and 0.0 -> 0.0\n",
      "10.20 or 20.30 -> 10.2\n",
      "0.0 or 20.30 -> 20.3\n",
      "20.30 or 0.0 -> 20.3\n",
      "0.0 or 0.0 -> 0.0\n",
      "not 10.20 -> False\n",
      "not 0.0 -> True\n"
     ]
    }
   ],
   "source": [
    "#Logical operators\n",
    "#Observe the output of below code\n",
    "#Cross check the output manually\n",
    "\n",
    "print('10.20 and 20.30 ->',10.20 and 20.30)       #both are true and second value taken >Output is 20.3\n",
    "print('0.0 and 20.30 ->', 0.0 and 20.30)         #First is false so first value taken->Output is 0.0\n",
    "print('20.30 and 0.0 ->', 20.30 and 0.0)         #Goes to till second and second value is false so second is taken>Output is 0.0\n",
    "print('0.0 and 0.0 ->', 0.0 and 0.0)           #First is false so first value is taken->Output is 0.0\n",
    "\n",
    "print('10.20 or 20.30 ->', 10.20 or 20.30)        #First is True so first value is taken>Output is 10.2\n",
    "print('0.0 or 20.30 ->', 0.0 or 20.30)          #Goes to till second and second is true second value is taken->Output is 20.3\n",
    "print('20.30 or 0.0 ->', 20.30 or 0.0)          #First is True so first value is taken->Output is 20.3\n",
    "print('0.0 or 0.0 ->', 0.0 or 0.0)            #Goes to till second and secod is also false and second value is taken>Output is 0.0\n",
    "\n",
    "print('not 10.20 ->', not 10.20)             #-Not of true is false->Output is False\n",
    "print('not 0.0 ->', not 0.0)               #Not of false is True>Output is True"
   ]
  },
  {
   "cell_type": "code",
   "execution_count": 13,
   "metadata": {
    "colab": {},
    "colab_type": "code",
    "id": "7YdyRNtk3UZd"
   },
   "outputs": [
    {
     "name": "stdout",
     "output_type": "stream",
     "text": [
      "False\n",
      "True\n",
      "2653855461264\n",
      "2653877367344\n"
     ]
    }
   ],
   "source": [
    "#What is the output of expression inside print statement. Cross check before running the program.\n",
    "a = 10.20\n",
    "b = 10.20\n",
    "print(a is b)          #True or False? True 10.20<256\n",
    "print(a is not b)      #True or False? False\n",
    "\n",
    "print(id(a))\n",
    "print(id(b))\n",
    "\n",
    "# Why the Id of float values are different when the same value is assigned to two different variables\n",
    "# ex: a = 10.5 b=10.5. but id will be same if I assign the variable having float i.e. a=c then both a anc c's\n",
    "# Id are same\n"
   ]
  },
  {
   "cell_type": "code",
   "execution_count": null,
   "metadata": {
    "colab": {},
    "colab_type": "code",
    "id": "iTvnIMLd3VLW"
   },
   "outputs": [],
   "source": [
    "#Bitwise operation is not applicable between instances of float.\n",
    "## Why the Id of float values are different when the same value is assigned to two different variables\n",
    "## ex: a = 10.5 b=10.5. but id will be same if I assign the variable having float i.e. a=c then both a anc c's\n",
    "## Id are same\n",
    "#Object reusability concept is not applicable on float values."
   ]
  },
  {
   "cell_type": "code",
   "execution_count": 14,
   "metadata": {
    "colab": {},
    "colab_type": "code",
    "id": "29AVJHpx3YUo"
   },
   "outputs": [
    {
     "name": "stdout",
     "output_type": "stream",
     "text": [
      "True\n",
      "True\n",
      "True\n",
      "True\n",
      "True\n",
      "True\n"
     ]
    }
   ],
   "source": [
    "#Membership operation\n",
    "#in, not in are two membership operators and it returns boolean value\n",
    "\n",
    "print('2.7' in 'Python2.7.8')              #True\n",
    "print(10.20 in [10,10.20,10+20j,'Python']) #True\n",
    "print(10.20 in (10,10.20,10+20j,'Python')) # True\n",
    "print(20.30 in {1,20.30,30+40j})           # True\n",
    "print(2.3 in {1:100, 2.3:200, 30+40j:300}) # True\n",
    "print(10 in range(20))                     # True"
   ]
  }
 ],
 "metadata": {
  "colab": {
   "name": "float_assignment.ipynb",
   "provenance": []
  },
  "kernelspec": {
   "display_name": "Python 3",
   "language": "python",
   "name": "python3"
  },
  "language_info": {
   "codemirror_mode": {
    "name": "ipython",
    "version": 3
   },
   "file_extension": ".py",
   "mimetype": "text/x-python",
   "name": "python",
   "nbconvert_exporter": "python",
   "pygments_lexer": "ipython3",
   "version": "3.8.3"
  }
 },
 "nbformat": 4,
 "nbformat_minor": 1
}
