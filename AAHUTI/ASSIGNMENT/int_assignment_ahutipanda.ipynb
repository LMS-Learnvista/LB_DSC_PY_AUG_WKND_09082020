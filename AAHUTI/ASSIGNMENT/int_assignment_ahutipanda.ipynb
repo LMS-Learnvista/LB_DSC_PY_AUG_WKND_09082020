{
 "cells": [
  {
   "cell_type": "code",
   "execution_count": 1,
   "metadata": {},
   "outputs": [
    {
     "name": "stdout",
     "output_type": "stream",
     "text": [
      "<class 'int'> 140734495040176\n"
     ]
    }
   ],
   "source": [
    "#1a - Declare an int value and store it in a variable. \n",
    "\n",
    "\n",
    "a = 10\n",
    "\n",
    "\n",
    "#1b - Check the type and print the id of the same.\n",
    "\n",
    "print(type(a),id(a))\n"
   ]
  },
  {
   "cell_type": "code",
   "execution_count": 3,
   "metadata": {},
   "outputs": [
    {
     "name": "stdout",
     "output_type": "stream",
     "text": [
      "140734495047856\n",
      "140734495047856\n",
      "1729742794832\n",
      "1729742795152\n"
     ]
    }
   ],
   "source": [
    "#2a -Take one int value between 0 - 256.\n",
    "#Assign it to two different variables.\n",
    "#Check the id of both the variables. It should come same. Check why?\n",
    "\n",
    "num1 = 250\n",
    "num2 = 250\n",
    "print(id(num1))\n",
    "print(id(num2))\n",
    "\n",
    "#Integer data type(within range 5 - 256) follows object reusability in Python, hence both id are same.\n",
    "\n",
    "\n",
    "#2b - Take one int value either less than -5 or greater than 256.\n",
    "#Assign it to two different variables.\n",
    "#Check the id of both the variables. It should come different.Check why?\n",
    "\n",
    "num3 = 290\n",
    "num4 = 290\n",
    "print(id(num3))\n",
    "print(id(num4))\n",
    "\n",
    "#Here, the value is outside the range of object reusability. So, both ids are different"
   ]
  },
  {
   "cell_type": "code",
   "execution_count": 13,
   "metadata": {},
   "outputs": [
    {
     "name": "stdout",
     "output_type": "stream",
     "text": [
      "Sum of two variables : 96\n",
      "-22\n",
      "2183\n",
      "0.6271186440677966\n",
      "0\n",
      "37\n",
      "334119420856080810951048371564653506081336908356254702245029555571386780490456633300388002173\n"
     ]
    }
   ],
   "source": [
    "#3 - Arithmatic Operations on integers\n",
    "#Take two different intger values.\n",
    "#Store them in two different variables.\n",
    "#Do below operations on them:-\n",
    "\n",
    "x = 37\n",
    "y = 59\n",
    "\n",
    "#a - Find sum of both numbers\n",
    "    \n",
    "z = (x + y)\n",
    "print('Sum of two variables :',z)\n",
    "\n",
    "#b -Find differce between them\n",
    "\n",
    "print(x-y)\n",
    "\n",
    "#c -Find the product of both numbers.\n",
    "\n",
    "print(x*y)\n",
    "\n",
    "#d -Find value after dividing first num with second number\n",
    "\n",
    "print(x/y)\n",
    "\n",
    "#e -Find the remainder after dividing first number with second number\n",
    "\n",
    "print(x//y)\n",
    "\n",
    "#f -Find the quotient after dividing first number with second number\n",
    "\n",
    "print(x%y)\n",
    "\n",
    "#g - Find the result of first num to the power of second number.\n",
    "\n",
    "print(x**y)"
   ]
  },
  {
   "cell_type": "code",
   "execution_count": 18,
   "metadata": {},
   "outputs": [
    {
     "name": "stdout",
     "output_type": "stream",
     "text": [
      "False\n",
      "True\n",
      "False\n",
      "True\n"
     ]
    }
   ],
   "source": [
    "#4- Comparison Operators on integers\n",
    "#Take two different intger values.\n",
    "#Store them in two different variables.\n",
    "\n",
    "p = 15\n",
    "q = 20\n",
    "\n",
    "#Do below operations on them:-\n",
    "#Compare se two numbers with below operator:-\n",
    "        #a - Greater than, '>'\n",
    "    \n",
    "print(p > q)\n",
    "\n",
    "        #b - Smaller than, '<'\n",
    "\n",
    "print(p<q)\n",
    "\n",
    "        #c - Greater than or equal to, '>='\n",
    "    \n",
    "print(p>=q)\n",
    "\n",
    "        #d - Less than or equal to, '<='\n",
    "    \n",
    "print(p<=q)\n",
    "\n",
    "#Observe their output(return type should be boolean)"
   ]
  },
  {
   "cell_type": "code",
   "execution_count": 23,
   "metadata": {},
   "outputs": [
    {
     "name": "stdout",
     "output_type": "stream",
     "text": [
      "False\n",
      "True\n",
      "True\n",
      "False\n"
     ]
    }
   ],
   "source": [
    "#5 -Equality Operator\n",
    "#Take two different intger values.\n",
    "#Store them in two different variables.\n",
    "\n",
    "m = 30\n",
    "n = 40\n",
    "\n",
    "#Equuate them using equality operator (==, !=)\n",
    "\n",
    "print(m == n)\n",
    "\n",
    "print(m != n)\n",
    "#Observe the output(return type should be boolean)\n",
    "\n",
    "m1 = 70\n",
    "n1 = 70\n",
    "print(m1 == n1)\n",
    "print(m1 != n1)"
   ]
  },
  {
   "cell_type": "code",
   "execution_count": 1,
   "metadata": {},
   "outputs": [
    {
     "name": "stdout",
     "output_type": "stream",
     "text": [
      "20\n",
      "0\n",
      "0\n",
      "0\n",
      "10\n",
      "20\n",
      "20\n",
      "0\n",
      "False\n",
      "True\n"
     ]
    }
   ],
   "source": [
    "#6 - Logical operators\n",
    "#Observe the output of below code\n",
    "#Cross check the output manually\n",
    "\n",
    "print(10 and 20)       #----------------------------------------->Output is 20\n",
    "print(0 and 20)        #----------------------------------------->Output is 0\n",
    "print(20 and 0)        #----------------------------------------->Output is 0\n",
    "print(0 and 0)         #----------------------------------------->Output is 0\n",
    "\n",
    "print(10 or 20)        #----------------------------------------->Output is 10\n",
    "print(0 or 20)         #----------------------------------------->Output is 20\n",
    "print(20 or 0)         #----------------------------------------->Output is 20\n",
    "print(0 or 0)          #----------------------------------------->Output is 0\n",
    "\n",
    "print(not 10)          #----------------------------------------->Output is False\n",
    "print(not 0)           #----------------------------------------->Output is True\n",
    "\n"
   ]
  },
  {
   "cell_type": "code",
   "execution_count": 4,
   "metadata": {},
   "outputs": [
    {
     "name": "stdout",
     "output_type": "stream",
     "text": [
      "0\n",
      "30\n",
      "30\n",
      "-11\n",
      "40\n",
      "2\n"
     ]
    }
   ],
   "source": [
    "#Bitwise Operators\n",
    "#Do below operations on the values provided below:-\n",
    "    #Bitwise and(&) -----------------------------------------> 10, 20   -------> Output is 0\n",
    "    #Bitwise or(|)  -----------------------------------------> 10, 20   -------> Output is 30\n",
    "    #Bitwise(^)     -----------------------------------------> 10, 20   -------> Output is 30\n",
    "    #Bitwise negation(~) ------------------------------------> 10       -------> Output is -11\n",
    "    #Bitwise left shift  ------------------------------------> 10,2     -------> Output is 40\n",
    "    #Bitwise right shift ------------------------------------> 10,2     -------> Output is 2\n",
    "#Cross check the output manually\n",
    "\n",
    "print(10 & 20)\n",
    "print(10 | 20)\n",
    "print(10 ^ 20)\n",
    "print(~10)\n",
    "print(10 << 2)\n",
    "print(10 >> 2)"
   ]
  },
  {
   "cell_type": "code",
   "execution_count": 5,
   "metadata": {},
   "outputs": [
    {
     "name": "stdout",
     "output_type": "stream",
     "text": [
      "True\n",
      "False\n",
      "False\n",
      "True\n"
     ]
    }
   ],
   "source": [
    "#What is the output of expression inside print statement. Cross check before running the program.\n",
    "a = 10\n",
    "b = 10\n",
    "print(a is b)          #True or False?\n",
    "print(a is not b)      #True or False?\n",
    "\n",
    "a = 1000\n",
    "b = 1000\n",
    "print(a is b)          #True or False?\n",
    "print(a is not b)      #True or False?"
   ]
  },
  {
   "cell_type": "code",
   "execution_count": 12,
   "metadata": {},
   "outputs": [
    {
     "name": "stdout",
     "output_type": "stream",
     "text": [
      "20\n"
     ]
    }
   ],
   "source": [
    "#What is the output of expression inside print statement. Cross check before running the program.\n",
    "print(10+(10*32)//2**5&20+(~(-10))<<2)\n",
    "\n",
    "#o/p - 20"
   ]
  },
  {
   "cell_type": "code",
   "execution_count": 13,
   "metadata": {},
   "outputs": [
    {
     "name": "stdout",
     "output_type": "stream",
     "text": [
      "True\n",
      "True\n",
      "True\n",
      "True\n",
      "True\n",
      "True\n"
     ]
    }
   ],
   "source": [
    "#Membership operation\n",
    "#in, not in are two membership operators and it returns boolean value\n",
    "\n",
    "print('2' in 'Python2.7.8')\n",
    "print(10 in [10,10.20,10+20j,'Python'])\n",
    "print(10 in (10,10.20,10+20j,'Python'))\n",
    "print(2 in {1,2,3})\n",
    "print(3 in {1:100, 2:200, 3:300})\n",
    "print(10 in range(20))\n",
    "\n",
    "#o/p-\n",
    "# True\n",
    "# True\n",
    "# True\n",
    "# True\n",
    "# False"
   ]
  },
  {
   "cell_type": "code",
   "execution_count": 21,
   "metadata": {},
   "outputs": [
    {
     "name": "stdout",
     "output_type": "stream",
     "text": [
      "Binary equivalent of 9876 is 0b10011010010100\n",
      "Octal equivalent of 9876 is 0o23224\n",
      "Hexadecimal equivalent of 9876 is 0x2694\n"
     ]
    }
   ],
   "source": [
    "#An integer can be represented in binary, octal or hexadecimal form.\n",
    "#Declare one binary, one octal and one hexadecimal value and store them in three different variables.\n",
    "#Convert 9876 to its binary, octal and hexadecimal equivalent and print their corresponding value.\n",
    "binary = 1010\n",
    "octal = 0o4567\n",
    "hexa = 0x123\n",
    "\n",
    "num = 9876\n",
    "bin_num = bin(num)\n",
    "print(f'Binary equivalent of {num} is {bin_num}')\n",
    "oct_num = oct(num)\n",
    "print(f'Octal equivalent of {num} is {oct_num}')\n",
    "hex_num = hex(num)\n",
    "print(f'Hexadecimal equivalent of {num} is {hex_num}')"
   ]
  },
  {
   "cell_type": "code",
   "execution_count": 22,
   "metadata": {},
   "outputs": [
    {
     "name": "stdout",
     "output_type": "stream",
     "text": [
      "80\n",
      "3870\n",
      "64222\n",
      "0b1010000\n",
      "0o7436\n",
      "0xfade\n",
      "0b1010000\n",
      "0b1111101011011110\n",
      "0o175336\n",
      "0o7436\n",
      "0x50\n",
      "0xfade\n"
     ]
    }
   ],
   "source": [
    "#What will be the ouput of following:-\n",
    "a = 0b1010000\n",
    "print(a)\n",
    "\n",
    "b = 0o7436\n",
    "print(b)\n",
    "\n",
    "c = 0xfade\n",
    "print(c)\n",
    "\n",
    "print(bin(80))\n",
    "\n",
    "print(oct(3870))\n",
    "\n",
    "print(hex(64222))\n",
    "\n",
    "print(bin(0b1010000))\n",
    "\n",
    "print(bin(0xfade))\n",
    "\n",
    "print(oct(0xfade))\n",
    "\n",
    "print(oct(0o7436))\n",
    "\n",
    "print(hex(0b1010000))\n",
    "\n",
    "print(hex(0xfade))"
   ]
  }
 ],
 "metadata": {
  "kernelspec": {
   "display_name": "Python 3",
   "language": "python",
   "name": "python3"
  },
  "language_info": {
   "codemirror_mode": {
    "name": "ipython",
    "version": 3
   },
   "file_extension": ".py",
   "mimetype": "text/x-python",
   "name": "python",
   "nbconvert_exporter": "python",
   "pygments_lexer": "ipython3",
   "version": "3.8.3"
  }
 },
 "nbformat": 4,
 "nbformat_minor": 4
}
