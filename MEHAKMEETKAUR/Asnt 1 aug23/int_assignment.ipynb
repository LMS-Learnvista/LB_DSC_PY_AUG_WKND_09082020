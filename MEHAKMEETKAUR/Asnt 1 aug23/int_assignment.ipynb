{
 "cells": [
  {
   "cell_type": "code",
   "execution_count": 3,
   "metadata": {
    "colab": {},
    "colab_type": "code",
    "id": "8A5Jw5NR1iEI"
   },
   "outputs": [
    {
     "name": "stdout",
     "output_type": "stream",
     "text": [
      "<class 'int'>\n",
      "140704841742400\n",
      "<class 'int'>\n",
      "140704841742720\n"
     ]
    }
   ],
   "source": [
    "#Declare an int value and store it in a variable. \n",
    "\n",
    "a=10\n",
    "b=20\n",
    "\n",
    "\n",
    "#Check the type and print the id of the same.\n",
    "\n",
    "print(type(a))\n",
    "print(id(a))\n",
    "\n",
    "print(type(b))\n",
    "print(id(b))"
   ]
  },
  {
   "cell_type": "code",
   "execution_count": 6,
   "metadata": {
    "colab": {},
    "colab_type": "code",
    "id": "0YU8LFTn1rAX"
   },
   "outputs": [
    {
     "name": "stdout",
     "output_type": "stream",
     "text": [
      "ID of x 140704841745280\n",
      "ID of y 140704841745280\n",
      "ID of int1 2097419391888\n",
      "ID of int2 2097419392400\n",
      "ID of int3 2097419392080\n",
      "ID of int4 2097419392336\n"
     ]
    }
   ],
   "source": [
    "#Take one int value between 0 - 256.\n",
    "#Assign it to two different variables.\n",
    "#Check the id of both the variables. It should come same. Check why?\n",
    "\n",
    "x=100\n",
    "y=x\n",
    "\n",
    "print('ID of x',id(x))\n",
    "print('ID of y',id(y))\n",
    "\n",
    "#Take one int value either less than -5 or greater than 256.\n",
    "#Assign it to two different variables.\n",
    "#Check the id of both the variables. It should come different.Check why?\n",
    "\n",
    "int1 = 500\n",
    "int2 = 500\n",
    "\n",
    "print('ID of int1',id(int1))\n",
    "print('ID of int2',id(int2))\n",
    "\n",
    "int3 = -200\n",
    "int4 = -200\n",
    "\n",
    "print('ID of int3',id(int3))\n",
    "print('ID of int4',id(int4))\n",
    "\n"
   ]
  },
  {
   "cell_type": "code",
   "execution_count": 12,
   "metadata": {
    "colab": {},
    "colab_type": "code",
    "id": "YzEIG0ZZ1tSK"
   },
   "outputs": [
    {
     "name": "stdout",
     "output_type": "stream",
     "text": [
      "Sum: 6\n",
      "Difference: -2\n",
      "Product: 8\n",
      "Division: 0.5\n",
      "Remainder: 2\n",
      "Quotient: 0\n",
      "Power: 16\n"
     ]
    }
   ],
   "source": [
    "#Arithmatic Operations on integers\n",
    "#Take two different intger values.\n",
    "\n",
    "x1 = 2\n",
    "x2 = 4\n",
    "#Store them in two different variables.\n",
    "#Do below operations on them:-\n",
    "    #Find sum of both numbers\n",
    "    \n",
    "print('Sum:', x1+x2)    \n",
    "    \n",
    "    #Find differce between them\n",
    "    \n",
    "print('Difference:', x1-x2)\n",
    "    \n",
    "    #Find the product of both numbers.\n",
    "    \n",
    "print('Product:', x1*x2)    \n",
    "    \n",
    "    #Find value after dividing first num with second number\n",
    "    \n",
    "print('Division:', x1/x2)    \n",
    "    \n",
    "    #Find the remainder after dividing first number with second number\n",
    "\n",
    "print('Remainder:', x1%x2)    \n",
    "\n",
    "    #Find the quotient after dividing first number with second number\n",
    "\n",
    "print('Quotient:', x1//x2)        \n",
    "    \n",
    "    #Find the result of first num to the power of second number.\n",
    "    \n",
    "print('Power:', x1**x2)    "
   ]
  },
  {
   "cell_type": "code",
   "execution_count": 15,
   "metadata": {},
   "outputs": [
    {
     "name": "stdout",
     "output_type": "stream",
     "text": [
      "Greater than: False\n",
      "Smaller than: True\n",
      "Greater than or equal to: False\n",
      "Less than or equal to: True\n",
      "Equal to: False\n",
      "Not Equal to: True\n"
     ]
    }
   ],
   "source": [
    "#Comparison Operators on integers\n",
    "#Take two different intger values.\n",
    "#Store them in two different variables.\n",
    "y1=3\n",
    "y2=5\n",
    "#Do below operations on them:-\n",
    "    #Compare se two numbers with below operator:-\n",
    "        #Greater than, '>'\n",
    "        \n",
    "print('Greater than:', y1>y2)        \n",
    "        \n",
    "        #Smaller than, '<'\n",
    "        \n",
    "print('Smaller than:', y1<y2)                \n",
    "        \n",
    "        #Greater than or equal to, '>='\n",
    "        \n",
    "print('Greater than or equal to:', y1>=y2)                \n",
    "        \n",
    "        #Less than or equal to, '<='\n",
    "        \n",
    "print('Less than or equal to:', y1<=y2)                \n",
    "        \n",
    "#Observe their output(return type should be boolean)\n",
    "\n",
    "#Equality Operator\n",
    "#Take two different intger values.\n",
    "#Store them in two different variables.\n",
    "#Equuate them using equality operator (==, !=)\n",
    "\n",
    "print('Equal to:', y1==y2)\n",
    "print('Not Equal to:', y1!=y2)\n",
    "\n",
    "#Observe the output(return type should be boolean)"
   ]
  },
  {
   "cell_type": "code",
   "execution_count": 16,
   "metadata": {
    "colab": {},
    "colab_type": "code",
    "id": "JmQFHUwc11S-"
   },
   "outputs": [
    {
     "name": "stdout",
     "output_type": "stream",
     "text": [
      "20\n",
      "0\n",
      "0\n",
      "0\n",
      "10\n",
      "20\n",
      "20\n",
      "0\n",
      "False\n",
      "True\n"
     ]
    }
   ],
   "source": [
    "#Logical operators\n",
    "#Observe the output of below code\n",
    "#Cross check the output manually\n",
    "\n",
    "print(10 and 20)       #----------------------------------------->Output is 20\n",
    "print(0 and 20)        #----------------------------------------->Output is 0\n",
    "print(20 and 0)        #----------------------------------------->Output is 0\n",
    "print(0 and 0)         #----------------------------------------->Output is 0\n",
    "\n",
    "print(10 or 20)        #----------------------------------------->Output is 10\n",
    "print(0 or 20)         #----------------------------------------->Output is 20\n",
    "print(20 or 0)         #----------------------------------------->Output is 20\n",
    "print(0 or 0)          #----------------------------------------->Output is 0\n",
    "\n",
    "print(not 10)          #----------------------------------------->Output is False\n",
    "print(not 0)           #----------------------------------------->Output is True"
   ]
  },
  {
   "cell_type": "code",
   "execution_count": null,
   "metadata": {
    "colab": {},
    "colab_type": "code",
    "id": "-0tvoulX14Hi"
   },
   "outputs": [],
   "source": [
    "#Bitwise Operators\n",
    "#Do below operations on the values provided below:-\n",
    "    #Bitwise and(&) -----------------------------------------> 10, 20   -------> Output is 0\n",
    "    #Bitwise or(|)  -----------------------------------------> 10, 20   -------> Output is 30\n",
    "    #Bitwise(^)     -----------------------------------------> 10, 20   -------> Output is 30\n",
    "    #Bitwise negation(~) ------------------------------------> 10       -------> Output is -11\n",
    "    #Bitwise left shift  ------------------------------------> 10,2     -------> Output is 40\n",
    "    #Bitwise right shift ------------------------------------> 10,2     -------> Output is 2\n",
    "#Cross check the output manually"
   ]
  },
  {
   "cell_type": "code",
   "execution_count": 17,
   "metadata": {
    "colab": {},
    "colab_type": "code",
    "id": "YCcx-Qx016hg"
   },
   "outputs": [
    {
     "name": "stdout",
     "output_type": "stream",
     "text": [
      "True\n",
      "False\n",
      "False\n",
      "True\n"
     ]
    }
   ],
   "source": [
    "#What is the output of expression inside print statement. Cross check before running the program.\n",
    "a = 10\n",
    "b = 10\n",
    "print(a is b)          #True or False?\n",
    "print(a is not b)      #True or False?\n",
    "\n",
    "a = 1000\n",
    "b = 1000\n",
    "print(a is b)          #True or False?\n",
    "print(a is not b)      #True or False?"
   ]
  },
  {
   "cell_type": "code",
   "execution_count": 49,
   "metadata": {
    "colab": {},
    "colab_type": "code",
    "id": "Un2To3XN1_Il"
   },
   "outputs": [
    {
     "name": "stdout",
     "output_type": "stream",
     "text": [
      "20\n"
     ]
    }
   ],
   "source": [
    "#What is the output of expression inside print statement. Cross check before running the program.\n",
    "print(10+(10*32)//2**5&20+(~(-10))<<2)"
   ]
  },
  {
   "cell_type": "code",
   "execution_count": null,
   "metadata": {},
   "outputs": [],
   "source": []
  },
  {
   "cell_type": "code",
   "execution_count": 50,
   "metadata": {
    "colab": {},
    "colab_type": "code",
    "id": "kGRb5RMd1_1I"
   },
   "outputs": [
    {
     "name": "stdout",
     "output_type": "stream",
     "text": [
      "True\n",
      "True\n",
      "True\n",
      "True\n",
      "True\n",
      "True\n"
     ]
    }
   ],
   "source": [
    "#Membership operation\n",
    "#in, not in are two membership operators and it returns boolean value\n",
    "\n",
    "print('2' in 'Python2.7.8')\n",
    "print(10 in [10,10.20,10+20j,'Python'])\n",
    "print(10 in (10,10.20,10+20j,'Python'))\n",
    "print(2 in {1,2,3})\n",
    "print(3 in {1:100, 2:200, 3:300})\n",
    "print(10 in range(20))"
   ]
  },
  {
   "cell_type": "code",
   "execution_count": null,
   "metadata": {
    "colab": {},
    "colab_type": "code",
    "id": "Es7iSvL92B9W"
   },
   "outputs": [],
   "source": [
    "#An integer can be represented in binary, octal or hexadecimal form.\n",
    "#Declare one binary, one octal and one hexadecimal value and store them in three different variables.\n",
    "#Convert 9876 to its binary, octal and hexadecimal equivalent and print their corresponding value."
   ]
  },
  {
   "cell_type": "code",
   "execution_count": 51,
   "metadata": {
    "colab": {},
    "colab_type": "code",
    "id": "Hm0r03lH2E0i"
   },
   "outputs": [
    {
     "name": "stdout",
     "output_type": "stream",
     "text": [
      "80\n",
      "3870\n",
      "64222\n",
      "bin(80): 0b1010000\n",
      "oct(3870): 0o7436\n",
      "hex(64222): 0xfade\n",
      "bin(0b1010000): 0b1010000\n",
      "bin(0xfade): 0b1111101011011110\n",
      "oct(0xfade): 0o175336\n",
      "oct(0o7436): 0o7436\n",
      "hex(0b1010000): 0x50\n",
      "hex(0xfade): 0xfade\n"
     ]
    }
   ],
   "source": [
    "#What will be the outut of following:-\n",
    "a = 0b1010000\n",
    "print(a)\n",
    "\n",
    "b = 0o7436\n",
    "print(b)\n",
    "\n",
    "c = 0xfade\n",
    "print(c)\n",
    "\n",
    "print('bin(80):',bin(80))\n",
    "\n",
    "print('oct(3870):',oct(3870))\n",
    "\n",
    "print('hex(64222):',hex(64222))\n",
    "\n",
    "print('bin(0b1010000):',bin(0b1010000))\n",
    "\n",
    "print('bin(0xfade):',bin(0xfade))\n",
    "\n",
    "print('oct(0xfade):',oct(0xfade))\n",
    "\n",
    "print('oct(0o7436):',oct(0o7436))\n",
    "\n",
    "print('hex(0b1010000):',hex(0b1010000))\n",
    "\n",
    "print('hex(0xfade):',hex(0xfade))"
   ]
  }
 ],
 "metadata": {
  "colab": {
   "name": "int_assignment.ipynb",
   "provenance": []
  },
  "kernelspec": {
   "display_name": "Python 3",
   "language": "python",
   "name": "python3"
  },
  "language_info": {
   "codemirror_mode": {
    "name": "ipython",
    "version": 3
   },
   "file_extension": ".py",
   "mimetype": "text/x-python",
   "name": "python",
   "nbconvert_exporter": "python",
   "pygments_lexer": "ipython3",
   "version": "3.8.3"
  }
 },
 "nbformat": 4,
 "nbformat_minor": 1
}
