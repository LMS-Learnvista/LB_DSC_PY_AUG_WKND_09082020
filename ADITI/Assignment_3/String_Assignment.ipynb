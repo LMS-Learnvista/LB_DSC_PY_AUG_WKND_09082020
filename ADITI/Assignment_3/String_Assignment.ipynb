{
 "cells": [
  {
   "cell_type": "code",
   "execution_count": 1,
   "metadata": {},
   "outputs": [
    {
     "name": "stdout",
     "output_type": "stream",
     "text": [
      "Type of a is : <class 'str'>\n",
      "ID of a is : 1429693566704\n"
     ]
    }
   ],
   "source": [
    "#Declare a string and store it in a variable. \n",
    "a='Hello'\n",
    "\n",
    "\n",
    "#Check the type and print the id of the same.\n",
    "print(f'Type of a is : {type(a)}')\n",
    "print(f'ID of a is : {id(a)}')"
   ]
  },
  {
   "cell_type": "code",
   "execution_count": 2,
   "metadata": {},
   "outputs": [],
   "source": [
    "# #Which are valid/invalid strings\n",
    "# 1. 'This is Python class'  --> Valid\n",
    "# valid/invalid\n",
    "\n",
    "# 2. \"This is Python class\" --> Valid \n",
    "# valid/invalid\n",
    "\n",
    "# 3. '''This is Python class''' --> Valid\n",
    "# valid/invalid\n",
    "\n",
    "# 4. \"\"\"This is Python class\"\"\" --> Valid\n",
    "# valid/invalid\n",
    "\n",
    "# 5. 'This is Python's class' --> Invalid\n",
    "# valid/invalid\n",
    "\n",
    "# 6. \"Learnbay provides \"Java\", \"Python\" classes\" --> Invalid\n",
    "# valid/invalid\n",
    "\n",
    "# 7. \"Learnbay provides 'Java', 'Python' classes\" --> Valid\n",
    "# valid/invalid\n",
    "\n",
    "# 8. \"This is Python's class\" --> Valid\n",
    "# valid/invalid\n",
    "\n",
    "# 9. \"\"\"Learnbay provides \"Java\", \"Python\" classes\"\"\" --> Valid\n",
    "# valid/invalid\n",
    "\n",
    "# 10. '''Learnbay provides \"Java\", \"Python\" classes''' --> Valid\n",
    "# valid/invalid   #\n",
    "\n",
    "# 11. '''Learnbay provides --> Valid\n",
    "# \"Java\", \"Python\" \n",
    "# classes'''\n",
    "# valid/invalid\n",
    "\n",
    "# 12. 'This is --> Invalid\n",
    "# Python \n",
    "# class'\n",
    "# valid/invalid"
   ]
  },
  {
   "cell_type": "code",
   "execution_count": 3,
   "metadata": {},
   "outputs": [
    {
     "name": "stdout",
     "output_type": "stream",
     "text": [
      "The length of my_str is : 66\n",
      "Id of my_str and my_str1 is same : True\n",
      "Type of my_str is : <class 'str'>\n"
     ]
    }
   ],
   "source": [
    "#Write the code to get the output mentioned below print statement\n",
    "my_str = \"Although that way may not be obvious at first unless you're Dutch.\"\n",
    "my_str1 = \"Although that way may not be obvious at first unless you're Dutch.\"\n",
    "\n",
    "#output:- The length of my_str is 66\n",
    "print(f'The length of my_str is : {len(my_str)}')\n",
    "\n",
    "#output:- id of my_str and my_str1 is same? - True\n",
    "my_str1=my_str\n",
    "print(f'Id of my_str and my_str1 is same : {my_str is my_str1}')\n",
    "\n",
    "#output:- Type of my_str is: str\n",
    "print(f'Type of my_str is : {type(my_str)}')\n"
   ]
  },
  {
   "cell_type": "code",
   "execution_count": 4,
   "metadata": {},
   "outputs": [
    {
     "name": "stdout",
     "output_type": "stream",
     "text": [
      "The first character in my_str is : A\n",
      "The first character in my_str is : A\n",
      "The character at index 10 in my_str is:   \n",
      "The last character in my_str is : h\n",
      "The last character in my_str is : h\n",
      "The character in my_str is : 8\n"
     ]
    }
   ],
   "source": [
    "#Indexing\n",
    "my_str = \"Although 8 that way may not be obvious at first unless you're Dutch\"\n",
    "#Write the code to get the output,instructions are mentioned below print statement. use indexing\n",
    "\n",
    "print(\"The first character in my_str is : {}\".format(my_str[0]))\n",
    "#output:- The first character in my_str is: A\n",
    "#Note:- Use positive indexing\n",
    "\n",
    "print(\"The first character in my_str is : {}\".format(my_str[-len(my_str)])) \n",
    "#output:- The first character in my_str is: A\n",
    "#Note:- Use len() function.\n",
    "\n",
    "print(\"The character at index 10 in my_str is: \",my_str[10])                                                    \n",
    "#output:- The character at index 10 in my_str is: space\n",
    "#Note:- Use positive indexing\n",
    "\n",
    "print(\"The last character in my_str is : {}\".format(my_str[-1]))\n",
    "#output:- The last character in my_str is: h\n",
    "#Note:- Use negative indexing.\n",
    "\n",
    "print(\"The last character in my_str is : {}\".format(my_str[len(my_str)-1]))\n",
    "#output:- \"The last character in my_str is: h\n",
    "#Note:- Use len() function.\n",
    "\n",
    "print(\"The character in my_str is : {}\".format(my_str[9])) \n",
    "#output:- The character in my_str is: 8\n",
    "#Note:- Use positive index"
   ]
  },
  {
   "cell_type": "code",
   "execution_count": 5,
   "metadata": {},
   "outputs": [
    {
     "name": "stdout",
     "output_type": "stream",
     "text": [
      "You have sliced : Although that way may not be obvious at first unless you're Dutch.\n",
      "You have sliced : Although that way may not be obvious at first unless you're Dutch.\n",
      "You have sliced : Although that way may not be obvious at first unless you're Dutch.\n",
      "You have sliced : Although that way may not be obvious at first unless you're Dutch.\n",
      "You have sliced : \n",
      "You have sliced : Atog htwymyntb biu tfrtuls o'eDth\n",
      "You have sliced : Ahgttam tebo  r lsorDc\n",
      "You have sliced : .hctuD er'uoy sselnu tsrif ta suoivbo eb ton yam yaw taht hguohtlA\n",
      "You have sliced : .hctuD er'uoy sselnu tsrif ta suoivbo eb ton yam yaw taht hguohtlA\n",
      "You have sliced : .cu ruysen si asovoe o a a athuhl\n",
      "You have sliced : .cu ruysen si asovoe o a a athuhl\n",
      "Output :  \n",
      "You have sliced : yaw ta\n",
      "You have sliced : ess you\n"
     ]
    }
   ],
   "source": [
    "\n",
    "#Slicing\n",
    "my_str = \"Although that way may not be obvious at first unless you're Dutch.\"\n",
    "#Write the code to get the output,instructions are mentioned below print statement. use slicing\n",
    "\n",
    "print(f'You have sliced : {my_str[::]}')\n",
    "#output:- You have sliced: Although that way may not be obvious at first unless you're Dutch.Without begin, end and step\n",
    "\n",
    "\n",
    "print(f'You have sliced : {my_str[0:len(my_str):]}')\n",
    "#output:- You have sliced: Although that way may not be obvious at first unless you're Dutch.with begin as 0 end using len and without step\n",
    "\n",
    "\n",
    "print(f'You have sliced : {my_str[::1]}')\n",
    "#output:- You have sliced: Although that way may not be obvious at first unless you're Dutch.without begin and end but using step\n",
    "\n",
    "\n",
    "print(f'You have sliced : {my_str[0:len(my_str):1]}')\n",
    "#output:- You have sliced: Although that way may not be obvious at first unless you're Dutch.With begin, end and step\n",
    "\n",
    "\n",
    "print(f'You have sliced : {my_str[0:1:-1]}')\n",
    "#output:- You have sliced:   .with using begin and end using postive values and step as negative values.\n",
    "#Slicing command should print empty string.\n",
    "\n",
    "\n",
    "print(f'You have sliced : {my_str[::2]}')\n",
    "#output:- You have sliced: Atog htwymyntb biu tfrtuls o'eDth\n",
    "\n",
    "\n",
    "print(f'You have sliced : {my_str[::3]}')\n",
    "#output:- You have sliced: Ahgttam tebo  r lsorDc\n",
    "\n",
    "\n",
    "print(f'You have sliced : {my_str[::-1]}')\n",
    "#output:- You have sliced: .hctuD er'uoy sselnu tsrif ta suoivbo eb ton yam yaw taht hguohtlA. Use only step\n",
    "\n",
    "\n",
    "print(f'You have sliced : {my_str[-1:-(len(my_str)+1):-1]}')\n",
    "#output:- You have sliced: .hctuD er'uoy sselnu tsrif ta suoivbo eb ton yam yaw taht hguohtlA. Use begin end and step.\n",
    "\n",
    "\n",
    "print(f'You have sliced : {my_str[::-2]}')\n",
    "#output:- You have sliced: .cu ruysen si asovoe o a a athuhl. use only step\n",
    "\n",
    "\n",
    "print(f'You have sliced : {my_str[-1:-(len(my_str)+1):-2]}')\n",
    "#output:- You have sliced: .cu ruysen si asovoe o a a athuhl. use begin, end and step.\n",
    "\n",
    "\n",
    "print(\"Output : \",my_str[10:17:-1])\n",
    "#What will be the output?\n",
    "\n",
    "\n",
    "print(f'You have sliced : {my_str[16:10:-1]}')\n",
    "#output:- You have sliced: yaw ta, Using begin, end and step.\n",
    "\n",
    "print(f'You have sliced : {my_str[len(my_str)-17:len(my_str)-10:1]}')\n",
    "#output:- You have sliced: ess you. Using begin, end and step.\n"
   ]
  },
  {
   "cell_type": "code",
   "execution_count": 6,
   "metadata": {},
   "outputs": [
    {
     "name": "stdout",
     "output_type": "stream",
     "text": [
      "Output :  Learnbay Python\n",
      "Output :  LearnbayLearnbayLearnbay\n"
     ]
    },
    {
     "ename": "TypeError",
     "evalue": "can't multiply sequence by non-int of type 'float'",
     "output_type": "error",
     "traceback": [
      "\u001b[1;31m---------------------------------------------------------------------------\u001b[0m",
      "\u001b[1;31mTypeError\u001b[0m                                 Traceback (most recent call last)",
      "\u001b[1;32m<ipython-input-6-4c306c579b3f>\u001b[0m in \u001b[0;36m<module>\u001b[1;34m\u001b[0m\n\u001b[0;32m     21\u001b[0m \u001b[1;33m\u001b[0m\u001b[0m\n\u001b[0;32m     22\u001b[0m \u001b[1;31m#Error: TypeError: can't multiply sequence by non-int of type 'float'\u001b[0m\u001b[1;33m\u001b[0m\u001b[1;33m\u001b[0m\u001b[1;33m\u001b[0m\u001b[0m\n\u001b[1;32m---> 23\u001b[1;33m \u001b[0mprint\u001b[0m\u001b[1;33m(\u001b[0m\u001b[0mstr1\u001b[0m\u001b[1;33m*\u001b[0m\u001b[1;36m2.5\u001b[0m\u001b[1;33m)\u001b[0m\u001b[1;33m\u001b[0m\u001b[1;33m\u001b[0m\u001b[0m\n\u001b[0m\u001b[0;32m     24\u001b[0m \u001b[1;33m\u001b[0m\u001b[0m\n\u001b[0;32m     25\u001b[0m \u001b[1;31m#Error: TypeError: can't multiply sequence by non-int of type 'str'\u001b[0m\u001b[1;33m\u001b[0m\u001b[1;33m\u001b[0m\u001b[1;33m\u001b[0m\u001b[0m\n",
      "\u001b[1;31mTypeError\u001b[0m: can't multiply sequence by non-int of type 'float'"
     ]
    }
   ],
   "source": [
    "#Basic operation on string\n",
    "str1 = 'Learnbay'\n",
    "str2 = 'Python'\n",
    "\n",
    "#Write the code to get the output,instructions are mentioned below.\n",
    "#Output is: Learnbay Python\n",
    "print(\"Output : \",str1+' '+str2)\n",
    "\n",
    "#Error: TypeError: can only concatenate str (not \"int\") to str\n",
    "\n",
    "print(str1+1) --->TypeError\n",
    "\n",
    "#Error: TypeError: can only concatenate str (not \"float\") to str\n",
    "\n",
    "print(str1+2.5) --->TypeError\n",
    "\n",
    "\n",
    "#Find below Output\n",
    "#Output is: LearnbayLearnbayLearnbay\n",
    "print(\"Output : \",str1*3)\n",
    "\n",
    "#Error: TypeError: can't multiply sequence by non-int of type 'float'\n",
    "print(str1*2.5)\n",
    "\n",
    "#Error: TypeError: can't multiply sequence by non-int of type 'str'\n",
    "print(str1*str2)\n"
   ]
  },
  {
   "cell_type": "code",
   "execution_count": 7,
   "metadata": {},
   "outputs": [
    {
     "name": "stdout",
     "output_type": "stream",
     "text": [
      "Id of str1 is same as str2 :  True\n",
      "Id of str1 is same as str3 :  False\n",
      "Id of str4 is same as str3  :  False\n",
      "If 'P' is available in str1 :  True\n",
      "If '$' is available in str1 :  True\n",
      "If 'N' is available in str1 :  False\n"
     ]
    }
   ],
   "source": [
    "#Find below Output\n",
    "str1 = 'Python'\n",
    "str2 = 'Python'\n",
    "str3 = 'Python$'\n",
    "str4 = 'Python$'\n",
    "\n",
    "#print True by using identity operator between str1 and str2\n",
    "print(\"Id of str1 is same as str2 : \",str1 is str2)\n",
    "\n",
    "#print False by using identity operator between str1 and str3\n",
    "print(\"Id of str1 is same as str3 : \",str1 is str3)\n",
    "\n",
    "#print False by using identity operator between str4 and str3\n",
    "print(\"Id of str4 is same as str3  : \",str4 is str3)\n",
    "\n",
    "#Check if P is available in str1 and print True by using membership operator\n",
    "print(\"If 'P' is available in str1 : \",'P' in str1)\n",
    "\n",
    "#Check if $ is available in str3 and print True by using membership operator\n",
    "print(\"If '$' is available in str1 : \",'$' in str3)\n",
    "\n",
    "#Check if N is available in str3 and print False by using membership operator\n",
    "print(\"If 'N' is available in str1 : \",'N' in str1)\n",
    "\n"
   ]
  },
  {
   "cell_type": "code",
   "execution_count": 8,
   "metadata": {},
   "outputs": [
    {
     "ename": "TypeError",
     "evalue": "'str' object does not support item assignment",
     "output_type": "error",
     "traceback": [
      "\u001b[1;31m---------------------------------------------------------------------------\u001b[0m",
      "\u001b[1;31mTypeError\u001b[0m                                 Traceback (most recent call last)",
      "\u001b[1;32m<ipython-input-8-3da74651d1fa>\u001b[0m in \u001b[0;36m<module>\u001b[1;34m\u001b[0m\n\u001b[0;32m      4\u001b[0m \u001b[1;31m#TypeError: 'str' object does not support item assignment.\u001b[0m\u001b[1;33m\u001b[0m\u001b[1;33m\u001b[0m\u001b[1;33m\u001b[0m\u001b[0m\n\u001b[0;32m      5\u001b[0m \u001b[1;33m\u001b[0m\u001b[0m\n\u001b[1;32m----> 6\u001b[1;33m \u001b[0mstr1\u001b[0m\u001b[1;33m[\u001b[0m\u001b[1;36m8\u001b[0m\u001b[1;33m:\u001b[0m\u001b[1;36m14\u001b[0m\u001b[1;33m]\u001b[0m\u001b[1;33m=\u001b[0m\u001b[1;34m'Java'\u001b[0m\u001b[1;33m\u001b[0m\u001b[1;33m\u001b[0m\u001b[0m\n\u001b[0m\u001b[0;32m      7\u001b[0m \u001b[0mprint\u001b[0m\u001b[1;33m(\u001b[0m\u001b[0mstr1\u001b[0m\u001b[1;33m)\u001b[0m\u001b[1;33m\u001b[0m\u001b[1;33m\u001b[0m\u001b[0m\n",
      "\u001b[1;31mTypeError\u001b[0m: 'str' object does not support item assignment"
     ]
    }
   ],
   "source": [
    "#Complete the below code\n",
    "str1 = 'This is Python class'\n",
    "#write the code to replace 'Python' with 'Java' and you should get below error.\n",
    "#TypeError: 'str' object does not support item assignment.\n",
    "\n",
    "str1[8:14]='Java'\n",
    "print(str1)\n"
   ]
  },
  {
   "cell_type": "code",
   "execution_count": 9,
   "metadata": {},
   "outputs": [
    {
     "name": "stdout",
     "output_type": "stream",
     "text": [
      "str1 is equal to str2 :  True\n",
      "str1 is equal to str2:  True\n",
      "str1 is equal to str2:  False\n",
      "str1 is equal to str2:  False\n"
     ]
    }
   ],
   "source": [
    "str1 = 'A'\n",
    "str2 = 'A'\n",
    "#Compare str1 and str2 and print True using comparison operator\n",
    "print(\"str1 is equal to str2 : \",str1==str2)\n",
    "\n",
    "#Compare str1 and str2 and print True using equality operator\n",
    "print(\"str1 is equal to str2: \",str1==str2)\n",
    "\n",
    "#Compare str1 and str2 and print False using equality operator\n",
    "print(\"str1 is equal to str2: \",str1.lower()==str2)\n",
    "\n",
    "#Compare str1 and str2 and print False using comparison operator\n",
    "print(\"str1 is equal to str2: \",str1!=str2)\n"
   ]
  },
  {
   "cell_type": "code",
   "execution_count": 10,
   "metadata": {},
   "outputs": [
    {
     "name": "stdout",
     "output_type": "stream",
     "text": [
      "str1 is equal to str2:  True\n",
      "str1 is equal to str2:  True\n",
      "str1 is equal to str2:  False\n",
      "str1 is equal to str2:  False\n"
     ]
    }
   ],
   "source": [
    "str1 = 'A'\n",
    "str2 = 'a'\n",
    "#Compare str1 and str2 and print True using comparison operator\n",
    "print(\"str1 is equal to str2: \",str1!=str2)\n",
    "\n",
    "#Compare str1 and str2 and print True using equality operator\n",
    "print(\"str1 is equal to str2: \",str1.lower()==str2)\n",
    "\n",
    "#Compare str1 and str2 and print False using equality operator\n",
    "print(\"str1 is equal to str2: \",str1==str2)\n",
    "\n",
    "#Compare str1 and str2 and print False using comparison operator\n",
    "print(\"str1 is equal to str2: \",str1==str2)\n"
   ]
  },
  {
   "cell_type": "code",
   "execution_count": 11,
   "metadata": {},
   "outputs": [
    {
     "name": "stdout",
     "output_type": "stream",
     "text": [
      "str1 is equal to str2:  True\n",
      "str1 is equal to str2:  False\n"
     ]
    }
   ],
   "source": [
    "str1 = 'A'\n",
    "str2 = '65'\n",
    "#Compare str1 and str2 using comparison operator and it should give below error.\n",
    "#Error: TypeError: '>=' not supported between instances of 'str' and 'int'\n",
    "\n",
    "# print(\"str1 is equal to str2: \",str1>=int(str2))\n",
    "\n",
    "#Compare str1 and str2 and print True using equality operator\n",
    "print(\"str1 is equal to str2: \",(ord(str1))==int(str2))\n",
    "\n",
    "#Compare str1 and str2 and print False using equality operator\n",
    "print(\"str1 is equal to str2: \",str1==str2)\n"
   ]
  },
  {
   "cell_type": "code",
   "execution_count": 12,
   "metadata": {},
   "outputs": [
    {
     "name": "stdout",
     "output_type": "stream",
     "text": [
      "str1 is equal to str2:  True\n",
      "str1 is equal to str2:  True\n",
      "str1 is equal to str2:  False\n",
      "str1 is equal to str2:  False\n"
     ]
    }
   ],
   "source": [
    "str1 = 'Python'\n",
    "str2 = 'Python'\n",
    "#Compare str1 and str2 and print True using comparison operator\n",
    "print(\"str1 is equal to str2: \",str1==str2)\n",
    "\n",
    "#Compare str1 and str2 and print True using equality operator\n",
    "print(\"str1 is equal to str2: \",str1==str2)\n",
    "\n",
    "#Compare str1 and str2 and print False using equality operator\n",
    "print(\"str1 is equal to str2: \",str1.lower()==str2)\n",
    "\n",
    "#Compare str1 and str2 and print False using comparison operator\n",
    "print(\"str1 is equal to str2: \",str1!=str2)\n"
   ]
  },
  {
   "cell_type": "code",
   "execution_count": 13,
   "metadata": {},
   "outputs": [
    {
     "name": "stdout",
     "output_type": "stream",
     "text": [
      "str1 is equal to str2:  True\n",
      "str1 is equal to str2:  True\n",
      "str1 is equal to str2:  False\n",
      "str1 is equal to str2:  False\n"
     ]
    }
   ],
   "source": [
    "str1 = 'Python'\n",
    "str2 = 'python'\n",
    "#Compare str1 and str2 and print True using comparison operator\n",
    "print(\"str1 is equal to str2: \",str1!=str2)\n",
    "\n",
    "#Compare str1 and str2 and print True using equality operator\n",
    "print(\"str1 is equal to str2: \",str1==str2.capitalize())\n",
    "\n",
    "#Compare str1 and str2 and print False using equality operator\n",
    "print(\"str1 is equal to str2: \",str1==str2)\n",
    "\n",
    "#Compare str1 and str2 and print False using comparison operator\n",
    "print(\"str1 is equal to str2: \",str1==str2)\n"
   ]
  },
  {
   "cell_type": "code",
   "execution_count": 14,
   "metadata": {},
   "outputs": [
    {
     "name": "stdout",
     "output_type": "stream",
     "text": [
      "Using 'and' operator :  \n",
      "Using 'or operator :  Python\n",
      "Using 'not' operator :  False\n",
      "Using 'not' operator :  True\n"
     ]
    }
   ],
   "source": [
    "a = 'Python'\n",
    "b = ''\n",
    "\n",
    "#Apply logical opereators (and, or & not) on above string values and observe the output.\n",
    "print(\"Using 'and' operator : \",a and b)\n",
    "print(\"Using 'or operator : \",a or b)\n",
    "print(\"Using 'not' operator : \",not a)\n",
    "print(\"Using 'not' operator : \",not b)"
   ]
  },
  {
   "cell_type": "code",
   "execution_count": 15,
   "metadata": {},
   "outputs": [
    {
     "name": "stdout",
     "output_type": "stream",
     "text": [
      "Using 'and' operator :  \n",
      "Using 'or operator :  \n",
      "Using 'not' operator :  True\n",
      "Using 'not' operator :  True\n"
     ]
    }
   ],
   "source": [
    "a = ''\n",
    "b = ''\n",
    "\n",
    "#Apply logical opereators (and, or & not) on above string values and observe the output.\n",
    "print(\"Using 'and' operator : \",a and b)\n",
    "print(\"Using 'or operator : \",a or b)\n",
    "print(\"Using 'not' operator : \",not a)\n",
    "print(\"Using 'not' operator : \",not b)"
   ]
  },
  {
   "cell_type": "code",
   "execution_count": 16,
   "metadata": {},
   "outputs": [
    {
     "name": "stdout",
     "output_type": "stream",
     "text": [
      "Using 'and' operator :  learnbay\n",
      "Using 'or' operator :  Python\n",
      "Using 'not' operator :  False\n",
      "Using 'not' operator :  False\n"
     ]
    }
   ],
   "source": [
    "a = 'Python'\n",
    "b = 'learnbay'\n",
    "\n",
    "#Apply logical opereators (and, or & not) on above string values and observe the output.\n",
    "print(\"Using 'and' operator : \",a and b)\n",
    "print(\"Using 'or' operator : \",a or b)\n",
    "print(\"Using 'not' operator : \",not a)\n",
    "print(\"Using 'not' operator : \",not b)"
   ]
  },
  {
   "cell_type": "code",
   "execution_count": 17,
   "metadata": {},
   "outputs": [
    {
     "name": "stdout",
     "output_type": "stream",
     "text": [
      "Total count of 't' is :  7\n",
      "Index of '8' using find method :  9\n",
      "Index of '8' using index method :  9\n",
      "-1\n",
      "11\n",
      "63\n",
      "63\n"
     ]
    }
   ],
   "source": [
    "my_str = \"Although 8 that way may not be obvious at first unless you're Dutch\"\n",
    "\n",
    "#Write the code to get the total count of 't' in above string. Use find() and index() method.\n",
    "print(\"Total count of 't' is : \",my_str.count('t'))\n",
    "\n",
    "\n",
    "\n",
    "#Write the code to get the index of '8' in my_str. Use find() and index() method.\n",
    "print(\"Index of '8' using find method : \",my_str.find('8'))\n",
    "print(\"Index of '8' using index method : \",my_str.index('8'))\n",
    "\n",
    "#What will be the output of below code?\n",
    "print(my_str.find('the'))\n",
    "\n",
    "\n",
    "print(my_str.index('the')) --> ValueError\n",
    "\n",
    "\n",
    "print(my_str.find('t', 9, 15))\n",
    "\n",
    "\n",
    "print(my_str.rfind('u'))\n",
    "\n",
    "\n",
    "print(my_str.rindex('u'))\n",
    "\n"
   ]
  },
  {
   "cell_type": "code",
   "execution_count": 18,
   "metadata": {},
   "outputs": [
    {
     "name": "stdout",
     "output_type": "stream",
     "text": [
      "Output for inp1 is :  Python\n",
      "Output for inp2 is :  Python\n",
      "Output for inp3 is :  Python\n"
     ]
    }
   ],
   "source": [
    "#W A P which applies strip() method if any string, which will be taken from user, starts and ends with space, or applies \n",
    "#rrstrip() method if that string only ends with space or applies lstrip() method if that string only starts with a space.\n",
    "\n",
    "#For example:-\n",
    "#input:- '    Python   '\n",
    "#output:- 'Python'\n",
    "\n",
    "inp1='    Python   '\n",
    "a=inp1.strip()\n",
    "print(\"Output for inp1 is : \",a)   \n",
    "\n",
    "#input:- '    Python'\n",
    "#output:- 'Python'\n",
    "\n",
    "inp2='    Python'\n",
    "b=inp2.lstrip()\n",
    "print(\"Output for inp2 is : \",b)\n",
    "\n",
    "#input:- 'Python   '\n",
    "#output:- 'Python'\n",
    "\n",
    "inp3='Python   '\n",
    "c=inp3.rstrip()\n",
    "print(\"Output for inp3 is : \",c)"
   ]
  },
  {
   "cell_type": "code",
   "execution_count": 19,
   "metadata": {},
   "outputs": [
    {
     "name": "stdout",
     "output_type": "stream",
     "text": [
      "Output :  ALTHOUGH 8 THAT WAY MAY NOT BE OBVIOUS AT FIRST UNLESS YOU'RE DUTCH\n",
      "Output :  although 8 that way may not be obvious at first unless you're dutch\n",
      "Output :  aLTHOUGH 8 THAT WAY MAY NOT BE OBVIOUS AT FIRST UNLESS YOU'RE dUTCH\n"
     ]
    }
   ],
   "source": [
    "my_str = \"Although 8 that way may not be obvious at first unless you're Dutch\"\n",
    "\n",
    "#Write the code to convert all alphabets in my_str into upper case.\n",
    "print(\"Output : \",my_str.upper())\n",
    "\n",
    "#Write the code to convert all alphabets in my_str into lower case.\n",
    "print(\"Output : \",my_str.lower())\n",
    "\n",
    "#Write the code to swap the cases of all alphabets in my_str.(lower to upper and upper to lower)\n",
    "print(\"Output : \",my_str.swapcase())\n",
    "\n"
   ]
  },
  {
   "cell_type": "code",
   "execution_count": 20,
   "metadata": {},
   "outputs": [
    {
     "name": "stdout",
     "output_type": "stream",
     "text": [
      "Enter a string : This is python class\n",
      "This Is Python Class\n"
     ]
    }
   ],
   "source": [
    "#Write the code which takes one string from user and if it starts with small case letter then convert it to corresponding \n",
    "#capital letter otherwise if starts with capital letters then convert first character of every word in that string into capital.\n",
    "\n",
    "inp=input(\"Enter a string : \")\n",
    "\n",
    "if inp[0].islower():\n",
    "    print(inp[0].upper()+inp[1:])\n",
    "else:\n",
    "    print(inp.title())"
   ]
  },
  {
   "cell_type": "code",
   "execution_count": 21,
   "metadata": {},
   "outputs": [
    {
     "name": "stdout",
     "output_type": "stream",
     "text": [
      "Enter a string : ABCD9\n",
      "False\n",
      "True\n",
      "False\n",
      "False\n",
      "True\n",
      "False\n",
      "False\n",
      "False\n",
      "False\n"
     ]
    }
   ],
   "source": [
    "#Take a string from user and check if it is:-              \n",
    "#     1. alphanumeric\n",
    "#     2. alphabets\n",
    "#     3. digit\n",
    "#     4. all letters are in lower case\n",
    "#     5. all letters are in upper case\n",
    "#     6. in title case\n",
    "#     7. a space character\n",
    "#     8. numeric\n",
    "#     9. all number elements in string are decimal\n",
    "\n",
    "inp1=input(\"Enter a string : \")\n",
    "\n",
    "print(inp1.isalpha())\n",
    "print(inp1.isalnum())\n",
    "print(inp1.isdigit())\n",
    "print(inp1.islower())\n",
    "print(inp1.isupper())\n",
    "print(inp1.istitle())\n",
    "print(inp1.isspace())\n",
    "print(inp1.isnumeric())\n",
    "print(inp1.isdecimal())"
   ]
  },
  {
   "cell_type": "code",
   "execution_count": 22,
   "metadata": {},
   "outputs": [
    {
     "name": "stdout",
     "output_type": "stream",
     "text": [
      "abc is an identifier : True\n",
      "abc1 is an identifier : True\n",
      "ab1c is an identifier : True\n",
      "1abc is an identifier : False\n",
      "abc$ is an identifier : False\n",
      "_abc is an identifier : True\n",
      "if is an identifier : True\n"
     ]
    }
   ],
   "source": [
    "#W A P which takes a string as an input and prints True if the string is valid identifier else returns False.\n",
    "#Sample Input:- 'abc', 'abc1', 'ab1c', '1abc', 'abc$', '_abc', 'if'\n",
    "\n",
    "inp=['abc', 'abc1', 'ab1c', '1abc', 'abc$', '_abc', 'if']\n",
    "\n",
    "for i in inp:\n",
    "    if i.isidentifier():\n",
    "        print(f'{i} is an identifier : True')\n",
    "    else:\n",
    "        print(f'{i} is an identifier : False')"
   ]
  },
  {
   "cell_type": "code",
   "execution_count": 23,
   "metadata": {},
   "outputs": [
    {
     "name": "stdout",
     "output_type": "stream",
     "text": [
      "True\n",
      "False\n",
      "False\n",
      "True\n"
     ]
    }
   ],
   "source": [
    "#What will be output of below code?\n",
    "s = chr(65) + chr(97)\n",
    "print(s.isprintable())\n",
    "\n",
    "s = chr(27) + chr(97)\n",
    "print(s.isprintable())\n",
    "\n",
    "s = '\\n'\n",
    "print(s.isprintable())\n",
    "\n",
    "s = ''\n",
    "print(s.isprintable())"
   ]
  },
  {
   "cell_type": "code",
   "execution_count": 24,
   "metadata": {},
   "outputs": [
    {
     "name": "stdout",
     "output_type": "stream",
     "text": [
      "True\n",
      "True\n",
      "True\n",
      "True\n",
      "False\n",
      "False\n"
     ]
    }
   ],
   "source": [
    "#What will be output of below code?\n",
    "my_string = '  '\n",
    "print(my_string.isascii())\n",
    "\n",
    "my_string = 'Studytonight'\n",
    "print(my_string.isascii())\n",
    "\n",
    "my_string = 'Study tonight'\n",
    "print(my_string.isascii())\n",
    "\n",
    "my_string = 'Studytonight@123'\n",
    "print(my_string.isascii())\n",
    "\n",
    "my_string = '°'\n",
    "print(my_string.isascii())\n",
    "\n",
    "my_string = 'ö'\n",
    "print(my_string.isascii())"
   ]
  },
  {
   "cell_type": "code",
   "execution_count": 25,
   "metadata": {},
   "outputs": [
    {
     "name": "stdout",
     "output_type": "stream",
     "text": [
      "The strings are equal.\n"
     ]
    }
   ],
   "source": [
    "#What will be the output of below code?\n",
    "firstString = \"der Fluß\"\n",
    "secondString = \"der Fluss\"\n",
    "\n",
    "if firstString.casefold() == secondString.casefold():\n",
    "    print('The strings are equal.')\n",
    "else:\n",
    "    print('The strings are not equal.')"
   ]
  },
  {
   "cell_type": "code",
   "execution_count": 26,
   "metadata": {},
   "outputs": [
    {
     "name": "stdout",
     "output_type": "stream",
     "text": [
      "python**\n",
      "**python\n",
      "**python**\n"
     ]
    }
   ],
   "source": [
    "#Write the code to get below output\n",
    "#O/P 1:- python** (using ljust method)\n",
    "string1='python'\n",
    "a=string1.ljust(8,'*')\n",
    "print(a)\n",
    "\n",
    "\n",
    "#Write the code to get below output\n",
    "#O/P 1:- **python (using rjust method)\n",
    "string2='python'\n",
    "b=string2.rjust(8,'*')\n",
    "print(b)\n",
    "\n",
    "\n",
    "#Write the code to get below output\n",
    "#O/P 1:- **python** (using rjust method)\n",
    "string3='python'\n",
    "c=string3.ljust(8,'*')\n",
    "d=c.rjust(10,'*')\n",
    "print(d)"
   ]
  },
  {
   "cell_type": "code",
   "execution_count": 27,
   "metadata": {},
   "outputs": [
    {
     "name": "stdout",
     "output_type": "stream",
     "text": [
      "The length of the string is :  55\n"
     ]
    }
   ],
   "source": [
    "#Write a Python program to find the length of the my_str:-\n",
    "\n",
    "#Input:- 'Write a Python program to find the length of the my_str'\n",
    "#Output:- 55\n",
    "\n",
    "a='Write a Python program to find the length of the my_str'\n",
    "length=len(a)\n",
    "print(\"The length of the string is : \",length)"
   ]
  },
  {
   "cell_type": "code",
   "execution_count": 28,
   "metadata": {},
   "outputs": [
    {
     "name": "stdout",
     "output_type": "stream",
     "text": [
      "Total number of times letter 'p' appeared is :  9\n"
     ]
    }
   ],
   "source": [
    "#Write a Python program to find the total number of times letter 'p' is appeared in the below string:-\n",
    "    \n",
    "#Input:- 'peter piper picked a peck of pickled peppers.'\n",
    "#Output:- 9\n",
    "\n",
    "b='peter piper picked a peck of pickled peppers.'\n",
    "total=b.count('p')\n",
    "print(\"Total number of times letter 'p' appeared is : \",total)"
   ]
  },
  {
   "cell_type": "code",
   "execution_count": 29,
   "metadata": {},
   "outputs": [
    {
     "name": "stdout",
     "output_type": "stream",
     "text": [
      "0\n",
      "6\n",
      "8\n",
      "12\n",
      "21\n",
      "29\n",
      "37\n",
      "39\n",
      "40\n"
     ]
    }
   ],
   "source": [
    "#Write a Python Program, to print all the indexes of all occurences of letter 'p' appeared in the string:-\n",
    "    \n",
    "#Input:- 'peter piper picked a peck of pickled peppers.'\n",
    "#Output:- \n",
    "# 0\n",
    "# 6\n",
    "# 8\n",
    "# 12\n",
    "# 21\n",
    "# 29\n",
    "# 37\n",
    "# 39\n",
    "# 40\n",
    "\n",
    "c='peter piper picked a peck of pickled peppers.'\n",
    "\n",
    "for i in range(len(c)):\n",
    "    if c[i]=='p':\n",
    "        print(i)"
   ]
  },
  {
   "cell_type": "code",
   "execution_count": 30,
   "metadata": {},
   "outputs": [
    {
     "name": "stdout",
     "output_type": "stream",
     "text": [
      "['peter', 'piper', 'picked', 'a', 'peck', 'of', 'pickled', 'peppers']\n"
     ]
    }
   ],
   "source": [
    "#Write a python program to find below output:-\n",
    "\n",
    "#Input:- 'peter piper picked a peck of pickled peppers.'\n",
    "#Output:- ['peter', 'piper', 'picked', 'a', 'peck', 'of', 'pickled', 'peppers']\n",
    "\n",
    "inp='peter piper picked a peck of pickled peppers.'\n",
    "\n",
    "out=inp.replace('.','').split()\n",
    "print(out)"
   ]
  },
  {
   "cell_type": "code",
   "execution_count": 31,
   "metadata": {},
   "outputs": [
    {
     "name": "stdout",
     "output_type": "stream",
     "text": [
      "peppers pickled of peck a picked piper peter\n"
     ]
    }
   ],
   "source": [
    "#Write a python program to find below output:-\n",
    "\n",
    "#Input:- 'peter piper picked a peck of pickled peppers.'\n",
    "#Output:- 'peppers pickled of peck a picked piper peter'\n",
    "\n",
    "inp='peter piper picked a peck of pickled peppers.'\n",
    "\n",
    "a=inp.replace('.','').split()\n",
    "b=a[::-1]\n",
    "out=' '.join(b)\n",
    "print(out)"
   ]
  },
  {
   "cell_type": "code",
   "execution_count": 32,
   "metadata": {},
   "outputs": [
    {
     "name": "stdout",
     "output_type": "stream",
     "text": [
      ".sreppep delkcip fo kcep a dekcip repip retep\n"
     ]
    }
   ],
   "source": [
    "#Write a python program to find below output:-\n",
    "\n",
    "#Input:- 'peter piper picked a peck of pickled peppers.'\n",
    "#Output:- 'sreppep delkcip fo kcep a dekcip repip retep'\n",
    "\n",
    "inp='peter piper picked a peck of pickled peppers.'\n",
    "\n",
    "a=inp.split()\n",
    "b=a[::-1]\n",
    "new=[]\n",
    "for i in range(len(b)):\n",
    "    c=b[i]\n",
    "    d=c[::-1]\n",
    "    new.append(d)\n",
    "    out=' '.join(new)\n",
    "print(out)"
   ]
  },
  {
   "cell_type": "code",
   "execution_count": 33,
   "metadata": {},
   "outputs": [
    {
     "name": "stdout",
     "output_type": "stream",
     "text": [
      "retep repip dekcip a kcep fo delkcip sreppep\n"
     ]
    }
   ],
   "source": [
    "#Write a python program to find below output:-\n",
    "\n",
    "#Input:- 'peter piper picked a peck of pickled peppers.'\n",
    "#Output:- 'retep repip dekcip a kcep fo delkcip sreppep'\n",
    "\n",
    "inp='peter piper picked a peck of pickled peppers.'\n",
    "\n",
    "a=inp.replace('.','').split()\n",
    "new=[]\n",
    "for i in range(len(a)):\n",
    "    b=a[i]\n",
    "    c=b[::-1]\n",
    "    new.append(c)\n",
    "    out=' '.join(new)\n",
    "print(out)"
   ]
  },
  {
   "cell_type": "code",
   "execution_count": 34,
   "metadata": {},
   "outputs": [
    {
     "name": "stdout",
     "output_type": "stream",
     "text": [
      "Peter Piper Picked A Peck Of Pickled Peppers\n"
     ]
    }
   ],
   "source": [
    "#Write a python program to find below output:-\n",
    "\n",
    "#Input:- 'peter piper picked a peck of pickled peppers.'\n",
    "#Output:- 'Peter Piper Picked A Peck Of Pickled Peppers'\n",
    "\n",
    "inp='peter piper picked a peck of pickled peppers.'\n",
    "new=inp.replace('.','').title()\n",
    "print(new)"
   ]
  },
  {
   "cell_type": "code",
   "execution_count": 35,
   "metadata": {},
   "outputs": [
    {
     "name": "stdout",
     "output_type": "stream",
     "text": [
      "Peter piper picked a peck of pickled peppers\n"
     ]
    }
   ],
   "source": [
    "#Write a python program to find below output:-\n",
    "\n",
    "#Input:- 'Peter Piper Picked A Peck Of Pickled Peppers.'\n",
    "#Output:- 'Peter piper picked a peck of pickled peppers'\n",
    "\n",
    "inp='Peter Piper Picked A Peck Of Pickled Peppers.'\n",
    "out=inp.replace('.','').capitalize()\n",
    "print(out)"
   ]
  },
  {
   "cell_type": "code",
   "execution_count": 36,
   "metadata": {},
   "outputs": [
    {
     "name": "stdout",
     "output_type": "stream",
     "text": [
      "29\n"
     ]
    }
   ],
   "source": [
    "#Write a python program to implement index method. If sub_str is found in my_str then it will print the index\n",
    "# of first occurrence of first character of matching string in my_str:-\n",
    "\n",
    "#Input:- my_str = 'Peter Piper Picked A Peck Of Pickled Peppers.', sub_str = 'Pickl'\n",
    "#Output:- 29\n",
    "\n",
    "my_str = 'Peter Piper Picked A Peck Of Pickled Peppers.'\n",
    "sub_str = 'Pickl'\n",
    "\n",
    "if sub_str in my_str:\n",
    "    out=my_str.index(sub_str)\n",
    "else:\n",
    "    print(\"Substring not found\")\n",
    "print(out)"
   ]
  },
  {
   "cell_type": "code",
   "execution_count": 37,
   "metadata": {},
   "outputs": [
    {
     "name": "stdout",
     "output_type": "stream",
     "text": [
      "Peter Piper Picked A Pack Of Pickled Peppers.\n"
     ]
    }
   ],
   "source": [
    "#Write a python program to implement replace method. If sub_str is found in my_str then it will replace the first \n",
    "#occurrence of sub_str with new_str else it will will print sub_str not found:-\n",
    "\n",
    "#Input:- my_str = 'Peter Piper Picked A Peck Of Pickled Peppers.', sub_str = 'Peck', new_str = 'Pack'\n",
    "#Output:- 'Peter Piper Picked A Pack Of Pickled Peppers.'\n",
    "\n",
    "my_str = 'Peter Piper Picked A Peck Of Pickled Peppers.'\n",
    "sub_str = 'Peck'\n",
    "new_str = 'Pack'\n",
    "\n",
    "if sub_str in my_str:\n",
    "    out=my_str.replace(sub_str,new_str)\n",
    "else:\n",
    "    print(\"Substring not found\")\n",
    "    \n",
    "print(out)"
   ]
  },
  {
   "cell_type": "code",
   "execution_count": 38,
   "metadata": {},
   "outputs": [
    {
     "name": "stdout",
     "output_type": "stream",
     "text": [
      "*********************Peck********************\n"
     ]
    }
   ],
   "source": [
    "#Write a python program to find below output (implements rjust and ljust):-\n",
    "\n",
    "#Input:- 'Peter Piper Picked A Peck Of Pickled Peppers.', sub_str = 'Peck', \n",
    "#Output:- '*********************Peck********************'\n",
    "\n",
    "my_str='Peter Piper Picked A Peck Of Pickled Peppers.'\n",
    "sub_str = 'Peck'\n",
    "\n",
    "a=my_str.index(sub_str)\n",
    "b=sub_str.rjust(a+len(sub_str),'*')\n",
    "c=b.ljust(len(my_str),'*')\n",
    "print(c)"
   ]
  },
  {
   "cell_type": "code",
   "execution_count": 39,
   "metadata": {},
   "outputs": [
    {
     "name": "stdout",
     "output_type": "stream",
     "text": [
      "['This is Python class']\n"
     ]
    }
   ],
   "source": [
    "#Write a python program to find below output (implement partition and rpartition):-\n",
    "\n",
    "#Input:- 'This is Python class', sep = ' is', \n",
    "#Output:- ['This ', 'is', ' Python class']\n",
    "\n",
    "inp='This is Python class'\n",
    "sep = ' is'\n",
    "\n",
    "new=[]\n",
    "new_str=''\n",
    "for word in inp:\n",
    "    if word==sep:\n",
    "        new.append(new_str)\n",
    "        new_str=''\n",
    "        new.append(sep)\n",
    "    else:\n",
    "        new_str+=word\n",
    "new.append(new_str)\n",
    "for i in range(len(new)):\n",
    "    new[i]=new[i].lstrip()\n",
    "print(new)"
   ]
  },
  {
   "cell_type": "code",
   "execution_count": 40,
   "metadata": {},
   "outputs": [
    {
     "name": "stdout",
     "output_type": "stream",
     "text": [
      "R{vjqp\n",
      "Rwvfql\n",
      "R{vfml\n"
     ]
    }
   ],
   "source": [
    "#Write a python program which takes one input string from user and encode it in below format:-\n",
    "1. #Input:- 'Python'\n",
    "#Output:- 'R{vjqp'\n",
    "        \n",
    "inp1='Python'\n",
    "out1=''\n",
    "for i in range(len(inp1)):\n",
    "    out1+=chr(ord(inp1[i])+2)\n",
    "print(out1)\n",
    "        \n",
    "               \n",
    "2. #Input:- 'Python'\n",
    "#Output:- 'Rwvfql'\n",
    "\n",
    "inp2='Python'\n",
    "out2=''\n",
    "for i in range(len(inp2)):\n",
    "    if i%2==0:\n",
    "        out2+=chr(ord(inp2[i])+2)\n",
    "    else:\n",
    "        out2+=chr(ord(inp2[i])-2) \n",
    "print(out2)\n",
    "               \n",
    "        \n",
    "3. #Input:- 'Python'\n",
    "#Output:- 'R{vfml'\n",
    "        \n",
    "inp3='Python'\n",
    "out3=''        \n",
    "for i in range(len(inp3)):\n",
    "    if i<len(inp3)//2:\n",
    "        out3+=chr((ord(inp3[i])+2))\n",
    "    else:\n",
    "        out3+=chr((ord(inp3[i])-2))          \n",
    "print(out3)      "
   ]
  }
 ],
 "metadata": {
  "kernelspec": {
   "display_name": "Python 3",
   "language": "python",
   "name": "python3"
  },
  "language_info": {
   "codemirror_mode": {
    "name": "ipython",
    "version": 3
   },
   "file_extension": ".py",
   "mimetype": "text/x-python",
   "name": "python",
   "nbconvert_exporter": "python",
   "pygments_lexer": "ipython3",
   "version": "3.7.6"
  }
 },
 "nbformat": 4,
 "nbformat_minor": 4
}
