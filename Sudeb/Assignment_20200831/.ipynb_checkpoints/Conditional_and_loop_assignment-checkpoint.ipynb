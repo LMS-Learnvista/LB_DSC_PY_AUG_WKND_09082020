{
 "cells": [
  {
   "cell_type": "markdown",
   "metadata": {
    "colab_type": "text",
    "id": "wNRNTbrsc53d"
   },
   "source": [
    "# If - elif - else statement"
   ]
  },
  {
   "cell_type": "code",
   "execution_count": 87,
   "metadata": {
    "colab": {},
    "colab_type": "code",
    "id": "MiPfTnBycxNa"
   },
   "outputs": [
    {
     "name": "stdout",
     "output_type": "stream",
     "text": [
      "input = 5\n",
      "five\n"
     ]
    }
   ],
   "source": [
    "#W. A P. which takes one number from 0 to 9 from the user and prints it in the word. And if the word is not from 0 to 9 then\n",
    "#it should print that number is outside of the range and program should exit.\n",
    "# For exapmple:- \n",
    "# input = 1\n",
    "# output = one\n",
    "w = {1:\"one\",2:\"two\",3:'three',4:'four',5:'five',6:'six',7:'seven',8:'eight',9:'nine',0:'zero'}\n",
    "n =int(input('input = '))\n",
    "if n not in w.keys():\n",
    "    print('Exit')\n",
    "else :\n",
    "    print(w.get(n))"
   ]
  },
  {
   "cell_type": "code",
   "execution_count": 89,
   "metadata": {
    "colab": {},
    "colab_type": "code",
    "id": "vEMNOv9zdA39"
   },
   "outputs": [
    {
     "name": "stdout",
     "output_type": "stream",
     "text": [
      "Operation = 1\n",
      "Number 1 = 15\n",
      "Number 2 = 12\n",
      "Sum =  27\n",
      "Operation = 7\n",
      "Number 1 = 3\n",
      "Number 2 = 4\n",
      "Powered =  12\n",
      "Operation = 5\n",
      "Number 1 = 10\n",
      "Number 2 = 3\n",
      "Quotient =  3\n",
      "Operation = 6\n",
      "Number 1 = 10\n",
      "Number 2 = 3\n",
      "Remainder =  1\n",
      "Operation = 2\n",
      "Number 1 = 12\n",
      "Number 2 = 5\n",
      "Difference =  7\n",
      "Operation = 8\n",
      "Thank u for using simple calculator!! \n"
     ]
    }
   ],
   "source": [
    "#W. A P. to implement calculator but the operation to be done and two numbers will be taken as input from user:-\n",
    "#Operation console should show below:-\n",
    "#     Please select any one operation from below:-\n",
    "#         * To add enter 1\n",
    "#         * to subtract enter 2\n",
    "#         * To multiply enter 3\n",
    "#         * To divide enter 4\n",
    "#         * To divide and find quotient enter 5\n",
    "#         * To divide and find remainder enter 6\n",
    "#         * To divide and find num1 to the power of num2 enter 7\n",
    "#         * To Come out of the program enter 8\n",
    "\n",
    "o =int(input('Operation = '))\n",
    "while o != 8:\n",
    "    n1 =int(input('Number 1 = '))\n",
    "    n2 =int(input('Number 2 = '))\n",
    "    if o == 1:\n",
    "        print(\"Sum = \",(n1+n2))\n",
    "    elif o == 2:\n",
    "        print(\"Difference = \",(n1-n2))\n",
    "    elif o == 3:\n",
    "        print(\"Multiplication = \",(n1*n2))\n",
    "    elif o == 4:\n",
    "        print(\"Division = \",(n1/n2))\n",
    "    elif o == 5:\n",
    "        print(\"Quotient = \",(n1//n2))\n",
    "    elif o == 6:\n",
    "        print(\"Remainder = \",(n1%n2))\n",
    "    elif o == 7:\n",
    "        print(\"Powered = \",(n1**n2))\n",
    "    o =int(input('Operation = '))\n",
    "    \n",
    "print(\"Thank u for using simple calculator!! \")\n",
    "\n"
   ]
  },
  {
   "cell_type": "code",
   "execution_count": 92,
   "metadata": {
    "colab": {},
    "colab_type": "code",
    "id": "1e2gwYLqdC1s"
   },
   "outputs": [
    {
     "name": "stdout",
     "output_type": "stream",
     "text": [
      "Input years in comma separated format : 2012, 1968, 2004, 1200, 1600,2400, 1971, 2006, 1700,1800,1900\n",
      "Leap year :  2012, 1968, 2004, 1200, 1600, 2400\n",
      "Non Leap year :  1971, 2006, 1700, 1800, 1900\n"
     ]
    }
   ],
   "source": [
    "#W A P to check whether a year entered by user is an leap year or not?\n",
    "#Check with below input:-\n",
    "    #leap year:- 2012, 1968, 2004, 1200, 1600,2400\n",
    "    #Non-lear year:- 1971, 2006, 1700,1800,1900\n",
    "yr = input('Input years in comma separated format : ').replace(\" \",\"\")\n",
    "yrs = yr.split(',')\n",
    "\n",
    "def check_leap(yr):\n",
    "    if (yr%4 == 0 and yr%100 != 0) or yr%400 ==0:\n",
    "        return True\n",
    "    else:\n",
    "        return False\n",
    "lp_yr = []\n",
    "nlp_yr = []\n",
    "\n",
    "lp_yr = [i for i in yrs if check_leap(int(i))]\n",
    "nlp_yr = [i for i in yrs if not check_leap(int(i))]\n",
    "print(\"Leap year : \",', '.join(lp_yr))\n",
    "print(\"Non Leap year : \",', '.join(nlp_yr))"
   ]
  },
  {
   "cell_type": "code",
   "execution_count": 93,
   "metadata": {
    "colab": {},
    "colab_type": "code",
    "id": "_tpXv1EtdEre"
   },
   "outputs": [
    {
     "name": "stdout",
     "output_type": "stream",
     "text": [
      "Number = 4\n",
      "4  is even!\n"
     ]
    }
   ],
   "source": [
    "#W A P which takes one number from the user and checks whether it is an even or odd number?, If it even then prints number is \n",
    "#even number else prints that number is odd number.\n",
    "n =int(input('Number = '))\n",
    "if n%2 == 0:\n",
    "    print(n,\" is even!\")\n",
    "else:\n",
    "    print(n,\" is odd!\")"
   ]
  },
  {
   "cell_type": "code",
   "execution_count": 98,
   "metadata": {
    "colab": {},
    "colab_type": "code",
    "id": "Q1HumymCdG6i"
   },
   "outputs": [
    {
     "name": "stdout",
     "output_type": "stream",
     "text": [
      "Number 1 = 4\n",
      "Number 2 = 5\n",
      "4  smaller than  5\n",
      "4  smaller than  5\n"
     ]
    }
   ],
   "source": [
    "#W A P which takes two numbers from the user and prints below output:-\n",
    "#     1. num1 is greater than num2 if num1 is greater than num2\n",
    "#     2. num1 is smaller than num2 if num1 is smaller than num2\n",
    "#     3. num1 is equal to num2 if num1 and num2 are equal\n",
    "\n",
    "#Note:- 1. Do this problem using if - else \n",
    "#       2. Do this using ternary operator\n",
    "\n",
    "n1 =int(input('Number 1 = '))\n",
    "n2 =int(input('Number 2 = '))\n",
    "if n1>n2:\n",
    "    print(n1,\" greater than \",n2)\n",
    "elif n1<n2:\n",
    "    print(n1,\" smaller than \",n2)\n",
    "else:\n",
    "    print(n1,\" is equal to \",n2)\n",
    "\n",
    "#Ternary operator\n",
    "result = (\" greater than \" if n1>n2 else \" smaller than \" if n1<n2 else \" is equal to \")\n",
    "print(n1,result,n2)"
   ]
  },
  {
   "cell_type": "code",
   "execution_count": 103,
   "metadata": {
    "colab": {},
    "colab_type": "code",
    "id": "LR6TVB-DdOPf"
   },
   "outputs": [
    {
     "name": "stdout",
     "output_type": "stream",
     "text": [
      "Number 1 = 4\n",
      "Number 2 = 5\n",
      "Number 3 = 7\n",
      "7  greater than  5  and  4\n",
      "7 greater than 5 and 4\n"
     ]
    }
   ],
   "source": [
    "#W A P which takes three numbers from the user and prints below output:-\n",
    "#     1. num1 is greater than num2 and num3 if num1 is greater than num2 and num3\n",
    "#     2. num2 is greater than num1 and num3 if num2 is greater than num1 and num3\n",
    "#     3. num3 is greater than num1 and num2 if num3 is greater than num1 and num2\n",
    "\n",
    "#Note:- 1. Do this problem using if - elif - else \n",
    "#       2. Do this using ternary operator\n",
    "\n",
    "# a = a if a>b else b\n",
    "# expr if cond1 else expr2 if cond2 else expr3\n",
    "n1 =int(input('Number 1 = '))\n",
    "n2 =int(input('Number 2 = '))\n",
    "n3 =int(input('Number 3 = '))\n",
    "\n",
    "if n1>n2 and n1> n3:\n",
    "    print(n1,\" greater than \",n2,\" and \",n3)\n",
    "elif n2>n1 and n2> n3:\n",
    "    print(n2,\" greater than \",n1,\" and \",n3)\n",
    "elif n3>n2 and n3> n1:\n",
    "    print(n3,\" greater than \",n2,\" and \",n1)\n",
    "\n",
    "    \n",
    "#Ternary operator\n",
    "st = \" greater than \"\n",
    "print(str(n1)+st+str(n2)+\" and \"+str(n3) if n1>n2 and n1>n3 \\\n",
    "      else str(n2)+st+str(n1)+\" and \"+str(n3) if n2>n1 and n2>n3 \\\n",
    "      else str(n3)+st+str(n2)+\" and \"+str(n1))"
   ]
  },
  {
   "cell_type": "markdown",
   "metadata": {
    "colab_type": "text",
    "id": "IoOLQMUGdSox"
   },
   "source": [
    "# Loops - for loop, while loop"
   ]
  },
  {
   "cell_type": "code",
   "execution_count": 65,
   "metadata": {
    "colab": {},
    "colab_type": "code",
    "id": "9K23Uld8dQfA"
   },
   "outputs": [
    {
     "name": "stdout",
     "output_type": "stream",
     "text": [
      "Input:-Write a Python program to find the length of the my_str\n",
      "55\n"
     ]
    }
   ],
   "source": [
    "#Write a Python program to find the length of the my_str using loop:-\n",
    "\n",
    "#Input:- 'Write a Python program to find the length of the my_str'\n",
    "#Output:- 55\n",
    "\n",
    "l=0\n",
    "s = input('Input:-').replace(\"'\",\"\")\n",
    "for i in s:\n",
    "    l += 1 \n",
    "print(l)"
   ]
  },
  {
   "cell_type": "code",
   "execution_count": 66,
   "metadata": {
    "colab": {},
    "colab_type": "code",
    "id": "bp6AcqTsdYxy"
   },
   "outputs": [
    {
     "name": "stdout",
     "output_type": "stream",
     "text": [
      "Input:-'peter piper picked a peck of pickled peppers.\\n'\n",
      "9\n"
     ]
    }
   ],
   "source": [
    "#Write a Python program to find the total number of times letter 'p' is appeared in the below string using loop:-\n",
    "    \n",
    "#Input:- 'peter piper picked a peck of pickled peppers.\\n'\n",
    "#Output:- 9\n",
    "\n",
    "c=0\n",
    "s = input('Input:-').replace(\"'\",\"\")\n",
    "for i in s:\n",
    "    if i == 'p':\n",
    "        c += 1 \n",
    "print(c)"
   ]
  },
  {
   "cell_type": "code",
   "execution_count": 64,
   "metadata": {
    "colab": {},
    "colab_type": "code",
    "id": "xvxSBhTJdav1"
   },
   "outputs": [
    {
     "name": "stdout",
     "output_type": "stream",
     "text": [
      "Input:-'peter piper picked a peck of pickled peppers.'\n",
      "0\n",
      "6\n",
      "8\n",
      "12\n",
      "21\n",
      "29\n",
      "37\n",
      "39\n",
      "40\n"
     ]
    }
   ],
   "source": [
    "#Write a Python Program, to print all the indexes of all occurences of letter 'p' appeared in the string using loop:-\n",
    "    \n",
    "#Input:- 'peter piper picked a peck of pickled peppers.'\n",
    "#Output:- \n",
    "# 0\n",
    "# 6\n",
    "# 8\n",
    "# 12\n",
    "# 21\n",
    "# 29\n",
    "# 37\n",
    "# 39\n",
    "# 40\n",
    "\n",
    "s = input('Input:-').replace(\"'\",\"\")\n",
    "for i in range(len(s)):\n",
    "    if s[i] == 'p':\n",
    "        print(i)"
   ]
  },
  {
   "cell_type": "code",
   "execution_count": 73,
   "metadata": {
    "colab": {},
    "colab_type": "code",
    "id": "79L_feMadbmw"
   },
   "outputs": [
    {
     "name": "stdout",
     "output_type": "stream",
     "text": [
      "Input:-peter piper picked a peck of pickled peppers.\n",
      "['peter', 'piper', 'picked', 'a', 'peck', 'of', 'pickled', 'peppers']\n"
     ]
    }
   ],
   "source": [
    "#Write a python program to find below output using loop:-\n",
    "\n",
    "#Input:- 'peter piper picked a peck of pickled peppers.'\n",
    "#Output:- ['peter', 'piper', 'picked', 'a', 'peck', 'of', 'pickled', 'peppers']\n",
    "\n",
    "s = input('Input:-').replace(\"'\",\"\")\n",
    "lst = []\n",
    "p = 0\n",
    "for i in range(len(s)):\n",
    "    if s[i] == ' ' or s[i] == '.':\n",
    "        lst.append(s[p:i])\n",
    "        p = i + 1\n",
    "print(lst)"
   ]
  },
  {
   "cell_type": "code",
   "execution_count": 74,
   "metadata": {
    "colab": {},
    "colab_type": "code",
    "id": "vzs5AJ53deVS"
   },
   "outputs": [
    {
     "name": "stdout",
     "output_type": "stream",
     "text": [
      "Input:-'peter piper picked a peck of pickled peppers.'\n",
      "peppers pickled of peck a picked piper peter\n"
     ]
    }
   ],
   "source": [
    "#Write a python program to find below output using loop:-\n",
    "\n",
    "#Input:- 'peter piper picked a peck of pickled peppers.'\n",
    "#Output:- 'peppers pickled of peck a picked piper peter'\n",
    "\n",
    "s = input('Input:-').replace(\"'\",\"\")\n",
    "lst = []\n",
    "p = 0\n",
    "for i in range(len(s)):\n",
    "    if s[i] == ' ' or s[i] == '.':\n",
    "        lst.append(s[p:i])\n",
    "        p = i + 1\n",
    "print(' '.join(lst[::-1]))"
   ]
  },
  {
   "cell_type": "code",
   "execution_count": 76,
   "metadata": {
    "colab": {},
    "colab_type": "code",
    "id": "i-HP7DrCdhwS"
   },
   "outputs": [
    {
     "name": "stdout",
     "output_type": "stream",
     "text": [
      "Input:-'peter piper picked a peck of pickled peppers.'\n",
      ".sreppep delkcip fo kcep a dekcip repip retep"
     ]
    }
   ],
   "source": [
    "#Write a python program to find below output using loop:-\n",
    "\n",
    "#Input:- 'peter piper picked a peck of pickled peppers.'\n",
    "#Output:- '.sreppep delkcip fo kcep a dekcip repip retep'\n",
    "\n",
    "s = input('Input:-').replace(\"'\",\"\")\n",
    "for i in s[::-1]:\n",
    "    print(i,end='')"
   ]
  },
  {
   "cell_type": "code",
   "execution_count": 77,
   "metadata": {
    "colab": {},
    "colab_type": "code",
    "id": "3rt6p0ytdkq0"
   },
   "outputs": [
    {
     "name": "stdout",
     "output_type": "stream",
     "text": [
      "Input:-'peter piper picked a peck of pickled peppers.'\n",
      "retep repip dekcip a kcep fo delkcip sreppep\n"
     ]
    }
   ],
   "source": [
    "#Write a python program to find below output using loop:-\n",
    "\n",
    "#Input:- 'peter piper picked a peck of pickled peppers.'\n",
    "#Output:- 'retep repip dekcip a kcep fo delkcip sreppep'\n",
    "s = input('Input:-').replace(\"'\",\"\")\n",
    "lst = []\n",
    "p = 0\n",
    "for i in range(len(s)):\n",
    "    if s[i] == ' ' or s[i] == '.':\n",
    "        lst.append(s[p:i])\n",
    "        p = i + 1\n",
    "\n",
    "for i in range(len(lst)):\n",
    "    lst[i] = lst[i][::-1]\n",
    "print(' '.join(lst))"
   ]
  },
  {
   "cell_type": "code",
   "execution_count": 81,
   "metadata": {
    "colab": {},
    "colab_type": "code",
    "id": "HdlAWgT2dnKO"
   },
   "outputs": [
    {
     "name": "stdout",
     "output_type": "stream",
     "text": [
      "Input:-'peter piper picked a peck of pickled peppers.'\n",
      "Peter Piper Picked A Peck Of Pickled Peppers\n"
     ]
    }
   ],
   "source": [
    "#Write a python program to find below output using loop:-\n",
    "\n",
    "#Input:- 'peter piper picked a peck of pickled peppers.'\n",
    "#Output:- 'Peter Piper Picked A Peck Of Pickled Peppers'\n",
    "s = input('Input:-').replace(\"'\",\"\")\n",
    "lst = []\n",
    "p = 0\n",
    "for i in range(len(s)):\n",
    "    if s[i] == ' ' or s[i] == '.':\n",
    "        lst.append(s[p:i])\n",
    "        p = i + 1\n",
    "    \n",
    "for i in range(len(lst)):\n",
    "    lst[i] = lst[i][0].upper() + lst[i][1:]\n",
    "print(' '.join(lst))"
   ]
  },
  {
   "cell_type": "code",
   "execution_count": 63,
   "metadata": {
    "colab": {},
    "colab_type": "code",
    "id": "OthUuacodrNl"
   },
   "outputs": [
    {
     "name": "stdout",
     "output_type": "stream",
     "text": [
      "Input:- 'Peter Piper Picked A Peck Of Pickled Peppers.'\n",
      "Peter piper picked a peck of pickled peppers\n"
     ]
    }
   ],
   "source": [
    "#Write a python program to find below output using loop:-\n",
    "\n",
    "#Input:- 'Peter Piper Picked A Peck Of Pickled Peppers.'\n",
    "#Output:- 'Peter piper picked a peck of pickled peppers'\n",
    "import re\n",
    "s=''\n",
    "i = input('Input:- ').replace(\"'\",\"\")\n",
    "if (ord(i[0]) >= 97 and ord(i[0]) <= 122):\n",
    "    s = chr(ord(i[0])-32)\n",
    "else:\n",
    "    s = i[0]\n",
    "\n",
    "for j in i[1:]:\n",
    "    if (ord(j) >= 65 and ord(j) <= 90):\n",
    "        s += chr(ord(j) +32)\n",
    "    else:\n",
    "        s += j\n",
    "print(s.replace('.',''))"
   ]
  },
  {
   "cell_type": "code",
   "execution_count": 53,
   "metadata": {
    "colab": {
     "base_uri": "https://localhost:8080/",
     "height": 34
    },
    "colab_type": "code",
    "id": "scmDJE-ldsI9",
    "outputId": "4b1d1979-9f4a-4bc6-c505-b88b1bbd4d5d"
   },
   "outputs": [
    {
     "name": "stdout",
     "output_type": "stream",
     "text": [
      "Input:- my_str = 'Peter Piper Picked A Peck Of Pickled Peppers.', sub_str = 'Pickl'\n",
      "29\n"
     ]
    }
   ],
   "source": [
    "#Write a python program to implement index method using loop. If sub_str is found in my_str then it will print the index\n",
    "# of first occurrence of first character of matching string in my_str:-\n",
    "\n",
    "#Input:- my_str = 'Peter Piper Picked A Peck Of Pickled Peppers.', sub_str = 'Pickl'\n",
    "#Output:- 29\n",
    "\n",
    "i = input('Input:- ').replace(\"'\",\"\")\n",
    "l1 = i.split(', ')\n",
    "res = l1[0].split('= ')[1]\n",
    "substr = l1[1].split('= ')[1]\n",
    "l = len(substr)\n",
    "j = 0\n",
    "b = False\n",
    "if substr in res:\n",
    "    while j < len(res):\n",
    "        if res[j] == substr[0]:\n",
    "            b = (res[j:j+l]==substr)\n",
    "            if (res[j:j+l]==substr):\n",
    "                break\n",
    "        j += 1\n",
    "print(j)"
   ]
  },
  {
   "cell_type": "code",
   "execution_count": 46,
   "metadata": {
    "colab": {},
    "colab_type": "code",
    "id": "Kq_fwdb_dvYE"
   },
   "outputs": [
    {
     "name": "stdout",
     "output_type": "stream",
     "text": [
      "Input:- my_str = 'Peter Piper Picked A Peck Of Pickled Peppers.', sub_str = 'Peck', new_str = 'Pack'\n",
      "Peter Piper Picked A Pack Of Pickled Peppers.\n"
     ]
    }
   ],
   "source": [
    "#Write a python program to implement replace method using loop. If sub_str is found in my_str then it will replace the first \n",
    "#occurrence of sub_str with new_str else it will will print sub_str not found:-\n",
    "\n",
    "#Input:- my_str = 'Peter Piper Picked A Peck Of Pickled Peppers.', sub_str = 'Peck', new_str = 'Pack'\n",
    "#Output:- 'Peter Piper Picked A Pack Of Pickled Peppers.'\n",
    "\n",
    "i = input('Input:- ').replace(\"'\",\"\")\n",
    "l1 = i.split(', ')\n",
    "#print(l1)\n",
    "substr = l1[1].split('= ')[1]\n",
    "newstr = l1[2].split('= ')[1]\n",
    "res = l1[0].split('= ')[1]\n",
    "# print(substr)\n",
    "# print(newstr)\n",
    "# print(res)\n",
    "if substr in res:\n",
    "    print(res.replace(substr,newstr))\n"
   ]
  },
  {
   "cell_type": "code",
   "execution_count": 31,
   "metadata": {
    "colab": {},
    "colab_type": "code",
    "id": "4Qes5D0cdyd1"
   },
   "outputs": [
    {
     "name": "stdout",
     "output_type": "stream",
     "text": [
      "Input:- 'Peter Piper Picked A Peck Of Pickled Peppers.', sub_str = 'Peck'\n",
      "*********************Peck********************\n"
     ]
    }
   ],
   "source": [
    "#Write a python program to find below output (implements rjust and ljust) using loop:-\n",
    "\n",
    "#Input:- 'Peter Piper Picked A Peck Of Pickled Peppers.', sub_str = 'Peck', \n",
    "#Output:- '*********************Peck********************'\n",
    "           \n",
    "i = input('Input:- ').replace(\"'\",\"\")\n",
    "l1 = i.split(',')\n",
    "sep = l1[1].rsplit('= ')[1]\n",
    "n_s =''\n",
    "j=0\n",
    "while j < l1[0].index(sep):\n",
    "    n_s += '*'\n",
    "    j += 1\n",
    "n_s += sep\n",
    "j += len(sep)\n",
    "while j < len(l1[0]):\n",
    "    n_s += '*'\n",
    "    j += 1\n",
    "\n",
    "print(n_s)"
   ]
  },
  {
   "cell_type": "code",
   "execution_count": 28,
   "metadata": {
    "colab": {},
    "colab_type": "code",
    "id": "DsOrb07Od0lR"
   },
   "outputs": [
    {
     "name": "stdout",
     "output_type": "stream",
     "text": [
      "Input:- 'This is Python class', sep = 'is',\n",
      "['This', 'is', 'Python class']\n"
     ]
    }
   ],
   "source": [
    "#Write a python program to find below output using loop:-\n",
    "\n",
    "#Input:- 'This is Python class', sep = 'is', \n",
    "#Output:- ['This', 'is', 'Python class']\n",
    "\n",
    "i = input('Input:- ').replace(\"'\",\"\")\n",
    "l1 = i.split(',')\n",
    "\n",
    "#print(l1)\n",
    "sep = l1[1].rsplit('= ')[1]\n",
    "#print(sep)\n",
    "result = l1[0].split(' '+sep+' ')\n",
    "#print(result)\n",
    "j = 1\n",
    "while j < len(result):    ##hile function to pick up length of list dynamically In range it is static\n",
    "    result.insert(j,sep)\n",
    "    j += 2\n",
    "print(result)"
   ]
  },
  {
   "cell_type": "code",
   "execution_count": 11,
   "metadata": {
    "colab": {},
    "colab_type": "code",
    "id": "jRnBVufmd2Ay"
   },
   "outputs": [
    {
     "name": "stdout",
     "output_type": "stream",
     "text": [
      "Input:- Python\n",
      "R{vjqp\n",
      "Input:- Python\n",
      "Rwvfql\n",
      "Input:- Python\n",
      "R{vkfml\n"
     ]
    }
   ],
   "source": [
    "#Write a python program which takes one input string from user and encode it in below format:-\n",
    "    # 1. #Input:- 'Python'\n",
    "       #Output:- 'R{vjqp'\n",
    "\n",
    "a = 0    \n",
    "r = ''\n",
    "s = input('Input:- ')\n",
    "for i in s:\n",
    "    a = ord(i)\n",
    "    a += 2\n",
    "    r += chr(a)\n",
    "print(r)\n",
    "        \n",
    "\n",
    "    # 2. #Input:- 'Python'\n",
    "       #Output:- 'Rwvfql'\n",
    "        \n",
    "a = 0    \n",
    "r = ''\n",
    "s = input('Input:- ')\n",
    "for i in range(len(s)):\n",
    "    if i%2==0:\n",
    "        a = ord(s[i])\n",
    "        a += 2\n",
    "        r += chr(a)\n",
    "    else:\n",
    "        a = ord(s[i])\n",
    "        a -= 2\n",
    "        r += chr(a)\n",
    "print(r)\n",
    "        \n",
    "        \n",
    "        \n",
    "    # 3. #Input:- 'Python'\n",
    "       #Output:- 'R{vkfml'   ## assuming that 'k' needs to be hardcoded in middle\n",
    "a = 0    \n",
    "r = ''\n",
    "s = input('Input:- ')\n",
    "l = len(s)\n",
    "for i in range(l//2):\n",
    "    a = ord(s[i])\n",
    "    a += 2\n",
    "    r += chr(a)\n",
    "r +='k'\n",
    "for i in range(l//2,l):\n",
    "    a = ord(s[i])\n",
    "    a -= 2\n",
    "    r += chr(a)\n",
    "print(r)\n"
   ]
  }
 ],
 "metadata": {
  "colab": {
   "name": "Conditional_and_loop_assignment.ipynb",
   "provenance": []
  },
  "kernelspec": {
   "display_name": "Python 3",
   "language": "python",
   "name": "python3"
  },
  "language_info": {
   "codemirror_mode": {
    "name": "ipython",
    "version": 3
   },
   "file_extension": ".py",
   "mimetype": "text/x-python",
   "name": "python",
   "nbconvert_exporter": "python",
   "pygments_lexer": "ipython3",
   "version": "3.8.2"
  }
 },
 "nbformat": 4,
 "nbformat_minor": 1
}
